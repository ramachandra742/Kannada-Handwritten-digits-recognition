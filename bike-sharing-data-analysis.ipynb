{
 "cells": [
  {
   "cell_type": "markdown",
   "metadata": {},
   "source": [
    "\n",
    "**The Bike sharing platforms from across the world are hotspots of all sorts of data, ranging from travel time, start and end location,weather conditions,traffic , demographics of riders, and son on.\n",
    "The bike sharing dataset which is used for current data analysis, contains bike sharing details with weather information.**"
   ]
  },
  {
   "cell_type": "markdown",
   "metadata": {},
   "source": [
    "The bike sharing dataset contains hour level and day level data. The day level data is considered for the current data analysis."
   ]
  },
  {
   "cell_type": "code",
   "execution_count": 1,
   "metadata": {
    "_cell_guid": "b1076dfc-b9ad-4769-8c92-a6c4dae69d19",
    "_uuid": "8f2839f25d086af736a60e9eeb907d3b93b6e0e5"
   },
   "outputs": [
    {
     "name": "stdout",
     "output_type": "stream",
     "text": [
      "['Readme.txt', 'day.csv', 'hour.csv']\n"
     ]
    }
   ],
   "source": [
    "import numpy as np \n",
    "import pandas as pd\n",
    "import matplotlib.pyplot as plt\n",
    "import seaborn as sn\n",
    "import warnings\n",
    "warnings.filterwarnings('ignore')\n",
    "import os\n",
    "print(os.listdir(\"../input\"))\n",
    "\n"
   ]
  },
  {
   "cell_type": "markdown",
   "metadata": {},
   "source": [
    "**Preprocessing**\n"
   ]
  },
  {
   "cell_type": "markdown",
   "metadata": {},
   "source": [
    "\n",
    "\n",
    "Load the day level data"
   ]
  },
  {
   "cell_type": "code",
   "execution_count": 2,
   "metadata": {
    "_cell_guid": "79c7e3d0-c299-4dcb-8224-4455121ee9b0",
    "_uuid": "d629ff2d2480ee46fbb7e2d37f6b5fab8052498a"
   },
   "outputs": [
    {
     "data": {
      "text/plain": [
       "(731, 16)"
      ]
     },
     "execution_count": 2,
     "metadata": {},
     "output_type": "execute_result"
    }
   ],
   "source": [
    "Bike_df=pd.read_csv(\"../input/day.csv\")\n",
    "Bike_df.shape\n"
   ]
  },
  {
   "cell_type": "markdown",
   "metadata": {},
   "source": [
    "\n",
    "\n",
    "The dataset contains 731 observations with 16 attributes. Let's check top few rows to see how the data looks."
   ]
  },
  {
   "cell_type": "code",
   "execution_count": 3,
   "metadata": {},
   "outputs": [
    {
     "data": {
      "text/html": [
       "<div>\n",
       "<style scoped>\n",
       "    .dataframe tbody tr th:only-of-type {\n",
       "        vertical-align: middle;\n",
       "    }\n",
       "\n",
       "    .dataframe tbody tr th {\n",
       "        vertical-align: top;\n",
       "    }\n",
       "\n",
       "    .dataframe thead th {\n",
       "        text-align: right;\n",
       "    }\n",
       "</style>\n",
       "<table border=\"1\" class=\"dataframe\">\n",
       "  <thead>\n",
       "    <tr style=\"text-align: right;\">\n",
       "      <th></th>\n",
       "      <th>instant</th>\n",
       "      <th>dteday</th>\n",
       "      <th>season</th>\n",
       "      <th>yr</th>\n",
       "      <th>mnth</th>\n",
       "      <th>holiday</th>\n",
       "      <th>weekday</th>\n",
       "      <th>workingday</th>\n",
       "      <th>weathersit</th>\n",
       "      <th>temp</th>\n",
       "      <th>atemp</th>\n",
       "      <th>hum</th>\n",
       "      <th>windspeed</th>\n",
       "      <th>casual</th>\n",
       "      <th>registered</th>\n",
       "      <th>cnt</th>\n",
       "    </tr>\n",
       "  </thead>\n",
       "  <tbody>\n",
       "    <tr>\n",
       "      <td>0</td>\n",
       "      <td>1</td>\n",
       "      <td>2011-01-01</td>\n",
       "      <td>1</td>\n",
       "      <td>0</td>\n",
       "      <td>1</td>\n",
       "      <td>0</td>\n",
       "      <td>6</td>\n",
       "      <td>0</td>\n",
       "      <td>2</td>\n",
       "      <td>0.344167</td>\n",
       "      <td>0.363625</td>\n",
       "      <td>0.805833</td>\n",
       "      <td>0.160446</td>\n",
       "      <td>331</td>\n",
       "      <td>654</td>\n",
       "      <td>985</td>\n",
       "    </tr>\n",
       "    <tr>\n",
       "      <td>1</td>\n",
       "      <td>2</td>\n",
       "      <td>2011-01-02</td>\n",
       "      <td>1</td>\n",
       "      <td>0</td>\n",
       "      <td>1</td>\n",
       "      <td>0</td>\n",
       "      <td>0</td>\n",
       "      <td>0</td>\n",
       "      <td>2</td>\n",
       "      <td>0.363478</td>\n",
       "      <td>0.353739</td>\n",
       "      <td>0.696087</td>\n",
       "      <td>0.248539</td>\n",
       "      <td>131</td>\n",
       "      <td>670</td>\n",
       "      <td>801</td>\n",
       "    </tr>\n",
       "    <tr>\n",
       "      <td>2</td>\n",
       "      <td>3</td>\n",
       "      <td>2011-01-03</td>\n",
       "      <td>1</td>\n",
       "      <td>0</td>\n",
       "      <td>1</td>\n",
       "      <td>0</td>\n",
       "      <td>1</td>\n",
       "      <td>1</td>\n",
       "      <td>1</td>\n",
       "      <td>0.196364</td>\n",
       "      <td>0.189405</td>\n",
       "      <td>0.437273</td>\n",
       "      <td>0.248309</td>\n",
       "      <td>120</td>\n",
       "      <td>1229</td>\n",
       "      <td>1349</td>\n",
       "    </tr>\n",
       "    <tr>\n",
       "      <td>3</td>\n",
       "      <td>4</td>\n",
       "      <td>2011-01-04</td>\n",
       "      <td>1</td>\n",
       "      <td>0</td>\n",
       "      <td>1</td>\n",
       "      <td>0</td>\n",
       "      <td>2</td>\n",
       "      <td>1</td>\n",
       "      <td>1</td>\n",
       "      <td>0.200000</td>\n",
       "      <td>0.212122</td>\n",
       "      <td>0.590435</td>\n",
       "      <td>0.160296</td>\n",
       "      <td>108</td>\n",
       "      <td>1454</td>\n",
       "      <td>1562</td>\n",
       "    </tr>\n",
       "    <tr>\n",
       "      <td>4</td>\n",
       "      <td>5</td>\n",
       "      <td>2011-01-05</td>\n",
       "      <td>1</td>\n",
       "      <td>0</td>\n",
       "      <td>1</td>\n",
       "      <td>0</td>\n",
       "      <td>3</td>\n",
       "      <td>1</td>\n",
       "      <td>1</td>\n",
       "      <td>0.226957</td>\n",
       "      <td>0.229270</td>\n",
       "      <td>0.436957</td>\n",
       "      <td>0.186900</td>\n",
       "      <td>82</td>\n",
       "      <td>1518</td>\n",
       "      <td>1600</td>\n",
       "    </tr>\n",
       "    <tr>\n",
       "      <td>5</td>\n",
       "      <td>6</td>\n",
       "      <td>2011-01-06</td>\n",
       "      <td>1</td>\n",
       "      <td>0</td>\n",
       "      <td>1</td>\n",
       "      <td>0</td>\n",
       "      <td>4</td>\n",
       "      <td>1</td>\n",
       "      <td>1</td>\n",
       "      <td>0.204348</td>\n",
       "      <td>0.233209</td>\n",
       "      <td>0.518261</td>\n",
       "      <td>0.089565</td>\n",
       "      <td>88</td>\n",
       "      <td>1518</td>\n",
       "      <td>1606</td>\n",
       "    </tr>\n",
       "    <tr>\n",
       "      <td>6</td>\n",
       "      <td>7</td>\n",
       "      <td>2011-01-07</td>\n",
       "      <td>1</td>\n",
       "      <td>0</td>\n",
       "      <td>1</td>\n",
       "      <td>0</td>\n",
       "      <td>5</td>\n",
       "      <td>1</td>\n",
       "      <td>2</td>\n",
       "      <td>0.196522</td>\n",
       "      <td>0.208839</td>\n",
       "      <td>0.498696</td>\n",
       "      <td>0.168726</td>\n",
       "      <td>148</td>\n",
       "      <td>1362</td>\n",
       "      <td>1510</td>\n",
       "    </tr>\n",
       "    <tr>\n",
       "      <td>7</td>\n",
       "      <td>8</td>\n",
       "      <td>2011-01-08</td>\n",
       "      <td>1</td>\n",
       "      <td>0</td>\n",
       "      <td>1</td>\n",
       "      <td>0</td>\n",
       "      <td>6</td>\n",
       "      <td>0</td>\n",
       "      <td>2</td>\n",
       "      <td>0.165000</td>\n",
       "      <td>0.162254</td>\n",
       "      <td>0.535833</td>\n",
       "      <td>0.266804</td>\n",
       "      <td>68</td>\n",
       "      <td>891</td>\n",
       "      <td>959</td>\n",
       "    </tr>\n",
       "    <tr>\n",
       "      <td>8</td>\n",
       "      <td>9</td>\n",
       "      <td>2011-01-09</td>\n",
       "      <td>1</td>\n",
       "      <td>0</td>\n",
       "      <td>1</td>\n",
       "      <td>0</td>\n",
       "      <td>0</td>\n",
       "      <td>0</td>\n",
       "      <td>1</td>\n",
       "      <td>0.138333</td>\n",
       "      <td>0.116175</td>\n",
       "      <td>0.434167</td>\n",
       "      <td>0.361950</td>\n",
       "      <td>54</td>\n",
       "      <td>768</td>\n",
       "      <td>822</td>\n",
       "    </tr>\n",
       "    <tr>\n",
       "      <td>9</td>\n",
       "      <td>10</td>\n",
       "      <td>2011-01-10</td>\n",
       "      <td>1</td>\n",
       "      <td>0</td>\n",
       "      <td>1</td>\n",
       "      <td>0</td>\n",
       "      <td>1</td>\n",
       "      <td>1</td>\n",
       "      <td>1</td>\n",
       "      <td>0.150833</td>\n",
       "      <td>0.150888</td>\n",
       "      <td>0.482917</td>\n",
       "      <td>0.223267</td>\n",
       "      <td>41</td>\n",
       "      <td>1280</td>\n",
       "      <td>1321</td>\n",
       "    </tr>\n",
       "  </tbody>\n",
       "</table>\n",
       "</div>"
      ],
      "text/plain": [
       "   instant      dteday  season  yr  mnth  holiday  weekday  workingday  \\\n",
       "0        1  2011-01-01       1   0     1        0        6           0   \n",
       "1        2  2011-01-02       1   0     1        0        0           0   \n",
       "2        3  2011-01-03       1   0     1        0        1           1   \n",
       "3        4  2011-01-04       1   0     1        0        2           1   \n",
       "4        5  2011-01-05       1   0     1        0        3           1   \n",
       "5        6  2011-01-06       1   0     1        0        4           1   \n",
       "6        7  2011-01-07       1   0     1        0        5           1   \n",
       "7        8  2011-01-08       1   0     1        0        6           0   \n",
       "8        9  2011-01-09       1   0     1        0        0           0   \n",
       "9       10  2011-01-10       1   0     1        0        1           1   \n",
       "\n",
       "   weathersit      temp     atemp       hum  windspeed  casual  registered  \\\n",
       "0           2  0.344167  0.363625  0.805833   0.160446     331         654   \n",
       "1           2  0.363478  0.353739  0.696087   0.248539     131         670   \n",
       "2           1  0.196364  0.189405  0.437273   0.248309     120        1229   \n",
       "3           1  0.200000  0.212122  0.590435   0.160296     108        1454   \n",
       "4           1  0.226957  0.229270  0.436957   0.186900      82        1518   \n",
       "5           1  0.204348  0.233209  0.518261   0.089565      88        1518   \n",
       "6           2  0.196522  0.208839  0.498696   0.168726     148        1362   \n",
       "7           2  0.165000  0.162254  0.535833   0.266804      68         891   \n",
       "8           1  0.138333  0.116175  0.434167   0.361950      54         768   \n",
       "9           1  0.150833  0.150888  0.482917   0.223267      41        1280   \n",
       "\n",
       "    cnt  \n",
       "0   985  \n",
       "1   801  \n",
       "2  1349  \n",
       "3  1562  \n",
       "4  1600  \n",
       "5  1606  \n",
       "6  1510  \n",
       "7   959  \n",
       "8   822  \n",
       "9  1321  "
      ]
     },
     "execution_count": 3,
     "metadata": {},
     "output_type": "execute_result"
    }
   ],
   "source": [
    "Bike_df.head(10)"
   ]
  },
  {
   "cell_type": "markdown",
   "metadata": {},
   "source": [
    "Next, we need to check what datatypes the pandas has inferred & if any of the features require data conversions."
   ]
  },
  {
   "cell_type": "code",
   "execution_count": 4,
   "metadata": {},
   "outputs": [
    {
     "data": {
      "text/plain": [
       "instant         int64\n",
       "dteday         object\n",
       "season          int64\n",
       "yr              int64\n",
       "mnth            int64\n",
       "holiday         int64\n",
       "weekday         int64\n",
       "workingday      int64\n",
       "weathersit      int64\n",
       "temp          float64\n",
       "atemp         float64\n",
       "hum           float64\n",
       "windspeed     float64\n",
       "casual          int64\n",
       "registered      int64\n",
       "cnt             int64\n",
       "dtype: object"
      ]
     },
     "execution_count": 4,
     "metadata": {},
     "output_type": "execute_result"
    }
   ],
   "source": [
    "Bike_df.dtypes"
   ]
  },
  {
   "cell_type": "markdown",
   "metadata": {},
   "source": [
    "The attribute **dteday** would require type conversion from **object** or **string** type to **timestamp**. Attributes like season, holiday, workingday, & so on are require type conversion from **integer** to **categorical** for proper understanding.\n",
    "To make the data more understandable, clean up the attribute names."
   ]
  },
  {
   "cell_type": "code",
   "execution_count": 5,
   "metadata": {},
   "outputs": [],
   "source": [
    "#clean up attribute names\n",
    "Bike_df.rename(columns={'instant':'rec_id',\n",
    "                        'dteday':'datetime',\n",
    "                        'holiday':'is_holiday',\n",
    "                        'workingday':'is_workingday',\n",
    "                       'weathersit':'weather_condition',\n",
    "                       'hum':'humidity',\n",
    "                       'mnth':'month',\n",
    "                       'cnt':'total_count',\n",
    "                       'yr':'year'},inplace=True)"
   ]
  },
  {
   "cell_type": "code",
   "execution_count": 6,
   "metadata": {},
   "outputs": [
    {
     "data": {
      "text/html": [
       "<div>\n",
       "<style scoped>\n",
       "    .dataframe tbody tr th:only-of-type {\n",
       "        vertical-align: middle;\n",
       "    }\n",
       "\n",
       "    .dataframe tbody tr th {\n",
       "        vertical-align: top;\n",
       "    }\n",
       "\n",
       "    .dataframe thead th {\n",
       "        text-align: right;\n",
       "    }\n",
       "</style>\n",
       "<table border=\"1\" class=\"dataframe\">\n",
       "  <thead>\n",
       "    <tr style=\"text-align: right;\">\n",
       "      <th></th>\n",
       "      <th>rec_id</th>\n",
       "      <th>datetime</th>\n",
       "      <th>season</th>\n",
       "      <th>year</th>\n",
       "      <th>month</th>\n",
       "      <th>is_holiday</th>\n",
       "      <th>weekday</th>\n",
       "      <th>is_workingday</th>\n",
       "      <th>weather_condition</th>\n",
       "      <th>temp</th>\n",
       "      <th>atemp</th>\n",
       "      <th>humidity</th>\n",
       "      <th>windspeed</th>\n",
       "      <th>casual</th>\n",
       "      <th>registered</th>\n",
       "      <th>total_count</th>\n",
       "    </tr>\n",
       "  </thead>\n",
       "  <tbody>\n",
       "    <tr>\n",
       "      <td>0</td>\n",
       "      <td>1</td>\n",
       "      <td>2011-01-01</td>\n",
       "      <td>1</td>\n",
       "      <td>0</td>\n",
       "      <td>1</td>\n",
       "      <td>0</td>\n",
       "      <td>6</td>\n",
       "      <td>0</td>\n",
       "      <td>2</td>\n",
       "      <td>0.344167</td>\n",
       "      <td>0.363625</td>\n",
       "      <td>0.805833</td>\n",
       "      <td>0.160446</td>\n",
       "      <td>331</td>\n",
       "      <td>654</td>\n",
       "      <td>985</td>\n",
       "    </tr>\n",
       "    <tr>\n",
       "      <td>1</td>\n",
       "      <td>2</td>\n",
       "      <td>2011-01-02</td>\n",
       "      <td>1</td>\n",
       "      <td>0</td>\n",
       "      <td>1</td>\n",
       "      <td>0</td>\n",
       "      <td>0</td>\n",
       "      <td>0</td>\n",
       "      <td>2</td>\n",
       "      <td>0.363478</td>\n",
       "      <td>0.353739</td>\n",
       "      <td>0.696087</td>\n",
       "      <td>0.248539</td>\n",
       "      <td>131</td>\n",
       "      <td>670</td>\n",
       "      <td>801</td>\n",
       "    </tr>\n",
       "    <tr>\n",
       "      <td>2</td>\n",
       "      <td>3</td>\n",
       "      <td>2011-01-03</td>\n",
       "      <td>1</td>\n",
       "      <td>0</td>\n",
       "      <td>1</td>\n",
       "      <td>0</td>\n",
       "      <td>1</td>\n",
       "      <td>1</td>\n",
       "      <td>1</td>\n",
       "      <td>0.196364</td>\n",
       "      <td>0.189405</td>\n",
       "      <td>0.437273</td>\n",
       "      <td>0.248309</td>\n",
       "      <td>120</td>\n",
       "      <td>1229</td>\n",
       "      <td>1349</td>\n",
       "    </tr>\n",
       "    <tr>\n",
       "      <td>3</td>\n",
       "      <td>4</td>\n",
       "      <td>2011-01-04</td>\n",
       "      <td>1</td>\n",
       "      <td>0</td>\n",
       "      <td>1</td>\n",
       "      <td>0</td>\n",
       "      <td>2</td>\n",
       "      <td>1</td>\n",
       "      <td>1</td>\n",
       "      <td>0.200000</td>\n",
       "      <td>0.212122</td>\n",
       "      <td>0.590435</td>\n",
       "      <td>0.160296</td>\n",
       "      <td>108</td>\n",
       "      <td>1454</td>\n",
       "      <td>1562</td>\n",
       "    </tr>\n",
       "    <tr>\n",
       "      <td>4</td>\n",
       "      <td>5</td>\n",
       "      <td>2011-01-05</td>\n",
       "      <td>1</td>\n",
       "      <td>0</td>\n",
       "      <td>1</td>\n",
       "      <td>0</td>\n",
       "      <td>3</td>\n",
       "      <td>1</td>\n",
       "      <td>1</td>\n",
       "      <td>0.226957</td>\n",
       "      <td>0.229270</td>\n",
       "      <td>0.436957</td>\n",
       "      <td>0.186900</td>\n",
       "      <td>82</td>\n",
       "      <td>1518</td>\n",
       "      <td>1600</td>\n",
       "    </tr>\n",
       "    <tr>\n",
       "      <td>5</td>\n",
       "      <td>6</td>\n",
       "      <td>2011-01-06</td>\n",
       "      <td>1</td>\n",
       "      <td>0</td>\n",
       "      <td>1</td>\n",
       "      <td>0</td>\n",
       "      <td>4</td>\n",
       "      <td>1</td>\n",
       "      <td>1</td>\n",
       "      <td>0.204348</td>\n",
       "      <td>0.233209</td>\n",
       "      <td>0.518261</td>\n",
       "      <td>0.089565</td>\n",
       "      <td>88</td>\n",
       "      <td>1518</td>\n",
       "      <td>1606</td>\n",
       "    </tr>\n",
       "    <tr>\n",
       "      <td>6</td>\n",
       "      <td>7</td>\n",
       "      <td>2011-01-07</td>\n",
       "      <td>1</td>\n",
       "      <td>0</td>\n",
       "      <td>1</td>\n",
       "      <td>0</td>\n",
       "      <td>5</td>\n",
       "      <td>1</td>\n",
       "      <td>2</td>\n",
       "      <td>0.196522</td>\n",
       "      <td>0.208839</td>\n",
       "      <td>0.498696</td>\n",
       "      <td>0.168726</td>\n",
       "      <td>148</td>\n",
       "      <td>1362</td>\n",
       "      <td>1510</td>\n",
       "    </tr>\n",
       "    <tr>\n",
       "      <td>7</td>\n",
       "      <td>8</td>\n",
       "      <td>2011-01-08</td>\n",
       "      <td>1</td>\n",
       "      <td>0</td>\n",
       "      <td>1</td>\n",
       "      <td>0</td>\n",
       "      <td>6</td>\n",
       "      <td>0</td>\n",
       "      <td>2</td>\n",
       "      <td>0.165000</td>\n",
       "      <td>0.162254</td>\n",
       "      <td>0.535833</td>\n",
       "      <td>0.266804</td>\n",
       "      <td>68</td>\n",
       "      <td>891</td>\n",
       "      <td>959</td>\n",
       "    </tr>\n",
       "    <tr>\n",
       "      <td>8</td>\n",
       "      <td>9</td>\n",
       "      <td>2011-01-09</td>\n",
       "      <td>1</td>\n",
       "      <td>0</td>\n",
       "      <td>1</td>\n",
       "      <td>0</td>\n",
       "      <td>0</td>\n",
       "      <td>0</td>\n",
       "      <td>1</td>\n",
       "      <td>0.138333</td>\n",
       "      <td>0.116175</td>\n",
       "      <td>0.434167</td>\n",
       "      <td>0.361950</td>\n",
       "      <td>54</td>\n",
       "      <td>768</td>\n",
       "      <td>822</td>\n",
       "    </tr>\n",
       "    <tr>\n",
       "      <td>9</td>\n",
       "      <td>10</td>\n",
       "      <td>2011-01-10</td>\n",
       "      <td>1</td>\n",
       "      <td>0</td>\n",
       "      <td>1</td>\n",
       "      <td>0</td>\n",
       "      <td>1</td>\n",
       "      <td>1</td>\n",
       "      <td>1</td>\n",
       "      <td>0.150833</td>\n",
       "      <td>0.150888</td>\n",
       "      <td>0.482917</td>\n",
       "      <td>0.223267</td>\n",
       "      <td>41</td>\n",
       "      <td>1280</td>\n",
       "      <td>1321</td>\n",
       "    </tr>\n",
       "  </tbody>\n",
       "</table>\n",
       "</div>"
      ],
      "text/plain": [
       "   rec_id    datetime  season  year  month  is_holiday  weekday  \\\n",
       "0       1  2011-01-01       1     0      1           0        6   \n",
       "1       2  2011-01-02       1     0      1           0        0   \n",
       "2       3  2011-01-03       1     0      1           0        1   \n",
       "3       4  2011-01-04       1     0      1           0        2   \n",
       "4       5  2011-01-05       1     0      1           0        3   \n",
       "5       6  2011-01-06       1     0      1           0        4   \n",
       "6       7  2011-01-07       1     0      1           0        5   \n",
       "7       8  2011-01-08       1     0      1           0        6   \n",
       "8       9  2011-01-09       1     0      1           0        0   \n",
       "9      10  2011-01-10       1     0      1           0        1   \n",
       "\n",
       "   is_workingday  weather_condition      temp     atemp  humidity  windspeed  \\\n",
       "0              0                  2  0.344167  0.363625  0.805833   0.160446   \n",
       "1              0                  2  0.363478  0.353739  0.696087   0.248539   \n",
       "2              1                  1  0.196364  0.189405  0.437273   0.248309   \n",
       "3              1                  1  0.200000  0.212122  0.590435   0.160296   \n",
       "4              1                  1  0.226957  0.229270  0.436957   0.186900   \n",
       "5              1                  1  0.204348  0.233209  0.518261   0.089565   \n",
       "6              1                  2  0.196522  0.208839  0.498696   0.168726   \n",
       "7              0                  2  0.165000  0.162254  0.535833   0.266804   \n",
       "8              0                  1  0.138333  0.116175  0.434167   0.361950   \n",
       "9              1                  1  0.150833  0.150888  0.482917   0.223267   \n",
       "\n",
       "   casual  registered  total_count  \n",
       "0     331         654          985  \n",
       "1     131         670          801  \n",
       "2     120        1229         1349  \n",
       "3     108        1454         1562  \n",
       "4      82        1518         1600  \n",
       "5      88        1518         1606  \n",
       "6     148        1362         1510  \n",
       "7      68         891          959  \n",
       "8      54         768          822  \n",
       "9      41        1280         1321  "
      ]
     },
     "execution_count": 6,
     "metadata": {},
     "output_type": "execute_result"
    }
   ],
   "source": [
    "Bike_df.head(10)"
   ]
  },
  {
   "cell_type": "code",
   "execution_count": 7,
   "metadata": {},
   "outputs": [],
   "source": [
    "#date time conversion\n",
    "Bike_df['datetime']=pd.to_datetime(Bike_df.datetime)\n",
    "\n",
    "# Categorical variables\n",
    "Bike_df['season']=Bike_df.season.astype('category')\n",
    "Bike_df['is_holiday']=Bike_df.is_holiday.astype('category')\n",
    "Bike_df['is_workingday']=Bike_df.is_workingday.astype('category')\n",
    "Bike_df['weekday']=Bike_df.weekday.astype('category')\n",
    "Bike_df['weather_condition']=Bike_df.weather_condition.astype('category')\n",
    "Bike_df['month']=Bike_df.month.astype('category')\n",
    "Bike_df['year']=Bike_df.year.astype('category')\n"
   ]
  },
  {
   "cell_type": "code",
   "execution_count": 8,
   "metadata": {},
   "outputs": [
    {
     "data": {
      "text/html": [
       "<div>\n",
       "<style scoped>\n",
       "    .dataframe tbody tr th:only-of-type {\n",
       "        vertical-align: middle;\n",
       "    }\n",
       "\n",
       "    .dataframe tbody tr th {\n",
       "        vertical-align: top;\n",
       "    }\n",
       "\n",
       "    .dataframe thead th {\n",
       "        text-align: right;\n",
       "    }\n",
       "</style>\n",
       "<table border=\"1\" class=\"dataframe\">\n",
       "  <thead>\n",
       "    <tr style=\"text-align: right;\">\n",
       "      <th></th>\n",
       "      <th>rec_id</th>\n",
       "      <th>temp</th>\n",
       "      <th>atemp</th>\n",
       "      <th>humidity</th>\n",
       "      <th>windspeed</th>\n",
       "      <th>casual</th>\n",
       "      <th>registered</th>\n",
       "      <th>total_count</th>\n",
       "    </tr>\n",
       "  </thead>\n",
       "  <tbody>\n",
       "    <tr>\n",
       "      <td>count</td>\n",
       "      <td>731.00</td>\n",
       "      <td>731.00</td>\n",
       "      <td>731.00</td>\n",
       "      <td>731.00</td>\n",
       "      <td>731.00</td>\n",
       "      <td>731.00</td>\n",
       "      <td>731.00</td>\n",
       "      <td>731.00</td>\n",
       "    </tr>\n",
       "    <tr>\n",
       "      <td>mean</td>\n",
       "      <td>366.00</td>\n",
       "      <td>0.50</td>\n",
       "      <td>0.47</td>\n",
       "      <td>0.63</td>\n",
       "      <td>0.19</td>\n",
       "      <td>848.18</td>\n",
       "      <td>3656.17</td>\n",
       "      <td>4504.35</td>\n",
       "    </tr>\n",
       "    <tr>\n",
       "      <td>std</td>\n",
       "      <td>211.17</td>\n",
       "      <td>0.18</td>\n",
       "      <td>0.16</td>\n",
       "      <td>0.14</td>\n",
       "      <td>0.08</td>\n",
       "      <td>686.62</td>\n",
       "      <td>1560.26</td>\n",
       "      <td>1937.21</td>\n",
       "    </tr>\n",
       "    <tr>\n",
       "      <td>min</td>\n",
       "      <td>1.00</td>\n",
       "      <td>0.06</td>\n",
       "      <td>0.08</td>\n",
       "      <td>0.00</td>\n",
       "      <td>0.02</td>\n",
       "      <td>2.00</td>\n",
       "      <td>20.00</td>\n",
       "      <td>22.00</td>\n",
       "    </tr>\n",
       "    <tr>\n",
       "      <td>25%</td>\n",
       "      <td>183.50</td>\n",
       "      <td>0.34</td>\n",
       "      <td>0.34</td>\n",
       "      <td>0.52</td>\n",
       "      <td>0.13</td>\n",
       "      <td>315.50</td>\n",
       "      <td>2497.00</td>\n",
       "      <td>3152.00</td>\n",
       "    </tr>\n",
       "    <tr>\n",
       "      <td>50%</td>\n",
       "      <td>366.00</td>\n",
       "      <td>0.50</td>\n",
       "      <td>0.49</td>\n",
       "      <td>0.63</td>\n",
       "      <td>0.18</td>\n",
       "      <td>713.00</td>\n",
       "      <td>3662.00</td>\n",
       "      <td>4548.00</td>\n",
       "    </tr>\n",
       "    <tr>\n",
       "      <td>75%</td>\n",
       "      <td>548.50</td>\n",
       "      <td>0.66</td>\n",
       "      <td>0.61</td>\n",
       "      <td>0.73</td>\n",
       "      <td>0.23</td>\n",
       "      <td>1096.00</td>\n",
       "      <td>4776.50</td>\n",
       "      <td>5956.00</td>\n",
       "    </tr>\n",
       "    <tr>\n",
       "      <td>max</td>\n",
       "      <td>731.00</td>\n",
       "      <td>0.86</td>\n",
       "      <td>0.84</td>\n",
       "      <td>0.97</td>\n",
       "      <td>0.51</td>\n",
       "      <td>3410.00</td>\n",
       "      <td>6946.00</td>\n",
       "      <td>8714.00</td>\n",
       "    </tr>\n",
       "  </tbody>\n",
       "</table>\n",
       "</div>"
      ],
      "text/plain": [
       "       rec_id    temp   atemp  humidity  windspeed   casual  registered  \\\n",
       "count  731.00  731.00  731.00    731.00     731.00   731.00      731.00   \n",
       "mean   366.00    0.50    0.47      0.63       0.19   848.18     3656.17   \n",
       "std    211.17    0.18    0.16      0.14       0.08   686.62     1560.26   \n",
       "min      1.00    0.06    0.08      0.00       0.02     2.00       20.00   \n",
       "25%    183.50    0.34    0.34      0.52       0.13   315.50     2497.00   \n",
       "50%    366.00    0.50    0.49      0.63       0.18   713.00     3662.00   \n",
       "75%    548.50    0.66    0.61      0.73       0.23  1096.00     4776.50   \n",
       "max    731.00    0.86    0.84      0.97       0.51  3410.00     6946.00   \n",
       "\n",
       "       total_count  \n",
       "count       731.00  \n",
       "mean       4504.35  \n",
       "std        1937.21  \n",
       "min          22.00  \n",
       "25%        3152.00  \n",
       "50%        4548.00  \n",
       "75%        5956.00  \n",
       "max        8714.00  "
      ]
     },
     "execution_count": 8,
     "metadata": {},
     "output_type": "execute_result"
    }
   ],
   "source": [
    "#Descriptive statistics for each column\n",
    "np.round(Bike_df.describe(),2)"
   ]
  },
  {
   "cell_type": "markdown",
   "metadata": {},
   "source": [
    "The dataset after preprocessing is ready for visual inspection"
   ]
  },
  {
   "cell_type": "code",
   "execution_count": 9,
   "metadata": {},
   "outputs": [
    {
     "data": {
      "text/plain": [
       "[Text(0.5, 1.0, 'Season wise montly distribution of raidership counts ')]"
      ]
     },
     "execution_count": 9,
     "metadata": {},
     "output_type": "execute_result"
    },
    {
     "data": {
      "image/png": "[encoded data removed]",
      "text/plain": [
       "<Figure size 1440x576 with 1 Axes>"
      ]
     },
     "metadata": {
      "needs_background": "light"
     },
     "output_type": "display_data"
    }
   ],
   "source": [
    "# Visualizing monthly raidershp counts across the seasons\n",
    "fig,ax=plt.subplots(figsize=(20,8))\n",
    "sn.pointplot(data=Bike_df[['month','total_count','season']],x='month',\n",
    "             y='total_count',\n",
    "             hue='season',ax=ax)\n",
    "ax.set(title='Season wise montly distribution of raidership counts ')"
   ]
  },
  {
   "cell_type": "markdown",
   "metadata": {},
   "source": [
    "**Season representations in above distribution,\n",
    "> 1- Spring season,\n",
    "> 2- Summer season,\n",
    "> 3- Rainy season,\n",
    "> 4- Winter season**"
   ]
  },
  {
   "cell_type": "markdown",
   "metadata": {},
   "source": [
    "The above distribution shows the lowest raidership count for Spring season, then count increases in summer season.This count is constant throughout Rainy season.This count reaches peak at the start of winter season, then falls afterwards."
   ]
  },
  {
   "cell_type": "markdown",
   "metadata": {},
   "source": [
    "**Similarly, will see the weekday wise distribution of raidership counts.**"
   ]
  },
  {
   "cell_type": "code",
   "execution_count": 10,
   "metadata": {},
   "outputs": [
    {
     "data": {
      "text/plain": [
       "[Text(0.5, 1.0, 'Weekday wise monthly distribution of raidership counts')]"
      ]
     },
     "execution_count": 10,
     "metadata": {},
     "output_type": "execute_result"
    },
    {
     "data": {
      "image/png": "[encoded data removed]",
      "text/plain": [
       "<Figure size 1440x576 with 1 Axes>"
      ]
     },
     "metadata": {
      "needs_background": "light"
     },
     "output_type": "display_data"
    }
   ],
   "source": [
    "fig,ax=plt.subplots(figsize=(20,8))\n",
    "sn.pointplot(data=Bike_df[['month','total_count','weekday']],x='month',y='total_count',\n",
    "            hue='weekday',ax=ax)\n",
    "ax.set(title='Weekday wise monthly distribution of raidership counts')"
   ]
  },
  {
   "cell_type": "markdown",
   "metadata": {},
   "source": [
    "**Simlarly, will see the month-wise raidership distribution**"
   ]
  },
  {
   "cell_type": "code",
   "execution_count": 11,
   "metadata": {},
   "outputs": [
    {
     "data": {
      "text/plain": [
       "[Text(0.5, 1.0, 'Month-wise raidership distribution')]"
      ]
     },
     "execution_count": 11,
     "metadata": {},
     "output_type": "execute_result"
    },
    {
     "data": {
      "image/png": "[encoded data removed]",
      "text/plain": [
       "<Figure size 1440x576 with 1 Axes>"
      ]
     },
     "metadata": {
      "needs_background": "light"
     },
     "output_type": "display_data"
    }
   ],
   "source": [
    "fig,ax=plt.subplots(figsize=(20,8))\n",
    "sn.barplot(data=Bike_df[['month','total_count']],x='month',y='total_count',ax=ax)\n",
    "ax.set(title='Month-wise raidership distribution')"
   ]
  },
  {
   "cell_type": "markdown",
   "metadata": {},
   "source": [
    "\n",
    "\n",
    "The above distribution shows highest raidership counts for the month June-September & lowest count for January month."
   ]
  },
  {
   "cell_type": "markdown",
   "metadata": {},
   "source": [
    "**Let's look at the distribution at year level**"
   ]
  },
  {
   "cell_type": "markdown",
   "metadata": {},
   "source": [
    "Our dataset contains **year** values **0** for representing **2011** and **2** for representing **2012**."
   ]
  },
  {
   "cell_type": "code",
   "execution_count": 12,
   "metadata": {},
   "outputs": [
    {
     "data": {
      "text/plain": [
       "[Text(0.5, 1.0, 'Year-wise distribution of raidership counts')]"
      ]
     },
     "execution_count": 12,
     "metadata": {},
     "output_type": "execute_result"
    },
    {
     "data": {
      "image/png": "[encoded data removed]",
      "text/plain": [
       "<Figure size 1440x576 with 1 Axes>"
      ]
     },
     "metadata": {
      "needs_background": "light"
     },
     "output_type": "display_data"
    }
   ],
   "source": [
    "# Violin plot is used for Year-wise distribution\n",
    "fig,ax=plt.subplots(figsize=(20,8))\n",
    "sn.violinplot(data=Bike_df[['year','total_count']],x='year',y='total_count',ax=ax)\n",
    "ax.set(title='Year-wise distribution of raidership counts')\n"
   ]
  },
  {
   "cell_type": "markdown",
   "metadata": {},
   "source": [
    "In above distribution,\n",
    "> year 0 - 2011 ,\n",
    "> year 1 - 2012"
   ]
  },
  {
   "cell_type": "markdown",
   "metadata": {},
   "source": [
    "\n",
    "The above distribution clearly helps us to understand the multimodal distribution in both 2011 and 2012 raidership counts.The distribution for 2012 has peaks at highest values as compared with the distribution for 2011."
   ]
  },
  {
   "cell_type": "markdown",
   "metadata": {},
   "source": [
    "Now, we check outliers in the dataset for better modeling & results.\n"
   ]
  },
  {
   "cell_type": "code",
   "execution_count": 13,
   "metadata": {},
   "outputs": [
    {
     "data": {
      "text/plain": [
       "<matplotlib.axes._subplots.AxesSubplot at 0x7fd6476ee320>"
      ]
     },
     "execution_count": 13,
     "metadata": {},
     "output_type": "execute_result"
    },
    {
     "data": {
      "image/png": "[encoded data removed]",
      "text/plain": [
       "<Figure size 1440x576 with 2 Axes>"
      ]
     },
     "metadata": {
      "needs_background": "light"
     },
     "output_type": "display_data"
    }
   ],
   "source": [
    "fig,(ax1,ax2)=plt.subplots(ncols=2,figsize=(20,8))\n",
    "sn.boxplot(data=Bike_df[['total_count','casual','registered']],ax=ax1)\n",
    "sn.boxplot(data=Bike_df[['temp','windspeed','humidity']],ax=ax2)"
   ]
  },
  {
   "cell_type": "markdown",
   "metadata": {},
   "source": [
    "In above plots, the casual, windspeed, & humidity data shows the outliers."
   ]
  },
  {
   "cell_type": "markdown",
   "metadata": {},
   "source": [
    "**Correlations**"
   ]
  },
  {
   "cell_type": "markdown",
   "metadata": {},
   "source": [
    "\n",
    "Correlations help us to understand the relationship between different attributes of the data to build better models."
   ]
  },
  {
   "cell_type": "code",
   "execution_count": 14,
   "metadata": {},
   "outputs": [
    {
     "data": {
      "text/plain": [
       "<matplotlib.axes._subplots.AxesSubplot at 0x7fd645b3c4e0>"
      ]
     },
     "execution_count": 14,
     "metadata": {},
     "output_type": "execute_result"
    },
    {
     "data": {
      "image/png": "[encoded data removed]",
      "text/plain": [
       "<Figure size 1440x576 with 2 Axes>"
      ]
     },
     "metadata": {
      "needs_background": "light"
     },
     "output_type": "display_data"
    }
   ],
   "source": [
    "# Correlation matrix to find correlations between data attributes\n",
    "CorrMat=Bike_df[['temp','atemp','humidity','windspeed',\n",
    "                 'casual','registered','total_count']].corr()\n",
    "mask=np.array(CorrMat)\n",
    "mask[np.tril_indices_from(mask)]=False\n",
    "#Heat map to plot the Correlation matrix\n",
    "fig,ax=plt.subplots(figsize=(20,8))\n",
    "sn.heatmap(CorrMat,mask=mask,\n",
    "          vmax=0.8,square=True,annot=True,ax=ax)"
   ]
  },
  {
   "cell_type": "markdown",
   "metadata": {},
   "source": [
    "The above plot is the the output correlation matrix (heatmap) showing values in lower triangular form\n",
    "> Keyponts from plot:\n",
    "*  Variables temp & atemp have strong correlation\n",
    "*  Variables humidity & windspeed have slight negative correlation .i.e, independent to each other\n",
    "*  Variables casual & registered have strong correlation to total_count\n",
    "\n"
   ]
  },
  {
   "cell_type": "markdown",
   "metadata": {},
   "source": [
    "**Modeling**"
   ]
  },
  {
   "cell_type": "markdown",
   "metadata": {},
   "source": [
    "\n",
    "Now, let's jump into modeling."
   ]
  },
  {
   "cell_type": "markdown",
   "metadata": {},
   "source": [
    "Split the dataset into training (70%) & testing(30%) sets to evaluate the performance of models"
   ]
  },
  {
   "cell_type": "code",
   "execution_count": 15,
   "metadata": {},
   "outputs": [],
   "source": [
    "from sklearn.model_selection import train_test_split\n",
    "X_train,X_test,y_train,y_test=train_test_split(Bike_df.iloc[:,0:-3],Bike_df.iloc[:,-1],\n",
    "                                  test_size=0.3, random_state=42)\n",
    "#Reset train index values\n",
    "X_train.reset_index(inplace=True)\n",
    "y_train=y_train.reset_index()\n",
    "# Reset train index values\n",
    "X_test.reset_index(inplace=True)\n",
    "y_test=y_test.reset_index()\n"
   ]
  },
  {
   "cell_type": "code",
   "execution_count": 16,
   "metadata": {},
   "outputs": [],
   "source": [
    "train_attributes=X_train[['season','month','year','weekday','is_holiday','is_workingday','weather_condition',\n",
    "                         'humidity','temp','windspeed']]\n",
    "test_attributes=X_test[['season','month','year','weekday','is_holiday','is_workingday',\n",
    "                       'humidity','temp','windspeed','weather_condition']]\n",
    "cat_attributes=['season','is_holiday','is_workingday','weather_condition','year']\n",
    "num_attributes=['temp','windspeed','humidity','month','weekday']"
   ]
  },
  {
   "cell_type": "code",
   "execution_count": 17,
   "metadata": {},
   "outputs": [
    {
     "name": "stdout",
     "output_type": "stream",
     "text": [
      "Shape of transfomed dataframe:: (511, 18)\n"
     ]
    },
    {
     "data": {
      "text/html": [
       "<div>\n",
       "<style scoped>\n",
       "    .dataframe tbody tr th:only-of-type {\n",
       "        vertical-align: middle;\n",
       "    }\n",
       "\n",
       "    .dataframe tbody tr th {\n",
       "        vertical-align: top;\n",
       "    }\n",
       "\n",
       "    .dataframe thead th {\n",
       "        text-align: right;\n",
       "    }\n",
       "</style>\n",
       "<table border=\"1\" class=\"dataframe\">\n",
       "  <thead>\n",
       "    <tr style=\"text-align: right;\">\n",
       "      <th></th>\n",
       "      <th>month</th>\n",
       "      <th>weekday</th>\n",
       "      <th>humidity</th>\n",
       "      <th>temp</th>\n",
       "      <th>windspeed</th>\n",
       "      <th>season_1</th>\n",
       "      <th>season_2</th>\n",
       "      <th>season_3</th>\n",
       "      <th>season_4</th>\n",
       "      <th>is_holiday_0</th>\n",
       "      <th>is_holiday_1</th>\n",
       "      <th>is_workingday_0</th>\n",
       "      <th>is_workingday_1</th>\n",
       "      <th>weather_condition_1</th>\n",
       "      <th>weather_condition_2</th>\n",
       "      <th>weather_condition_3</th>\n",
       "      <th>year_0</th>\n",
       "      <th>year_1</th>\n",
       "    </tr>\n",
       "  </thead>\n",
       "  <tbody>\n",
       "    <tr>\n",
       "      <td>0</td>\n",
       "      <td>8</td>\n",
       "      <td>5</td>\n",
       "      <td>0.415000</td>\n",
       "      <td>0.708333</td>\n",
       "      <td>0.125621</td>\n",
       "      <td>0</td>\n",
       "      <td>0</td>\n",
       "      <td>1</td>\n",
       "      <td>0</td>\n",
       "      <td>1</td>\n",
       "      <td>0</td>\n",
       "      <td>0</td>\n",
       "      <td>1</td>\n",
       "      <td>1</td>\n",
       "      <td>0</td>\n",
       "      <td>0</td>\n",
       "      <td>1</td>\n",
       "      <td>0</td>\n",
       "    </tr>\n",
       "    <tr>\n",
       "      <td>1</td>\n",
       "      <td>11</td>\n",
       "      <td>4</td>\n",
       "      <td>0.620417</td>\n",
       "      <td>0.321667</td>\n",
       "      <td>0.152987</td>\n",
       "      <td>0</td>\n",
       "      <td>0</td>\n",
       "      <td>0</td>\n",
       "      <td>1</td>\n",
       "      <td>1</td>\n",
       "      <td>0</td>\n",
       "      <td>0</td>\n",
       "      <td>1</td>\n",
       "      <td>0</td>\n",
       "      <td>1</td>\n",
       "      <td>0</td>\n",
       "      <td>0</td>\n",
       "      <td>1</td>\n",
       "    </tr>\n",
       "    <tr>\n",
       "      <td>2</td>\n",
       "      <td>11</td>\n",
       "      <td>5</td>\n",
       "      <td>0.524583</td>\n",
       "      <td>0.345000</td>\n",
       "      <td>0.171025</td>\n",
       "      <td>0</td>\n",
       "      <td>0</td>\n",
       "      <td>0</td>\n",
       "      <td>1</td>\n",
       "      <td>1</td>\n",
       "      <td>0</td>\n",
       "      <td>0</td>\n",
       "      <td>1</td>\n",
       "      <td>1</td>\n",
       "      <td>0</td>\n",
       "      <td>0</td>\n",
       "      <td>0</td>\n",
       "      <td>1</td>\n",
       "    </tr>\n",
       "    <tr>\n",
       "      <td>3</td>\n",
       "      <td>6</td>\n",
       "      <td>1</td>\n",
       "      <td>0.494583</td>\n",
       "      <td>0.635000</td>\n",
       "      <td>0.305350</td>\n",
       "      <td>0</td>\n",
       "      <td>1</td>\n",
       "      <td>0</td>\n",
       "      <td>0</td>\n",
       "      <td>1</td>\n",
       "      <td>0</td>\n",
       "      <td>0</td>\n",
       "      <td>1</td>\n",
       "      <td>1</td>\n",
       "      <td>0</td>\n",
       "      <td>0</td>\n",
       "      <td>1</td>\n",
       "      <td>0</td>\n",
       "    </tr>\n",
       "    <tr>\n",
       "      <td>4</td>\n",
       "      <td>1</td>\n",
       "      <td>1</td>\n",
       "      <td>0.400833</td>\n",
       "      <td>0.269167</td>\n",
       "      <td>0.215792</td>\n",
       "      <td>1</td>\n",
       "      <td>0</td>\n",
       "      <td>0</td>\n",
       "      <td>0</td>\n",
       "      <td>1</td>\n",
       "      <td>0</td>\n",
       "      <td>0</td>\n",
       "      <td>1</td>\n",
       "      <td>1</td>\n",
       "      <td>0</td>\n",
       "      <td>0</td>\n",
       "      <td>0</td>\n",
       "      <td>1</td>\n",
       "    </tr>\n",
       "  </tbody>\n",
       "</table>\n",
       "</div>"
      ],
      "text/plain": [
       "  month weekday  humidity      temp  windspeed  season_1  season_2  season_3  \\\n",
       "0     8       5  0.415000  0.708333   0.125621         0         0         1   \n",
       "1    11       4  0.620417  0.321667   0.152987         0         0         0   \n",
       "2    11       5  0.524583  0.345000   0.171025         0         0         0   \n",
       "3     6       1  0.494583  0.635000   0.305350         0         1         0   \n",
       "4     1       1  0.400833  0.269167   0.215792         1         0         0   \n",
       "\n",
       "   season_4  is_holiday_0  is_holiday_1  is_workingday_0  is_workingday_1  \\\n",
       "0         0             1             0                0                1   \n",
       "1         1             1             0                0                1   \n",
       "2         1             1             0                0                1   \n",
       "3         0             1             0                0                1   \n",
       "4         0             1             0                0                1   \n",
       "\n",
       "   weather_condition_1  weather_condition_2  weather_condition_3  year_0  \\\n",
       "0                    1                    0                    0       1   \n",
       "1                    0                    1                    0       0   \n",
       "2                    1                    0                    0       0   \n",
       "3                    1                    0                    0       1   \n",
       "4                    1                    0                    0       0   \n",
       "\n",
       "   year_1  \n",
       "0       0  \n",
       "1       1  \n",
       "2       1  \n",
       "3       0  \n",
       "4       1  "
      ]
     },
     "execution_count": 17,
     "metadata": {},
     "output_type": "execute_result"
    }
   ],
   "source": [
    "#Transform categorical Variables\n",
    "Bike_train=pd.get_dummies(train_attributes,columns=cat_attributes)\n",
    "print('Shape of transfomed dataframe::',Bike_train.shape)\n",
    "Bike_train.head(5)\n"
   ]
  },
  {
   "cell_type": "markdown",
   "metadata": {},
   "source": [
    "**Final training dataset for building models**"
   ]
  },
  {
   "cell_type": "code",
   "execution_count": 18,
   "metadata": {},
   "outputs": [],
   "source": [
    "X=Bike_train\n",
    "y=y_train.total_count.values"
   ]
  },
  {
   "cell_type": "markdown",
   "metadata": {},
   "source": [
    "**Linear Regression model**"
   ]
  },
  {
   "cell_type": "code",
   "execution_count": 19,
   "metadata": {},
   "outputs": [
    {
     "name": "stdout",
     "output_type": "stream",
     "text": [
      "R-squared score for training dataset:: 0.816\n",
      "Model coefficients:: [  -25.68     69.045  -946.116  5226.319 -2526.832  -960.798   233.217\n",
      "   -71.469   799.05    228.88   -228.88    -78.249    78.249   791.457\n",
      "   269.602 -1061.059  -991.62    991.62 ]\n",
      "Model intercept value:: 2138.05\n"
     ]
    }
   ],
   "source": [
    "from sklearn import linear_model\n",
    "lin_reg=linear_model.LinearRegression()\n",
    "lr_model=lin_reg.fit(X,y)\n",
    "print('R-squared score for training dataset::',np.round(lr_model.score(X,y),3))\n",
    "print('Model coefficients::',np.round(lr_model.coef_,3))\n",
    "print('Model intercept value::',np.round(lr_model.intercept_,3))\n",
    "\n"
   ]
  },
  {
   "cell_type": "markdown",
   "metadata": {},
   "source": [
    "**k-fold cross validation**\n"
   ]
  },
  {
   "cell_type": "code",
   "execution_count": 20,
   "metadata": {},
   "outputs": [],
   "source": [
    "# 3 fold cross validation (cv=3)\n",
    "from sklearn.model_selection import cross_val_predict,cross_val_score\n",
    "predicted=cross_val_predict(lr_model,X,y,cv=3)"
   ]
  },
  {
   "cell_type": "markdown",
   "metadata": {},
   "source": [
    "Scatter plot to analyze our predictions"
   ]
  },
  {
   "cell_type": "code",
   "execution_count": 21,
   "metadata": {},
   "outputs": [
    {
     "data": {
      "image/png": "[encoded data removed]",
      "text/plain": [
       "<Figure size 1080x576 with 1 Axes>"
      ]
     },
     "metadata": {
      "needs_background": "light"
     },
     "output_type": "display_data"
    }
   ],
   "source": [
    "fig,ax=plt.subplots(figsize=(15,8))\n",
    "ax.scatter(y,y-predicted)\n",
    "ax.axhline(lw=2,color='black')\n",
    "ax.set_title('Residual plot for Cross validation')\n",
    "ax.set_xlabel('Observed')\n",
    "ax.set_ylabel('Residual')\n",
    "plt.show()"
   ]
  },
  {
   "cell_type": "markdown",
   "metadata": {},
   "source": [
    "**R-squared score or Coefficient of determination to measure model performance for cross validation**"
   ]
  },
  {
   "cell_type": "code",
   "execution_count": 22,
   "metadata": {},
   "outputs": [
    {
     "name": "stdout",
     "output_type": "stream",
     "text": [
      "R-squared Score for cross validation dataset:: 0.8\n"
     ]
    }
   ],
   "source": [
    "#R-squared\n",
    "r2_score=cross_val_score(lr_model,X,y,cv=3)\n",
    "R2_score=np.average(r2_score)\n",
    "print('R-squared Score for cross validation dataset::',np.round(R2_score,2))"
   ]
  },
  {
   "cell_type": "markdown",
   "metadata": {},
   "source": [
    "The R-squared score is 0.80,  which means the predictor is only able to explain 80% of the variance in the target variable. "
   ]
  },
  {
   "cell_type": "markdown",
   "metadata": {},
   "source": [
    "**Model Testing**"
   ]
  },
  {
   "cell_type": "markdown",
   "metadata": {},
   "source": [
    "Let's test our model on un-seen dataset ( testing dataset)"
   ]
  },
  {
   "cell_type": "code",
   "execution_count": 23,
   "metadata": {},
   "outputs": [
    {
     "name": "stdout",
     "output_type": "stream",
     "text": [
      "Shape of transformed dataframe:: (220, 18)\n"
     ]
    },
    {
     "data": {
      "text/html": [
       "<div>\n",
       "<style scoped>\n",
       "    .dataframe tbody tr th:only-of-type {\n",
       "        vertical-align: middle;\n",
       "    }\n",
       "\n",
       "    .dataframe tbody tr th {\n",
       "        vertical-align: top;\n",
       "    }\n",
       "\n",
       "    .dataframe thead th {\n",
       "        text-align: right;\n",
       "    }\n",
       "</style>\n",
       "<table border=\"1\" class=\"dataframe\">\n",
       "  <thead>\n",
       "    <tr style=\"text-align: right;\">\n",
       "      <th></th>\n",
       "      <th>month</th>\n",
       "      <th>weekday</th>\n",
       "      <th>humidity</th>\n",
       "      <th>temp</th>\n",
       "      <th>windspeed</th>\n",
       "      <th>season_1</th>\n",
       "      <th>season_2</th>\n",
       "      <th>season_3</th>\n",
       "      <th>season_4</th>\n",
       "      <th>is_holiday_0</th>\n",
       "      <th>is_holiday_1</th>\n",
       "      <th>is_workingday_0</th>\n",
       "      <th>is_workingday_1</th>\n",
       "      <th>weather_condition_1</th>\n",
       "      <th>weather_condition_2</th>\n",
       "      <th>weather_condition_3</th>\n",
       "      <th>year_0</th>\n",
       "      <th>year_1</th>\n",
       "    </tr>\n",
       "  </thead>\n",
       "  <tbody>\n",
       "    <tr>\n",
       "      <td>0</td>\n",
       "      <td>12</td>\n",
       "      <td>2</td>\n",
       "      <td>0.733750</td>\n",
       "      <td>0.475833</td>\n",
       "      <td>0.174129</td>\n",
       "      <td>0</td>\n",
       "      <td>0</td>\n",
       "      <td>0</td>\n",
       "      <td>1</td>\n",
       "      <td>1</td>\n",
       "      <td>0</td>\n",
       "      <td>0</td>\n",
       "      <td>1</td>\n",
       "      <td>1</td>\n",
       "      <td>0</td>\n",
       "      <td>0</td>\n",
       "      <td>0</td>\n",
       "      <td>1</td>\n",
       "    </tr>\n",
       "    <tr>\n",
       "      <td>1</td>\n",
       "      <td>2</td>\n",
       "      <td>4</td>\n",
       "      <td>0.437826</td>\n",
       "      <td>0.186957</td>\n",
       "      <td>0.277752</td>\n",
       "      <td>1</td>\n",
       "      <td>0</td>\n",
       "      <td>0</td>\n",
       "      <td>0</td>\n",
       "      <td>1</td>\n",
       "      <td>0</td>\n",
       "      <td>0</td>\n",
       "      <td>1</td>\n",
       "      <td>1</td>\n",
       "      <td>0</td>\n",
       "      <td>0</td>\n",
       "      <td>1</td>\n",
       "      <td>0</td>\n",
       "    </tr>\n",
       "    <tr>\n",
       "      <td>2</td>\n",
       "      <td>10</td>\n",
       "      <td>5</td>\n",
       "      <td>0.585833</td>\n",
       "      <td>0.330833</td>\n",
       "      <td>0.229479</td>\n",
       "      <td>0</td>\n",
       "      <td>0</td>\n",
       "      <td>0</td>\n",
       "      <td>1</td>\n",
       "      <td>1</td>\n",
       "      <td>0</td>\n",
       "      <td>0</td>\n",
       "      <td>1</td>\n",
       "      <td>0</td>\n",
       "      <td>1</td>\n",
       "      <td>0</td>\n",
       "      <td>1</td>\n",
       "      <td>0</td>\n",
       "    </tr>\n",
       "    <tr>\n",
       "      <td>3</td>\n",
       "      <td>4</td>\n",
       "      <td>0</td>\n",
       "      <td>0.676250</td>\n",
       "      <td>0.425833</td>\n",
       "      <td>0.172267</td>\n",
       "      <td>0</td>\n",
       "      <td>1</td>\n",
       "      <td>0</td>\n",
       "      <td>0</td>\n",
       "      <td>1</td>\n",
       "      <td>0</td>\n",
       "      <td>1</td>\n",
       "      <td>0</td>\n",
       "      <td>0</td>\n",
       "      <td>1</td>\n",
       "      <td>0</td>\n",
       "      <td>0</td>\n",
       "      <td>1</td>\n",
       "    </tr>\n",
       "    <tr>\n",
       "      <td>4</td>\n",
       "      <td>9</td>\n",
       "      <td>2</td>\n",
       "      <td>0.570000</td>\n",
       "      <td>0.550000</td>\n",
       "      <td>0.236321</td>\n",
       "      <td>0</td>\n",
       "      <td>0</td>\n",
       "      <td>0</td>\n",
       "      <td>1</td>\n",
       "      <td>1</td>\n",
       "      <td>0</td>\n",
       "      <td>0</td>\n",
       "      <td>1</td>\n",
       "      <td>1</td>\n",
       "      <td>0</td>\n",
       "      <td>0</td>\n",
       "      <td>0</td>\n",
       "      <td>1</td>\n",
       "    </tr>\n",
       "  </tbody>\n",
       "</table>\n",
       "</div>"
      ],
      "text/plain": [
       "  month weekday  humidity      temp  windspeed  season_1  season_2  season_3  \\\n",
       "0    12       2  0.733750  0.475833   0.174129         0         0         0   \n",
       "1     2       4  0.437826  0.186957   0.277752         1         0         0   \n",
       "2    10       5  0.585833  0.330833   0.229479         0         0         0   \n",
       "3     4       0  0.676250  0.425833   0.172267         0         1         0   \n",
       "4     9       2  0.570000  0.550000   0.236321         0         0         0   \n",
       "\n",
       "   season_4  is_holiday_0  is_holiday_1  is_workingday_0  is_workingday_1  \\\n",
       "0         1             1             0                0                1   \n",
       "1         0             1             0                0                1   \n",
       "2         1             1             0                0                1   \n",
       "3         0             1             0                1                0   \n",
       "4         1             1             0                0                1   \n",
       "\n",
       "   weather_condition_1  weather_condition_2  weather_condition_3  year_0  \\\n",
       "0                    1                    0                    0       0   \n",
       "1                    1                    0                    0       1   \n",
       "2                    0                    1                    0       1   \n",
       "3                    0                    1                    0       0   \n",
       "4                    1                    0                    0       0   \n",
       "\n",
       "   year_1  \n",
       "0       1  \n",
       "1       0  \n",
       "2       0  \n",
       "3       1  \n",
       "4       1  "
      ]
     },
     "execution_count": 23,
     "metadata": {},
     "output_type": "execute_result"
    }
   ],
   "source": [
    "# Tranform categorical data to numerical data for tesing dataset\n",
    "Bike_test=pd.get_dummies(test_attributes,columns=cat_attributes)\n",
    "print('Shape of transformed dataframe::',Bike_test.shape)\n",
    "Bike_test.head(5)\n"
   ]
  },
  {
   "cell_type": "markdown",
   "metadata": {},
   "source": [
    "Now, will predict our model performance for testing dataset"
   ]
  },
  {
   "cell_type": "code",
   "execution_count": 24,
   "metadata": {},
   "outputs": [
    {
     "name": "stdout",
     "output_type": "stream",
     "text": [
      "R-squared score for testing dataset:: 0.846\n"
     ]
    }
   ],
   "source": [
    "from sklearn.metrics import r2_score\n",
    "# Test dataset for model testing\n",
    "X_t=Bike_test\n",
    "y_t=y_test.total_count.values\n",
    "#predict the model performance\n",
    "y_pred=lr_model.predict(X_t)\n",
    "residuals=y_t-y_pred\n",
    "#predicted score\n",
    "print('R-squared score for testing dataset::',np.round(r2_score(y_t,y_pred),3))\n"
   ]
  },
  {
   "cell_type": "markdown",
   "metadata": {},
   "source": [
    "Residual plot for testing dataset\n"
   ]
  },
  {
   "cell_type": "code",
   "execution_count": 25,
   "metadata": {},
   "outputs": [
    {
     "data": {
      "image/png": "[encoded data removed]",
      "text/plain": [
       "<Figure size 1080x576 with 1 Axes>"
      ]
     },
     "metadata": {
      "needs_background": "light"
     },
     "output_type": "display_data"
    }
   ],
   "source": [
    "fig,ax=plt.subplots(figsize=(15,8))\n",
    "ax.scatter(y_t, residuals)\n",
    "ax.axhline(lw=2,color='black')\n",
    "ax.set_title('Residual plot for testing dataset')\n",
    "ax.set_xlabel('Observed')\n",
    "ax.set_ylabel('Resduals')\n",
    "plt.show()"
   ]
  },
  {
   "cell_type": "markdown",
   "metadata": {},
   "source": [
    "Although the linear regression model is performing equally on both training & testing datasets, the model is unable to model the data to generate decent results due to non-linearty & other factors."
   ]
  },
  {
   "cell_type": "markdown",
   "metadata": {},
   "source": [
    "**Decision tree based Regression**"
   ]
  },
  {
   "cell_type": "markdown",
   "metadata": {},
   "source": [
    "Train dataset for Decision tress based regression"
   ]
  },
  {
   "cell_type": "code",
   "execution_count": 26,
   "metadata": {},
   "outputs": [
    {
     "data": {
      "text/plain": [
       "((511, 18), (511,))"
      ]
     },
     "execution_count": 26,
     "metadata": {},
     "output_type": "execute_result"
    }
   ],
   "source": [
    "X_d=Bike_train\n",
    "y_d=y_train.total_count.values\n",
    "X_d.shape,y_d.shape"
   ]
  },
  {
   "cell_type": "code",
   "execution_count": 27,
   "metadata": {},
   "outputs": [
    {
     "data": {
      "text/plain": [
       "DecisionTreeRegressor(criterion='mse', max_depth=5, max_features=None,\n",
       "                      max_leaf_nodes=40, min_impurity_decrease=0.0,\n",
       "                      min_impurity_split=None, min_samples_leaf=3,\n",
       "                      min_samples_split=8, min_weight_fraction_leaf=0.0,\n",
       "                      presort=False, random_state=None, splitter='best')"
      ]
     },
     "execution_count": 27,
     "metadata": {},
     "output_type": "execute_result"
    }
   ],
   "source": [
    "#Decision tree regressor\n",
    "from sklearn.tree import DecisionTreeRegressor\n",
    "dtr=DecisionTreeRegressor(max_depth=5,min_samples_split=8,max_leaf_nodes=40,min_samples_leaf=3)\n",
    "dtr.fit(X_d,y_d)\n"
   ]
  },
  {
   "cell_type": "code",
   "execution_count": 28,
   "metadata": {},
   "outputs": [
    {
     "name": "stdout",
     "output_type": "stream",
     "text": [
      "R-squared score:: 0.87\n"
     ]
    }
   ],
   "source": [
    "print('R-squared score::',np.round(dtr.score(X_d,y_d),2))"
   ]
  },
  {
   "cell_type": "markdown",
   "metadata": {},
   "source": [
    "Plot the learnt model"
   ]
  },
  {
   "cell_type": "code",
   "execution_count": 29,
   "metadata": {},
   "outputs": [
    {
     "data": {
      "image/svg+xml": [
       "<?xml version=\"1.0\" encoding=\"UTF-8\" standalone=\"no\"?>\n",
       "<!DOCTYPE svg PUBLIC \"-//W3C//DTD SVG 1.1//EN\"\n",
       " \"http://www.w3.org/Graphics/SVG/1.1/DTD/svg11.dtd\">\n",
       "<!-- Generated by graphviz version 2.38.0 (20140413.2041)\n",
       " -->\n",
       "<!-- Title: Tree Pages: 1 -->\n",
       "<svg width=\"3199pt\" height=\"581pt\"\n",
       " viewBox=\"0.00 0.00 3199.00 581.00\" xmlns=\"http://www.w3.org/2000/svg\" xmlns:xlink=\"http://www.w3.org/1999/xlink\">\n",
       "<g id=\"graph0\" class=\"graph\" transform=\"scale(1 1) rotate(0) translate(4 577)\">\n",
       "<title>Tree</title>\n",
       "<polygon fill=\"white\" stroke=\"none\" points=\"-4,4 -4,-577 3195,-577 3195,4 -4,4\"/>\n",
       "<!-- 0 -->\n",
       "<g id=\"node1\" class=\"node\"><title>0</title>\n",
       "<polygon fill=\"none\" stroke=\"black\" points=\"1641,-573 1522,-573 1522,-505 1641,-505 1641,-573\"/>\n",
       "<text text-anchor=\"middle\" x=\"1581.5\" y=\"-557.8\" font-family=\"Times,serif\" font-size=\"14.00\">X[3] &lt;= 0.432</text>\n",
       "<text text-anchor=\"middle\" x=\"1581.5\" y=\"-542.8\" font-family=\"Times,serif\" font-size=\"14.00\">mse = 3638903.63</text>\n",
       "<text text-anchor=\"middle\" x=\"1581.5\" y=\"-527.8\" font-family=\"Times,serif\" font-size=\"14.00\">samples = 511</text>\n",
       "<text text-anchor=\"middle\" x=\"1581.5\" y=\"-512.8\" font-family=\"Times,serif\" font-size=\"14.00\">value = 4556.867</text>\n",
       "</g>\n",
       "<!-- 1 -->\n",
       "<g id=\"node2\" class=\"node\"><title>1</title>\n",
       "<polygon fill=\"none\" stroke=\"black\" points=\"1167.5,-469 1041.5,-469 1041.5,-401 1167.5,-401 1167.5,-469\"/>\n",
       "<text text-anchor=\"middle\" x=\"1104.5\" y=\"-453.8\" font-family=\"Times,serif\" font-size=\"14.00\">X[3] &lt;= 0.279</text>\n",
       "<text text-anchor=\"middle\" x=\"1104.5\" y=\"-438.8\" font-family=\"Times,serif\" font-size=\"14.00\">mse = 2322161.674</text>\n",
       "<text text-anchor=\"middle\" x=\"1104.5\" y=\"-423.8\" font-family=\"Times,serif\" font-size=\"14.00\">samples = 202</text>\n",
       "<text text-anchor=\"middle\" x=\"1104.5\" y=\"-408.8\" font-family=\"Times,serif\" font-size=\"14.00\">value = 3060.233</text>\n",
       "</g>\n",
       "<!-- 0&#45;&gt;1 -->\n",
       "<g id=\"edge1\" class=\"edge\"><title>0&#45;&gt;1</title>\n",
       "<path fill=\"none\" stroke=\"black\" d=\"M1521.57,-525.185C1434.18,-506.497 1271.93,-471.802 1177.62,-451.637\"/>\n",
       "<polygon fill=\"black\" stroke=\"black\" points=\"1178.1,-448.16 1167.59,-449.492 1176.64,-455.006 1178.1,-448.16\"/>\n",
       "<text text-anchor=\"middle\" x=\"1181.18\" y=\"-466.775\" font-family=\"Times,serif\" font-size=\"14.00\">True</text>\n",
       "</g>\n",
       "<!-- 2 -->\n",
       "<g id=\"node29\" class=\"node\"><title>2</title>\n",
       "<polygon fill=\"none\" stroke=\"black\" points=\"2185.5,-469 2059.5,-469 2059.5,-401 2185.5,-401 2185.5,-469\"/>\n",
       "<text text-anchor=\"middle\" x=\"2122.5\" y=\"-453.8\" font-family=\"Times,serif\" font-size=\"14.00\">X[17] &lt;= 0.5</text>\n",
       "<text text-anchor=\"middle\" x=\"2122.5\" y=\"-438.8\" font-family=\"Times,serif\" font-size=\"14.00\">mse = 2078174.135</text>\n",
       "<text text-anchor=\"middle\" x=\"2122.5\" y=\"-423.8\" font-family=\"Times,serif\" font-size=\"14.00\">samples = 309</text>\n",
       "<text text-anchor=\"middle\" x=\"2122.5\" y=\"-408.8\" font-family=\"Times,serif\" font-size=\"14.00\">value = 5535.249</text>\n",
       "</g>\n",
       "<!-- 0&#45;&gt;2 -->\n",
       "<g id=\"edge28\" class=\"edge\"><title>0&#45;&gt;2</title>\n",
       "<path fill=\"none\" stroke=\"black\" d=\"M1641.2,-526.744C1741,-507.928 1941.37,-470.15 2049.43,-449.777\"/>\n",
       "<polygon fill=\"black\" stroke=\"black\" points=\"2050.1,-453.213 2059.27,-447.92 2048.8,-446.334 2050.1,-453.213\"/>\n",
       "<text text-anchor=\"middle\" x=\"2045.18\" y=\"-464.867\" font-family=\"Times,serif\" font-size=\"14.00\">False</text>\n",
       "</g>\n",
       "<!-- 5 -->\n",
       "<g id=\"node3\" class=\"node\"><title>5</title>\n",
       "<polygon fill=\"none\" stroke=\"black\" points=\"589,-365 470,-365 470,-297 589,-297 589,-365\"/>\n",
       "<text text-anchor=\"middle\" x=\"529.5\" y=\"-349.8\" font-family=\"Times,serif\" font-size=\"14.00\">X[17] &lt;= 0.5</text>\n",
       "<text text-anchor=\"middle\" x=\"529.5\" y=\"-334.8\" font-family=\"Times,serif\" font-size=\"14.00\">mse = 861076.316</text>\n",
       "<text text-anchor=\"middle\" x=\"529.5\" y=\"-319.8\" font-family=\"Times,serif\" font-size=\"14.00\">samples = 66</text>\n",
       "<text text-anchor=\"middle\" x=\"529.5\" y=\"-304.8\" font-family=\"Times,serif\" font-size=\"14.00\">value = 1848.955</text>\n",
       "</g>\n",
       "<!-- 1&#45;&gt;5 -->\n",
       "<g id=\"edge2\" class=\"edge\"><title>1&#45;&gt;5</title>\n",
       "<path fill=\"none\" stroke=\"black\" d=\"M1041.32,-422.792C932.858,-403.552 712.046,-364.382 599.234,-344.37\"/>\n",
       "<polygon fill=\"black\" stroke=\"black\" points=\"599.778,-340.912 589.32,-342.612 598.555,-347.805 599.778,-340.912\"/>\n",
       "</g>\n",
       "<!-- 6 -->\n",
       "<g id=\"node14\" class=\"node\"><title>6</title>\n",
       "<polygon fill=\"none\" stroke=\"black\" points=\"1167.5,-365 1041.5,-365 1041.5,-297 1167.5,-297 1167.5,-365\"/>\n",
       "<text text-anchor=\"middle\" x=\"1104.5\" y=\"-349.8\" font-family=\"Times,serif\" font-size=\"14.00\">X[17] &lt;= 0.5</text>\n",
       "<text text-anchor=\"middle\" x=\"1104.5\" y=\"-334.8\" font-family=\"Times,serif\" font-size=\"14.00\">mse = 1973657.261</text>\n",
       "<text text-anchor=\"middle\" x=\"1104.5\" y=\"-319.8\" font-family=\"Times,serif\" font-size=\"14.00\">samples = 136</text>\n",
       "<text text-anchor=\"middle\" x=\"1104.5\" y=\"-304.8\" font-family=\"Times,serif\" font-size=\"14.00\">value = 3648.059</text>\n",
       "</g>\n",
       "<!-- 1&#45;&gt;6 -->\n",
       "<g id=\"edge13\" class=\"edge\"><title>1&#45;&gt;6</title>\n",
       "<path fill=\"none\" stroke=\"black\" d=\"M1104.5,-400.884C1104.5,-392.778 1104.5,-383.982 1104.5,-375.472\"/>\n",
       "<polygon fill=\"black\" stroke=\"black\" points=\"1108,-375.299 1104.5,-365.299 1101,-375.299 1108,-375.299\"/>\n",
       "</g>\n",
       "<!-- 21 -->\n",
       "<g id=\"node4\" class=\"node\"><title>21</title>\n",
       "<polygon fill=\"none\" stroke=\"black\" points=\"386,-261 267,-261 267,-193 386,-193 386,-261\"/>\n",
       "<text text-anchor=\"middle\" x=\"326.5\" y=\"-245.8\" font-family=\"Times,serif\" font-size=\"14.00\">X[0] &lt;= 10.5</text>\n",
       "<text text-anchor=\"middle\" x=\"326.5\" y=\"-230.8\" font-family=\"Times,serif\" font-size=\"14.00\">mse = 499391.707</text>\n",
       "<text text-anchor=\"middle\" x=\"326.5\" y=\"-215.8\" font-family=\"Times,serif\" font-size=\"14.00\">samples = 41</text>\n",
       "<text text-anchor=\"middle\" x=\"326.5\" y=\"-200.8\" font-family=\"Times,serif\" font-size=\"14.00\">value = 1514.0</text>\n",
       "</g>\n",
       "<!-- 5&#45;&gt;21 -->\n",
       "<g id=\"edge3\" class=\"edge\"><title>5&#45;&gt;21</title>\n",
       "<path fill=\"none\" stroke=\"black\" d=\"M469.965,-300.086C446.52,-288.306 419.45,-274.704 395.184,-262.511\"/>\n",
       "<polygon fill=\"black\" stroke=\"black\" points=\"396.541,-259.276 386.034,-257.914 393.398,-265.531 396.541,-259.276\"/>\n",
       "</g>\n",
       "<!-- 22 -->\n",
       "<g id=\"node9\" class=\"node\"><title>22</title>\n",
       "<polygon fill=\"none\" stroke=\"black\" points=\"589,-261 470,-261 470,-193 589,-193 589,-261\"/>\n",
       "<text text-anchor=\"middle\" x=\"529.5\" y=\"-245.8\" font-family=\"Times,serif\" font-size=\"14.00\">X[2] &lt;= 0.742</text>\n",
       "<text text-anchor=\"middle\" x=\"529.5\" y=\"-230.8\" font-family=\"Times,serif\" font-size=\"14.00\">mse = 968481.562</text>\n",
       "<text text-anchor=\"middle\" x=\"529.5\" y=\"-215.8\" font-family=\"Times,serif\" font-size=\"14.00\">samples = 25</text>\n",
       "<text text-anchor=\"middle\" x=\"529.5\" y=\"-200.8\" font-family=\"Times,serif\" font-size=\"14.00\">value = 2398.28</text>\n",
       "</g>\n",
       "<!-- 5&#45;&gt;22 -->\n",
       "<g id=\"edge8\" class=\"edge\"><title>5&#45;&gt;22</title>\n",
       "<path fill=\"none\" stroke=\"black\" d=\"M529.5,-296.884C529.5,-288.778 529.5,-279.982 529.5,-271.472\"/>\n",
       "<polygon fill=\"black\" stroke=\"black\" points=\"533,-271.299 529.5,-261.299 526,-271.299 533,-271.299\"/>\n",
       "</g>\n",
       "<!-- 27 -->\n",
       "<g id=\"node5\" class=\"node\"><title>27</title>\n",
       "<polygon fill=\"none\" stroke=\"black\" points=\"249,-157 130,-157 130,-89 249,-89 249,-157\"/>\n",
       "<text text-anchor=\"middle\" x=\"189.5\" y=\"-141.8\" font-family=\"Times,serif\" font-size=\"14.00\">X[3] &lt;= 0.257</text>\n",
       "<text text-anchor=\"middle\" x=\"189.5\" y=\"-126.8\" font-family=\"Times,serif\" font-size=\"14.00\">mse = 164723.701</text>\n",
       "<text text-anchor=\"middle\" x=\"189.5\" y=\"-111.8\" font-family=\"Times,serif\" font-size=\"14.00\">samples = 36</text>\n",
       "<text text-anchor=\"middle\" x=\"189.5\" y=\"-96.8\" font-family=\"Times,serif\" font-size=\"14.00\">value = 1336.278</text>\n",
       "</g>\n",
       "<!-- 21&#45;&gt;27 -->\n",
       "<g id=\"edge4\" class=\"edge\"><title>21&#45;&gt;27</title>\n",
       "<path fill=\"none\" stroke=\"black\" d=\"M282.02,-192.884C269.338,-183.442 255.399,-173.064 242.274,-163.292\"/>\n",
       "<polygon fill=\"black\" stroke=\"black\" points=\"244.337,-160.464 234.226,-157.299 240.156,-166.079 244.337,-160.464\"/>\n",
       "</g>\n",
       "<!-- 28 -->\n",
       "<g id=\"node8\" class=\"node\"><title>28</title>\n",
       "<polygon fill=\"none\" stroke=\"black\" points=\"386,-149.5 267,-149.5 267,-96.5 386,-96.5 386,-149.5\"/>\n",
       "<text text-anchor=\"middle\" x=\"326.5\" y=\"-134.3\" font-family=\"Times,serif\" font-size=\"14.00\">mse = 1044211.84</text>\n",
       "<text text-anchor=\"middle\" x=\"326.5\" y=\"-119.3\" font-family=\"Times,serif\" font-size=\"14.00\">samples = 5</text>\n",
       "<text text-anchor=\"middle\" x=\"326.5\" y=\"-104.3\" font-family=\"Times,serif\" font-size=\"14.00\">value = 2793.6</text>\n",
       "</g>\n",
       "<!-- 21&#45;&gt;28 -->\n",
       "<g id=\"edge7\" class=\"edge\"><title>21&#45;&gt;28</title>\n",
       "<path fill=\"none\" stroke=\"black\" d=\"M326.5,-192.884C326.5,-182.326 326.5,-170.597 326.5,-159.854\"/>\n",
       "<polygon fill=\"black\" stroke=\"black\" points=\"330,-159.52 326.5,-149.52 323,-159.52 330,-159.52\"/>\n",
       "</g>\n",
       "<!-- 51 -->\n",
       "<g id=\"node6\" class=\"node\"><title>51</title>\n",
       "<polygon fill=\"none\" stroke=\"black\" points=\"119,-53 0,-53 0,-0 119,-0 119,-53\"/>\n",
       "<text text-anchor=\"middle\" x=\"59.5\" y=\"-37.8\" font-family=\"Times,serif\" font-size=\"14.00\">mse = 140904.005</text>\n",
       "<text text-anchor=\"middle\" x=\"59.5\" y=\"-22.8\" font-family=\"Times,serif\" font-size=\"14.00\">samples = 29</text>\n",
       "<text text-anchor=\"middle\" x=\"59.5\" y=\"-7.8\" font-family=\"Times,serif\" font-size=\"14.00\">value = 1229.172</text>\n",
       "</g>\n",
       "<!-- 27&#45;&gt;51 -->\n",
       "<g id=\"edge5\" class=\"edge\"><title>27&#45;&gt;51</title>\n",
       "<path fill=\"none\" stroke=\"black\" d=\"M144.032,-88.9485C130.819,-79.3431 116.418,-68.8747 103.308,-59.345\"/>\n",
       "<polygon fill=\"black\" stroke=\"black\" points=\"105.052,-56.2856 94.905,-53.2367 100.936,-61.9477 105.052,-56.2856\"/>\n",
       "</g>\n",
       "<!-- 52 -->\n",
       "<g id=\"node7\" class=\"node\"><title>52</title>\n",
       "<polygon fill=\"none\" stroke=\"black\" points=\"250,-53 137,-53 137,-0 250,-0 250,-53\"/>\n",
       "<text text-anchor=\"middle\" x=\"193.5\" y=\"-37.8\" font-family=\"Times,serif\" font-size=\"14.00\">mse = 18990.857</text>\n",
       "<text text-anchor=\"middle\" x=\"193.5\" y=\"-22.8\" font-family=\"Times,serif\" font-size=\"14.00\">samples = 7</text>\n",
       "<text text-anchor=\"middle\" x=\"193.5\" y=\"-7.8\" font-family=\"Times,serif\" font-size=\"14.00\">value = 1780.0</text>\n",
       "</g>\n",
       "<!-- 27&#45;&gt;52 -->\n",
       "<g id=\"edge6\" class=\"edge\"><title>27&#45;&gt;52</title>\n",
       "<path fill=\"none\" stroke=\"black\" d=\"M190.899,-88.9485C191.248,-80.7153 191.623,-71.848 191.977,-63.4814\"/>\n",
       "<polygon fill=\"black\" stroke=\"black\" points=\"195.484,-63.3758 192.411,-53.2367 188.491,-63.0797 195.484,-63.3758\"/>\n",
       "</g>\n",
       "<!-- 29 -->\n",
       "<g id=\"node10\" class=\"node\"><title>29</title>\n",
       "<polygon fill=\"none\" stroke=\"black\" points=\"523,-157 404,-157 404,-89 523,-89 523,-157\"/>\n",
       "<text text-anchor=\"middle\" x=\"463.5\" y=\"-141.8\" font-family=\"Times,serif\" font-size=\"14.00\">X[12] &lt;= 0.5</text>\n",
       "<text text-anchor=\"middle\" x=\"463.5\" y=\"-126.8\" font-family=\"Times,serif\" font-size=\"14.00\">mse = 727086.199</text>\n",
       "<text text-anchor=\"middle\" x=\"463.5\" y=\"-111.8\" font-family=\"Times,serif\" font-size=\"14.00\">samples = 19</text>\n",
       "<text text-anchor=\"middle\" x=\"463.5\" y=\"-96.8\" font-family=\"Times,serif\" font-size=\"14.00\">value = 2712.895</text>\n",
       "</g>\n",
       "<!-- 22&#45;&gt;29 -->\n",
       "<g id=\"edge9\" class=\"edge\"><title>22&#45;&gt;29</title>\n",
       "<path fill=\"none\" stroke=\"black\" d=\"M508.072,-192.884C502.481,-184.243 496.383,-174.819 490.542,-165.793\"/>\n",
       "<polygon fill=\"black\" stroke=\"black\" points=\"493.418,-163.794 485.047,-157.299 487.541,-167.596 493.418,-163.794\"/>\n",
       "</g>\n",
       "<!-- 30 -->\n",
       "<g id=\"node13\" class=\"node\"><title>30</title>\n",
       "<polygon fill=\"none\" stroke=\"black\" points=\"647.5,-149.5 541.5,-149.5 541.5,-96.5 647.5,-96.5 647.5,-149.5\"/>\n",
       "<text text-anchor=\"middle\" x=\"594.5\" y=\"-134.3\" font-family=\"Times,serif\" font-size=\"14.00\">mse = 426882.0</text>\n",
       "<text text-anchor=\"middle\" x=\"594.5\" y=\"-119.3\" font-family=\"Times,serif\" font-size=\"14.00\">samples = 6</text>\n",
       "<text text-anchor=\"middle\" x=\"594.5\" y=\"-104.3\" font-family=\"Times,serif\" font-size=\"14.00\">value = 1402.0</text>\n",
       "</g>\n",
       "<!-- 22&#45;&gt;30 -->\n",
       "<g id=\"edge12\" class=\"edge\"><title>22&#45;&gt;30</title>\n",
       "<path fill=\"none\" stroke=\"black\" d=\"M550.604,-192.884C557.682,-181.776 565.587,-169.372 572.716,-158.184\"/>\n",
       "<polygon fill=\"black\" stroke=\"black\" points=\"575.815,-159.834 578.237,-149.52 569.912,-156.072 575.815,-159.834\"/>\n",
       "</g>\n",
       "<!-- 31 -->\n",
       "<g id=\"node11\" class=\"node\"><title>31</title>\n",
       "<polygon fill=\"none\" stroke=\"black\" points=\"386,-53 273,-53 273,-0 386,-0 386,-53\"/>\n",
       "<text text-anchor=\"middle\" x=\"329.5\" y=\"-37.8\" font-family=\"Times,serif\" font-size=\"14.00\">mse = 158628.01</text>\n",
       "<text text-anchor=\"middle\" x=\"329.5\" y=\"-22.8\" font-family=\"Times,serif\" font-size=\"14.00\">samples = 10</text>\n",
       "<text text-anchor=\"middle\" x=\"329.5\" y=\"-7.8\" font-family=\"Times,serif\" font-size=\"14.00\">value = 2163.7</text>\n",
       "</g>\n",
       "<!-- 29&#45;&gt;31 -->\n",
       "<g id=\"edge10\" class=\"edge\"><title>29&#45;&gt;31</title>\n",
       "<path fill=\"none\" stroke=\"black\" d=\"M416.633,-88.9485C402.883,-79.2516 387.886,-68.6752 374.27,-59.073\"/>\n",
       "<polygon fill=\"black\" stroke=\"black\" points=\"376.184,-56.1397 365.994,-53.2367 372.149,-61.8603 376.184,-56.1397\"/>\n",
       "</g>\n",
       "<!-- 32 -->\n",
       "<g id=\"node12\" class=\"node\"><title>32</title>\n",
       "<polygon fill=\"none\" stroke=\"black\" points=\"523,-53 404,-53 404,-0 523,-0 523,-53\"/>\n",
       "<text text-anchor=\"middle\" x=\"463.5\" y=\"-37.8\" font-family=\"Times,serif\" font-size=\"14.00\">mse = 651214.765</text>\n",
       "<text text-anchor=\"middle\" x=\"463.5\" y=\"-22.8\" font-family=\"Times,serif\" font-size=\"14.00\">samples = 9</text>\n",
       "<text text-anchor=\"middle\" x=\"463.5\" y=\"-7.8\" font-family=\"Times,serif\" font-size=\"14.00\">value = 3323.111</text>\n",
       "</g>\n",
       "<!-- 29&#45;&gt;32 -->\n",
       "<g id=\"edge11\" class=\"edge\"><title>29&#45;&gt;32</title>\n",
       "<path fill=\"none\" stroke=\"black\" d=\"M463.5,-88.9485C463.5,-80.7153 463.5,-71.848 463.5,-63.4814\"/>\n",
       "<polygon fill=\"black\" stroke=\"black\" points=\"467,-63.2367 463.5,-53.2367 460,-63.2367 467,-63.2367\"/>\n",
       "</g>\n",
       "<!-- 7 -->\n",
       "<g id=\"node15\" class=\"node\"><title>7</title>\n",
       "<polygon fill=\"none\" stroke=\"black\" points=\"1003.5,-261 877.5,-261 877.5,-193 1003.5,-193 1003.5,-261\"/>\n",
       "<text text-anchor=\"middle\" x=\"940.5\" y=\"-245.8\" font-family=\"Times,serif\" font-size=\"14.00\">X[8] &lt;= 0.5</text>\n",
       "<text text-anchor=\"middle\" x=\"940.5\" y=\"-230.8\" font-family=\"Times,serif\" font-size=\"14.00\">mse = 1096277.226</text>\n",
       "<text text-anchor=\"middle\" x=\"940.5\" y=\"-215.8\" font-family=\"Times,serif\" font-size=\"14.00\">samples = 58</text>\n",
       "<text text-anchor=\"middle\" x=\"940.5\" y=\"-200.8\" font-family=\"Times,serif\" font-size=\"14.00\">value = 2718.655</text>\n",
       "</g>\n",
       "<!-- 6&#45;&gt;7 -->\n",
       "<g id=\"edge14\" class=\"edge\"><title>6&#45;&gt;7</title>\n",
       "<path fill=\"none\" stroke=\"black\" d=\"M1051.25,-296.884C1035.71,-287.214 1018.58,-276.563 1002.54,-266.587\"/>\n",
       "<polygon fill=\"black\" stroke=\"black\" points=\"1004.1,-263.434 993.759,-261.125 1000.4,-269.378 1004.1,-263.434\"/>\n",
       "</g>\n",
       "<!-- 8 -->\n",
       "<g id=\"node22\" class=\"node\"><title>8</title>\n",
       "<polygon fill=\"none\" stroke=\"black\" points=\"1266.5,-261 1140.5,-261 1140.5,-193 1266.5,-193 1266.5,-261\"/>\n",
       "<text text-anchor=\"middle\" x=\"1203.5\" y=\"-245.8\" font-family=\"Times,serif\" font-size=\"14.00\">X[5] &lt;= 0.5</text>\n",
       "<text text-anchor=\"middle\" x=\"1203.5\" y=\"-230.8\" font-family=\"Times,serif\" font-size=\"14.00\">mse = 1506149.489</text>\n",
       "<text text-anchor=\"middle\" x=\"1203.5\" y=\"-215.8\" font-family=\"Times,serif\" font-size=\"14.00\">samples = 78</text>\n",
       "<text text-anchor=\"middle\" x=\"1203.5\" y=\"-200.8\" font-family=\"Times,serif\" font-size=\"14.00\">value = 4339.154</text>\n",
       "</g>\n",
       "<!-- 6&#45;&gt;8 -->\n",
       "<g id=\"edge21\" class=\"edge\"><title>6&#45;&gt;8</title>\n",
       "<path fill=\"none\" stroke=\"black\" d=\"M1136.64,-296.884C1145.37,-287.887 1154.93,-278.041 1164.02,-268.678\"/>\n",
       "<polygon fill=\"black\" stroke=\"black\" points=\"1166.73,-270.913 1171.18,-261.299 1161.7,-266.038 1166.73,-270.913\"/>\n",
       "</g>\n",
       "<!-- 9 -->\n",
       "<g id=\"node16\" class=\"node\"><title>9</title>\n",
       "<polygon fill=\"none\" stroke=\"black\" points=\"797,-157 678,-157 678,-89 797,-89 797,-157\"/>\n",
       "<text text-anchor=\"middle\" x=\"737.5\" y=\"-141.8\" font-family=\"Times,serif\" font-size=\"14.00\">X[4] &lt;= 0.335</text>\n",
       "<text text-anchor=\"middle\" x=\"737.5\" y=\"-126.8\" font-family=\"Times,serif\" font-size=\"14.00\">mse = 495119.812</text>\n",
       "<text text-anchor=\"middle\" x=\"737.5\" y=\"-111.8\" font-family=\"Times,serif\" font-size=\"14.00\">samples = 32</text>\n",
       "<text text-anchor=\"middle\" x=\"737.5\" y=\"-96.8\" font-family=\"Times,serif\" font-size=\"14.00\">value = 1992.25</text>\n",
       "</g>\n",
       "<!-- 7&#45;&gt;9 -->\n",
       "<g id=\"edge15\" class=\"edge\"><title>7&#45;&gt;9</title>\n",
       "<path fill=\"none\" stroke=\"black\" d=\"M877.382,-194.286C854.777,-182.928 829.194,-170.073 806.144,-158.491\"/>\n",
       "<polygon fill=\"black\" stroke=\"black\" points=\"807.619,-155.315 797.112,-153.953 804.476,-161.57 807.619,-155.315\"/>\n",
       "</g>\n",
       "<!-- 10 -->\n",
       "<g id=\"node19\" class=\"node\"><title>10</title>\n",
       "<polygon fill=\"none\" stroke=\"black\" points=\"1000,-157 881,-157 881,-89 1000,-89 1000,-157\"/>\n",
       "<text text-anchor=\"middle\" x=\"940.5\" y=\"-141.8\" font-family=\"Times,serif\" font-size=\"14.00\">X[2] &lt;= 0.784</text>\n",
       "<text text-anchor=\"middle\" x=\"940.5\" y=\"-126.8\" font-family=\"Times,serif\" font-size=\"14.00\">mse = 387427.675</text>\n",
       "<text text-anchor=\"middle\" x=\"940.5\" y=\"-111.8\" font-family=\"Times,serif\" font-size=\"14.00\">samples = 26</text>\n",
       "<text text-anchor=\"middle\" x=\"940.5\" y=\"-96.8\" font-family=\"Times,serif\" font-size=\"14.00\">value = 3612.692</text>\n",
       "</g>\n",
       "<!-- 7&#45;&gt;10 -->\n",
       "<g id=\"edge18\" class=\"edge\"><title>7&#45;&gt;10</title>\n",
       "<path fill=\"none\" stroke=\"black\" d=\"M940.5,-192.884C940.5,-184.778 940.5,-175.982 940.5,-167.472\"/>\n",
       "<polygon fill=\"black\" stroke=\"black\" points=\"944,-167.299 940.5,-157.299 937,-167.299 944,-167.299\"/>\n",
       "</g>\n",
       "<!-- 47 -->\n",
       "<g id=\"node17\" class=\"node\"><title>47</title>\n",
       "<polygon fill=\"none\" stroke=\"black\" points=\"660,-53 541,-53 541,-0 660,-0 660,-53\"/>\n",
       "<text text-anchor=\"middle\" x=\"600.5\" y=\"-37.8\" font-family=\"Times,serif\" font-size=\"14.00\">mse = 420007.729</text>\n",
       "<text text-anchor=\"middle\" x=\"600.5\" y=\"-22.8\" font-family=\"Times,serif\" font-size=\"14.00\">samples = 29</text>\n",
       "<text text-anchor=\"middle\" x=\"600.5\" y=\"-7.8\" font-family=\"Times,serif\" font-size=\"14.00\">value = 2088.172</text>\n",
       "</g>\n",
       "<!-- 9&#45;&gt;47 -->\n",
       "<g id=\"edge16\" class=\"edge\"><title>9&#45;&gt;47</title>\n",
       "<path fill=\"none\" stroke=\"black\" d=\"M689.584,-88.9485C675.526,-79.2516 660.193,-68.6752 646.272,-59.073\"/>\n",
       "<polygon fill=\"black\" stroke=\"black\" points=\"648.03,-56.0337 637.811,-53.2367 644.056,-61.7959 648.03,-56.0337\"/>\n",
       "</g>\n",
       "<!-- 48 -->\n",
       "<g id=\"node18\" class=\"node\"><title>48</title>\n",
       "<polygon fill=\"none\" stroke=\"black\" points=\"797,-53 678,-53 678,-0 797,-0 797,-53\"/>\n",
       "<text text-anchor=\"middle\" x=\"737.5\" y=\"-37.8\" font-family=\"Times,serif\" font-size=\"14.00\">mse = 272466.667</text>\n",
       "<text text-anchor=\"middle\" x=\"737.5\" y=\"-22.8\" font-family=\"Times,serif\" font-size=\"14.00\">samples = 3</text>\n",
       "<text text-anchor=\"middle\" x=\"737.5\" y=\"-7.8\" font-family=\"Times,serif\" font-size=\"14.00\">value = 1065.0</text>\n",
       "</g>\n",
       "<!-- 9&#45;&gt;48 -->\n",
       "<g id=\"edge17\" class=\"edge\"><title>9&#45;&gt;48</title>\n",
       "<path fill=\"none\" stroke=\"black\" d=\"M737.5,-88.9485C737.5,-80.7153 737.5,-71.848 737.5,-63.4814\"/>\n",
       "<polygon fill=\"black\" stroke=\"black\" points=\"741,-63.2367 737.5,-53.2367 734,-63.2367 741,-63.2367\"/>\n",
       "</g>\n",
       "<!-- 43 -->\n",
       "<g id=\"node20\" class=\"node\"><title>43</title>\n",
       "<polygon fill=\"none\" stroke=\"black\" points=\"934,-53 815,-53 815,-0 934,-0 934,-53\"/>\n",
       "<text text-anchor=\"middle\" x=\"874.5\" y=\"-37.8\" font-family=\"Times,serif\" font-size=\"14.00\">mse = 200391.444</text>\n",
       "<text text-anchor=\"middle\" x=\"874.5\" y=\"-22.8\" font-family=\"Times,serif\" font-size=\"14.00\">samples = 23</text>\n",
       "<text text-anchor=\"middle\" x=\"874.5\" y=\"-7.8\" font-family=\"Times,serif\" font-size=\"14.00\">value = 3759.652</text>\n",
       "</g>\n",
       "<!-- 10&#45;&gt;43 -->\n",
       "<g id=\"edge19\" class=\"edge\"><title>10&#45;&gt;43</title>\n",
       "<path fill=\"none\" stroke=\"black\" d=\"M917.416,-88.9485C911.219,-80.0749 904.507,-70.4648 898.273,-61.5388\"/>\n",
       "<polygon fill=\"black\" stroke=\"black\" points=\"901.07,-59.4311 892.475,-53.2367 895.331,-63.4392 901.07,-59.4311\"/>\n",
       "</g>\n",
       "<!-- 44 -->\n",
       "<g id=\"node21\" class=\"node\"><title>44</title>\n",
       "<polygon fill=\"none\" stroke=\"black\" points=\"1058.5,-53 952.5,-53 952.5,-0 1058.5,-0 1058.5,-53\"/>\n",
       "<text text-anchor=\"middle\" x=\"1005.5\" y=\"-37.8\" font-family=\"Times,serif\" font-size=\"14.00\">mse = 386358.0</text>\n",
       "<text text-anchor=\"middle\" x=\"1005.5\" y=\"-22.8\" font-family=\"Times,serif\" font-size=\"14.00\">samples = 3</text>\n",
       "<text text-anchor=\"middle\" x=\"1005.5\" y=\"-7.8\" font-family=\"Times,serif\" font-size=\"14.00\">value = 2486.0</text>\n",
       "</g>\n",
       "<!-- 10&#45;&gt;44 -->\n",
       "<g id=\"edge20\" class=\"edge\"><title>10&#45;&gt;44</title>\n",
       "<path fill=\"none\" stroke=\"black\" d=\"M963.234,-88.9485C969.337,-80.0749 975.947,-70.4648 982.087,-61.5388\"/>\n",
       "<polygon fill=\"black\" stroke=\"black\" points=\"985.014,-63.4594 987.798,-53.2367 979.247,-59.4924 985.014,-63.4594\"/>\n",
       "</g>\n",
       "<!-- 13 -->\n",
       "<g id=\"node23\" class=\"node\"><title>13</title>\n",
       "<polygon fill=\"none\" stroke=\"black\" points=\"1266.5,-157 1140.5,-157 1140.5,-89 1266.5,-89 1266.5,-157\"/>\n",
       "<text text-anchor=\"middle\" x=\"1203.5\" y=\"-141.8\" font-family=\"Times,serif\" font-size=\"14.00\">X[2] &lt;= 0.765</text>\n",
       "<text text-anchor=\"middle\" x=\"1203.5\" y=\"-126.8\" font-family=\"Times,serif\" font-size=\"14.00\">mse = 1672261.794</text>\n",
       "<text text-anchor=\"middle\" x=\"1203.5\" y=\"-111.8\" font-family=\"Times,serif\" font-size=\"14.00\">samples = 42</text>\n",
       "<text text-anchor=\"middle\" x=\"1203.5\" y=\"-96.8\" font-family=\"Times,serif\" font-size=\"14.00\">value = 4885.333</text>\n",
       "</g>\n",
       "<!-- 8&#45;&gt;13 -->\n",
       "<g id=\"edge22\" class=\"edge\"><title>8&#45;&gt;13</title>\n",
       "<path fill=\"none\" stroke=\"black\" d=\"M1203.5,-192.884C1203.5,-184.778 1203.5,-175.982 1203.5,-167.472\"/>\n",
       "<polygon fill=\"black\" stroke=\"black\" points=\"1207,-167.299 1203.5,-157.299 1200,-167.299 1207,-167.299\"/>\n",
       "</g>\n",
       "<!-- 14 -->\n",
       "<g id=\"node26\" class=\"node\"><title>14</title>\n",
       "<polygon fill=\"none\" stroke=\"black\" points=\"1458,-157 1339,-157 1339,-89 1458,-89 1458,-157\"/>\n",
       "<text text-anchor=\"middle\" x=\"1398.5\" y=\"-141.8\" font-family=\"Times,serif\" font-size=\"14.00\">X[3] &lt;= 0.293</text>\n",
       "<text text-anchor=\"middle\" x=\"1398.5\" y=\"-126.8\" font-family=\"Times,serif\" font-size=\"14.00\">mse = 558285.275</text>\n",
       "<text text-anchor=\"middle\" x=\"1398.5\" y=\"-111.8\" font-family=\"Times,serif\" font-size=\"14.00\">samples = 36</text>\n",
       "<text text-anchor=\"middle\" x=\"1398.5\" y=\"-96.8\" font-family=\"Times,serif\" font-size=\"14.00\">value = 3701.944</text>\n",
       "</g>\n",
       "<!-- 8&#45;&gt;14 -->\n",
       "<g id=\"edge25\" class=\"edge\"><title>8&#45;&gt;14</title>\n",
       "<path fill=\"none\" stroke=\"black\" d=\"M1266.54,-193.024C1286.8,-182.428 1309.34,-170.64 1329.97,-159.847\"/>\n",
       "<polygon fill=\"black\" stroke=\"black\" points=\"1331.75,-162.865 1338.99,-155.129 1328.51,-156.662 1331.75,-162.865\"/>\n",
       "</g>\n",
       "<!-- 15 -->\n",
       "<g id=\"node24\" class=\"node\"><title>15</title>\n",
       "<polygon fill=\"none\" stroke=\"black\" points=\"1190,-53 1077,-53 1077,-0 1190,-0 1190,-53\"/>\n",
       "<text text-anchor=\"middle\" x=\"1133.5\" y=\"-37.8\" font-family=\"Times,serif\" font-size=\"14.00\">mse = 867075.21</text>\n",
       "<text text-anchor=\"middle\" x=\"1133.5\" y=\"-22.8\" font-family=\"Times,serif\" font-size=\"14.00\">samples = 32</text>\n",
       "<text text-anchor=\"middle\" x=\"1133.5\" y=\"-7.8\" font-family=\"Times,serif\" font-size=\"14.00\">value = 5277.094</text>\n",
       "</g>\n",
       "<!-- 13&#45;&gt;15 -->\n",
       "<g id=\"edge23\" class=\"edge\"><title>13&#45;&gt;15</title>\n",
       "<path fill=\"none\" stroke=\"black\" d=\"M1179.02,-88.9485C1172.44,-80.0749 1165.33,-70.4648 1158.71,-61.5388\"/>\n",
       "<polygon fill=\"black\" stroke=\"black\" points=\"1161.33,-59.189 1152.56,-53.2367 1155.7,-63.3556 1161.33,-59.189\"/>\n",
       "</g>\n",
       "<!-- 16 -->\n",
       "<g id=\"node25\" class=\"node\"><title>16</title>\n",
       "<polygon fill=\"none\" stroke=\"black\" points=\"1327,-53 1208,-53 1208,-0 1327,-0 1327,-53\"/>\n",
       "<text text-anchor=\"middle\" x=\"1267.5\" y=\"-37.8\" font-family=\"Times,serif\" font-size=\"14.00\">mse = 2186138.41</text>\n",
       "<text text-anchor=\"middle\" x=\"1267.5\" y=\"-22.8\" font-family=\"Times,serif\" font-size=\"14.00\">samples = 10</text>\n",
       "<text text-anchor=\"middle\" x=\"1267.5\" y=\"-7.8\" font-family=\"Times,serif\" font-size=\"14.00\">value = 3631.7</text>\n",
       "</g>\n",
       "<!-- 13&#45;&gt;16 -->\n",
       "<g id=\"edge24\" class=\"edge\"><title>13&#45;&gt;16</title>\n",
       "<path fill=\"none\" stroke=\"black\" d=\"M1225.88,-88.9485C1231.89,-80.0749 1238.4,-70.4648 1244.45,-61.5388\"/>\n",
       "<polygon fill=\"black\" stroke=\"black\" points=\"1247.36,-63.4792 1250.07,-53.2367 1241.56,-59.5539 1247.36,-63.4792\"/>\n",
       "</g>\n",
       "<!-- 37 -->\n",
       "<g id=\"node27\" class=\"node\"><title>37</title>\n",
       "<polygon fill=\"none\" stroke=\"black\" points=\"1451.5,-53 1345.5,-53 1345.5,-0 1451.5,-0 1451.5,-53\"/>\n",
       "<text text-anchor=\"middle\" x=\"1398.5\" y=\"-37.8\" font-family=\"Times,serif\" font-size=\"14.00\">mse = 694333.5</text>\n",
       "<text text-anchor=\"middle\" x=\"1398.5\" y=\"-22.8\" font-family=\"Times,serif\" font-size=\"14.00\">samples = 8</text>\n",
       "<text text-anchor=\"middle\" x=\"1398.5\" y=\"-7.8\" font-family=\"Times,serif\" font-size=\"14.00\">value = 2969.5</text>\n",
       "</g>\n",
       "<!-- 14&#45;&gt;37 -->\n",
       "<g id=\"edge26\" class=\"edge\"><title>14&#45;&gt;37</title>\n",
       "<path fill=\"none\" stroke=\"black\" d=\"M1398.5,-88.9485C1398.5,-80.7153 1398.5,-71.848 1398.5,-63.4814\"/>\n",
       "<polygon fill=\"black\" stroke=\"black\" points=\"1402,-63.2367 1398.5,-53.2367 1395,-63.2367 1402,-63.2367\"/>\n",
       "</g>\n",
       "<!-- 38 -->\n",
       "<g id=\"node28\" class=\"node\"><title>38</title>\n",
       "<polygon fill=\"none\" stroke=\"black\" points=\"1589,-53 1470,-53 1470,-0 1589,-0 1589,-53\"/>\n",
       "<text text-anchor=\"middle\" x=\"1529.5\" y=\"-37.8\" font-family=\"Times,serif\" font-size=\"14.00\">mse = 322341.954</text>\n",
       "<text text-anchor=\"middle\" x=\"1529.5\" y=\"-22.8\" font-family=\"Times,serif\" font-size=\"14.00\">samples = 28</text>\n",
       "<text text-anchor=\"middle\" x=\"1529.5\" y=\"-7.8\" font-family=\"Times,serif\" font-size=\"14.00\">value = 3911.214</text>\n",
       "</g>\n",
       "<!-- 14&#45;&gt;38 -->\n",
       "<g id=\"edge27\" class=\"edge\"><title>14&#45;&gt;38</title>\n",
       "<path fill=\"none\" stroke=\"black\" d=\"M1444.32,-88.9485C1457.63,-79.3431 1472.14,-68.8747 1485.36,-59.345\"/>\n",
       "<polygon fill=\"black\" stroke=\"black\" points=\"1487.76,-61.9257 1493.82,-53.2367 1483.66,-56.2486 1487.76,-61.9257\"/>\n",
       "</g>\n",
       "<!-- 3 -->\n",
       "<g id=\"node30\" class=\"node\"><title>3</title>\n",
       "<polygon fill=\"none\" stroke=\"black\" points=\"2182,-365 2063,-365 2063,-297 2182,-297 2182,-365\"/>\n",
       "<text text-anchor=\"middle\" x=\"2122.5\" y=\"-349.8\" font-family=\"Times,serif\" font-size=\"14.00\">X[2] &lt;= 0.849</text>\n",
       "<text text-anchor=\"middle\" x=\"2122.5\" y=\"-334.8\" font-family=\"Times,serif\" font-size=\"14.00\">mse = 603939.673</text>\n",
       "<text text-anchor=\"middle\" x=\"2122.5\" y=\"-319.8\" font-family=\"Times,serif\" font-size=\"14.00\">samples = 147</text>\n",
       "<text text-anchor=\"middle\" x=\"2122.5\" y=\"-304.8\" font-family=\"Times,serif\" font-size=\"14.00\">value = 4359.361</text>\n",
       "</g>\n",
       "<!-- 2&#45;&gt;3 -->\n",
       "<g id=\"edge29\" class=\"edge\"><title>2&#45;&gt;3</title>\n",
       "<path fill=\"none\" stroke=\"black\" d=\"M2122.5,-400.884C2122.5,-392.778 2122.5,-383.982 2122.5,-375.472\"/>\n",
       "<polygon fill=\"black\" stroke=\"black\" points=\"2126,-375.299 2122.5,-365.299 2119,-375.299 2126,-375.299\"/>\n",
       "</g>\n",
       "<!-- 4 -->\n",
       "<g id=\"node43\" class=\"node\"><title>4</title>\n",
       "<polygon fill=\"none\" stroke=\"black\" points=\"2720.5,-365 2594.5,-365 2594.5,-297 2720.5,-297 2720.5,-365\"/>\n",
       "<text text-anchor=\"middle\" x=\"2657.5\" y=\"-349.8\" font-family=\"Times,serif\" font-size=\"14.00\">X[2] &lt;= 0.771</text>\n",
       "<text text-anchor=\"middle\" x=\"2657.5\" y=\"-334.8\" font-family=\"Times,serif\" font-size=\"14.00\">mse = 1022709.896</text>\n",
       "<text text-anchor=\"middle\" x=\"2657.5\" y=\"-319.8\" font-family=\"Times,serif\" font-size=\"14.00\">samples = 162</text>\n",
       "<text text-anchor=\"middle\" x=\"2657.5\" y=\"-304.8\" font-family=\"Times,serif\" font-size=\"14.00\">value = 6602.259</text>\n",
       "</g>\n",
       "<!-- 2&#45;&gt;4 -->\n",
       "<g id=\"edge42\" class=\"edge\"><title>2&#45;&gt;4</title>\n",
       "<path fill=\"none\" stroke=\"black\" d=\"M2185.71,-421.949C2285.49,-402.926 2478.98,-366.036 2584.52,-345.914\"/>\n",
       "<polygon fill=\"black\" stroke=\"black\" points=\"2585.29,-349.331 2594.45,-344.02 2583.97,-342.455 2585.29,-349.331\"/>\n",
       "</g>\n",
       "<!-- 17 -->\n",
       "<g id=\"node31\" class=\"node\"><title>17</title>\n",
       "<polygon fill=\"none\" stroke=\"black\" points=\"2048,-261 1929,-261 1929,-193 2048,-193 2048,-261\"/>\n",
       "<text text-anchor=\"middle\" x=\"1988.5\" y=\"-245.8\" font-family=\"Times,serif\" font-size=\"14.00\">X[3] &lt;= 0.468</text>\n",
       "<text text-anchor=\"middle\" x=\"1988.5\" y=\"-230.8\" font-family=\"Times,serif\" font-size=\"14.00\">mse = 431500.768</text>\n",
       "<text text-anchor=\"middle\" x=\"1988.5\" y=\"-215.8\" font-family=\"Times,serif\" font-size=\"14.00\">samples = 135</text>\n",
       "<text text-anchor=\"middle\" x=\"1988.5\" y=\"-200.8\" font-family=\"Times,serif\" font-size=\"14.00\">value = 4465.044</text>\n",
       "</g>\n",
       "<!-- 3&#45;&gt;17 -->\n",
       "<g id=\"edge30\" class=\"edge\"><title>3&#45;&gt;17</title>\n",
       "<path fill=\"none\" stroke=\"black\" d=\"M2078.99,-296.884C2066.71,-287.531 2053.21,-277.259 2040.48,-267.568\"/>\n",
       "<polygon fill=\"black\" stroke=\"black\" points=\"2042.32,-264.571 2032.25,-261.299 2038.08,-270.141 2042.32,-264.571\"/>\n",
       "</g>\n",
       "<!-- 18 -->\n",
       "<g id=\"node38\" class=\"node\"><title>18</title>\n",
       "<polygon fill=\"none\" stroke=\"black\" points=\"2256.5,-261 2130.5,-261 2130.5,-193 2256.5,-193 2256.5,-261\"/>\n",
       "<text text-anchor=\"middle\" x=\"2193.5\" y=\"-245.8\" font-family=\"Times,serif\" font-size=\"14.00\">X[4] &lt;= 0.232</text>\n",
       "<text text-anchor=\"middle\" x=\"2193.5\" y=\"-230.8\" font-family=\"Times,serif\" font-size=\"14.00\">mse = 1004637.576</text>\n",
       "<text text-anchor=\"middle\" x=\"2193.5\" y=\"-215.8\" font-family=\"Times,serif\" font-size=\"14.00\">samples = 12</text>\n",
       "<text text-anchor=\"middle\" x=\"2193.5\" y=\"-200.8\" font-family=\"Times,serif\" font-size=\"14.00\">value = 3170.417</text>\n",
       "</g>\n",
       "<!-- 3&#45;&gt;18 -->\n",
       "<g id=\"edge37\" class=\"edge\"><title>3&#45;&gt;18</title>\n",
       "<path fill=\"none\" stroke=\"black\" d=\"M2145.55,-296.884C2151.63,-288.154 2158.26,-278.625 2164.6,-269.514\"/>\n",
       "<polygon fill=\"black\" stroke=\"black\" points=\"2167.48,-271.506 2170.32,-261.299 2161.74,-267.507 2167.48,-271.506\"/>\n",
       "</g>\n",
       "<!-- 19 -->\n",
       "<g id=\"node32\" class=\"node\"><title>19</title>\n",
       "<polygon fill=\"none\" stroke=\"black\" points=\"1851,-157 1732,-157 1732,-89 1851,-89 1851,-157\"/>\n",
       "<text text-anchor=\"middle\" x=\"1791.5\" y=\"-141.8\" font-family=\"Times,serif\" font-size=\"14.00\">X[4] &lt;= 0.27</text>\n",
       "<text text-anchor=\"middle\" x=\"1791.5\" y=\"-126.8\" font-family=\"Times,serif\" font-size=\"14.00\">mse = 337802.612</text>\n",
       "<text text-anchor=\"middle\" x=\"1791.5\" y=\"-111.8\" font-family=\"Times,serif\" font-size=\"14.00\">samples = 11</text>\n",
       "<text text-anchor=\"middle\" x=\"1791.5\" y=\"-96.8\" font-family=\"Times,serif\" font-size=\"14.00\">value = 3343.455</text>\n",
       "</g>\n",
       "<!-- 17&#45;&gt;19 -->\n",
       "<g id=\"edge31\" class=\"edge\"><title>17&#45;&gt;19</title>\n",
       "<path fill=\"none\" stroke=\"black\" d=\"M1928.86,-195.12C1907.26,-183.937 1882.69,-171.217 1860.37,-159.656\"/>\n",
       "<polygon fill=\"black\" stroke=\"black\" points=\"1861.77,-156.441 1851.28,-154.951 1858.55,-162.657 1861.77,-156.441\"/>\n",
       "</g>\n",
       "<!-- 20 -->\n",
       "<g id=\"node35\" class=\"node\"><title>20</title>\n",
       "<polygon fill=\"none\" stroke=\"black\" points=\"2041.5,-157 1935.5,-157 1935.5,-89 2041.5,-89 2041.5,-157\"/>\n",
       "<text text-anchor=\"middle\" x=\"1988.5\" y=\"-141.8\" font-family=\"Times,serif\" font-size=\"14.00\">X[0] &lt;= 4.5</text>\n",
       "<text text-anchor=\"middle\" x=\"1988.5\" y=\"-126.8\" font-family=\"Times,serif\" font-size=\"14.00\">mse = 318319.7</text>\n",
       "<text text-anchor=\"middle\" x=\"1988.5\" y=\"-111.8\" font-family=\"Times,serif\" font-size=\"14.00\">samples = 124</text>\n",
       "<text text-anchor=\"middle\" x=\"1988.5\" y=\"-96.8\" font-family=\"Times,serif\" font-size=\"14.00\">value = 4564.54</text>\n",
       "</g>\n",
       "<!-- 17&#45;&gt;20 -->\n",
       "<g id=\"edge34\" class=\"edge\"><title>17&#45;&gt;20</title>\n",
       "<path fill=\"none\" stroke=\"black\" d=\"M1988.5,-192.884C1988.5,-184.778 1988.5,-175.982 1988.5,-167.472\"/>\n",
       "<polygon fill=\"black\" stroke=\"black\" points=\"1992,-167.299 1988.5,-157.299 1985,-167.299 1992,-167.299\"/>\n",
       "</g>\n",
       "<!-- 53 -->\n",
       "<g id=\"node33\" class=\"node\"><title>53</title>\n",
       "<polygon fill=\"none\" stroke=\"black\" points=\"1713.5,-53 1607.5,-53 1607.5,-0 1713.5,-0 1713.5,-53\"/>\n",
       "<text text-anchor=\"middle\" x=\"1660.5\" y=\"-37.8\" font-family=\"Times,serif\" font-size=\"14.00\">mse = 224325.5</text>\n",
       "<text text-anchor=\"middle\" x=\"1660.5\" y=\"-22.8\" font-family=\"Times,serif\" font-size=\"14.00\">samples = 8</text>\n",
       "<text text-anchor=\"middle\" x=\"1660.5\" y=\"-7.8\" font-family=\"Times,serif\" font-size=\"14.00\">value = 3110.5</text>\n",
       "</g>\n",
       "<!-- 19&#45;&gt;53 -->\n",
       "<g id=\"edge32\" class=\"edge\"><title>19&#45;&gt;53</title>\n",
       "<path fill=\"none\" stroke=\"black\" d=\"M1745.68,-88.9485C1732.37,-79.3431 1717.86,-68.8747 1704.64,-59.345\"/>\n",
       "<polygon fill=\"black\" stroke=\"black\" points=\"1706.34,-56.2486 1696.18,-53.2367 1702.24,-61.9257 1706.34,-56.2486\"/>\n",
       "</g>\n",
       "<!-- 54 -->\n",
       "<g id=\"node34\" class=\"node\"><title>54</title>\n",
       "<polygon fill=\"none\" stroke=\"black\" points=\"1851,-53 1732,-53 1732,-0 1851,-0 1851,-53\"/>\n",
       "<text text-anchor=\"middle\" x=\"1791.5\" y=\"-37.8\" font-family=\"Times,serif\" font-size=\"14.00\">mse = 109789.556</text>\n",
       "<text text-anchor=\"middle\" x=\"1791.5\" y=\"-22.8\" font-family=\"Times,serif\" font-size=\"14.00\">samples = 3</text>\n",
       "<text text-anchor=\"middle\" x=\"1791.5\" y=\"-7.8\" font-family=\"Times,serif\" font-size=\"14.00\">value = 3964.667</text>\n",
       "</g>\n",
       "<!-- 19&#45;&gt;54 -->\n",
       "<g id=\"edge33\" class=\"edge\"><title>19&#45;&gt;54</title>\n",
       "<path fill=\"none\" stroke=\"black\" d=\"M1791.5,-88.9485C1791.5,-80.7153 1791.5,-71.848 1791.5,-63.4814\"/>\n",
       "<polygon fill=\"black\" stroke=\"black\" points=\"1795,-63.2367 1791.5,-53.2367 1788,-63.2367 1795,-63.2367\"/>\n",
       "</g>\n",
       "<!-- 39 -->\n",
       "<g id=\"node36\" class=\"node\"><title>39</title>\n",
       "<polygon fill=\"none\" stroke=\"black\" points=\"1982,-53 1869,-53 1869,-0 1982,-0 1982,-53\"/>\n",
       "<text text-anchor=\"middle\" x=\"1925.5\" y=\"-37.8\" font-family=\"Times,serif\" font-size=\"14.00\">mse = 446603.85</text>\n",
       "<text text-anchor=\"middle\" x=\"1925.5\" y=\"-22.8\" font-family=\"Times,serif\" font-size=\"14.00\">samples = 10</text>\n",
       "<text text-anchor=\"middle\" x=\"1925.5\" y=\"-7.8\" font-family=\"Times,serif\" font-size=\"14.00\">value = 3872.5</text>\n",
       "</g>\n",
       "<!-- 20&#45;&gt;39 -->\n",
       "<g id=\"edge35\" class=\"edge\"><title>20&#45;&gt;39</title>\n",
       "<path fill=\"none\" stroke=\"black\" d=\"M1966.47,-88.9485C1960.61,-80.1664 1954.28,-70.6629 1948.38,-61.815\"/>\n",
       "<polygon fill=\"black\" stroke=\"black\" points=\"1951.12,-59.6158 1942.66,-53.2367 1945.29,-63.4987 1951.12,-59.6158\"/>\n",
       "</g>\n",
       "<!-- 40 -->\n",
       "<g id=\"node37\" class=\"node\"><title>40</title>\n",
       "<polygon fill=\"none\" stroke=\"black\" points=\"2119,-53 2000,-53 2000,-0 2119,-0 2119,-53\"/>\n",
       "<text text-anchor=\"middle\" x=\"2059.5\" y=\"-37.8\" font-family=\"Times,serif\" font-size=\"14.00\">mse = 261371.062</text>\n",
       "<text text-anchor=\"middle\" x=\"2059.5\" y=\"-22.8\" font-family=\"Times,serif\" font-size=\"14.00\">samples = 114</text>\n",
       "<text text-anchor=\"middle\" x=\"2059.5\" y=\"-7.8\" font-family=\"Times,serif\" font-size=\"14.00\">value = 4625.246</text>\n",
       "</g>\n",
       "<!-- 20&#45;&gt;40 -->\n",
       "<g id=\"edge36\" class=\"edge\"><title>20&#45;&gt;40</title>\n",
       "<path fill=\"none\" stroke=\"black\" d=\"M2013.33,-88.9485C2020.07,-79.9834 2027.37,-70.2666 2034.13,-61.2629\"/>\n",
       "<polygon fill=\"black\" stroke=\"black\" points=\"2036.95,-63.334 2040.16,-53.2367 2031.36,-59.1293 2036.95,-63.334\"/>\n",
       "</g>\n",
       "<!-- 41 -->\n",
       "<g id=\"node39\" class=\"node\"><title>41</title>\n",
       "<polygon fill=\"none\" stroke=\"black\" points=\"2253,-157 2134,-157 2134,-89 2253,-89 2253,-157\"/>\n",
       "<text text-anchor=\"middle\" x=\"2193.5\" y=\"-141.8\" font-family=\"Times,serif\" font-size=\"14.00\">X[2] &lt;= 0.892</text>\n",
       "<text text-anchor=\"middle\" x=\"2193.5\" y=\"-126.8\" font-family=\"Times,serif\" font-size=\"14.00\">mse = 628381.778</text>\n",
       "<text text-anchor=\"middle\" x=\"2193.5\" y=\"-111.8\" font-family=\"Times,serif\" font-size=\"14.00\">samples = 9</text>\n",
       "<text text-anchor=\"middle\" x=\"2193.5\" y=\"-96.8\" font-family=\"Times,serif\" font-size=\"14.00\">value = 3546.667</text>\n",
       "</g>\n",
       "<!-- 18&#45;&gt;41 -->\n",
       "<g id=\"edge38\" class=\"edge\"><title>18&#45;&gt;41</title>\n",
       "<path fill=\"none\" stroke=\"black\" d=\"M2193.5,-192.884C2193.5,-184.778 2193.5,-175.982 2193.5,-167.472\"/>\n",
       "<polygon fill=\"black\" stroke=\"black\" points=\"2197,-167.299 2193.5,-157.299 2190,-167.299 2197,-167.299\"/>\n",
       "</g>\n",
       "<!-- 42 -->\n",
       "<g id=\"node42\" class=\"node\"><title>42</title>\n",
       "<polygon fill=\"none\" stroke=\"black\" points=\"2390,-149.5 2271,-149.5 2271,-96.5 2390,-96.5 2390,-149.5\"/>\n",
       "<text text-anchor=\"middle\" x=\"2330.5\" y=\"-134.3\" font-family=\"Times,serif\" font-size=\"14.00\">mse = 434636.222</text>\n",
       "<text text-anchor=\"middle\" x=\"2330.5\" y=\"-119.3\" font-family=\"Times,serif\" font-size=\"14.00\">samples = 3</text>\n",
       "<text text-anchor=\"middle\" x=\"2330.5\" y=\"-104.3\" font-family=\"Times,serif\" font-size=\"14.00\">value = 2041.667</text>\n",
       "</g>\n",
       "<!-- 18&#45;&gt;42 -->\n",
       "<g id=\"edge41\" class=\"edge\"><title>18&#45;&gt;42</title>\n",
       "<path fill=\"none\" stroke=\"black\" d=\"M2237.98,-192.884C2254.08,-180.896 2272.21,-167.399 2288.12,-155.549\"/>\n",
       "<polygon fill=\"black\" stroke=\"black\" points=\"2290.29,-158.299 2296.22,-149.52 2286.11,-152.684 2290.29,-158.299\"/>\n",
       "</g>\n",
       "<!-- 49 -->\n",
       "<g id=\"node40\" class=\"node\"><title>49</title>\n",
       "<polygon fill=\"none\" stroke=\"black\" points=\"2250,-53 2137,-53 2137,-0 2250,-0 2250,-53\"/>\n",
       "<text text-anchor=\"middle\" x=\"2193.5\" y=\"-37.8\" font-family=\"Times,serif\" font-size=\"14.00\">mse = 104940.25</text>\n",
       "<text text-anchor=\"middle\" x=\"2193.5\" y=\"-22.8\" font-family=\"Times,serif\" font-size=\"14.00\">samples = 4</text>\n",
       "<text text-anchor=\"middle\" x=\"2193.5\" y=\"-7.8\" font-family=\"Times,serif\" font-size=\"14.00\">value = 4087.5</text>\n",
       "</g>\n",
       "<!-- 41&#45;&gt;49 -->\n",
       "<g id=\"edge39\" class=\"edge\"><title>41&#45;&gt;49</title>\n",
       "<path fill=\"none\" stroke=\"black\" d=\"M2193.5,-88.9485C2193.5,-80.7153 2193.5,-71.848 2193.5,-63.4814\"/>\n",
       "<polygon fill=\"black\" stroke=\"black\" points=\"2197,-63.2367 2193.5,-53.2367 2190,-63.2367 2197,-63.2367\"/>\n",
       "</g>\n",
       "<!-- 50 -->\n",
       "<g id=\"node41\" class=\"node\"><title>50</title>\n",
       "<polygon fill=\"none\" stroke=\"black\" points=\"2374.5,-53 2268.5,-53 2268.5,-0 2374.5,-0 2374.5,-53\"/>\n",
       "<text text-anchor=\"middle\" x=\"2321.5\" y=\"-37.8\" font-family=\"Times,serif\" font-size=\"14.00\">mse = 625934.0</text>\n",
       "<text text-anchor=\"middle\" x=\"2321.5\" y=\"-22.8\" font-family=\"Times,serif\" font-size=\"14.00\">samples = 5</text>\n",
       "<text text-anchor=\"middle\" x=\"2321.5\" y=\"-7.8\" font-family=\"Times,serif\" font-size=\"14.00\">value = 3114.0</text>\n",
       "</g>\n",
       "<!-- 41&#45;&gt;50 -->\n",
       "<g id=\"edge40\" class=\"edge\"><title>41&#45;&gt;50</title>\n",
       "<path fill=\"none\" stroke=\"black\" d=\"M2238.27,-88.9485C2251.28,-79.3431 2265.46,-68.8747 2278.37,-59.345\"/>\n",
       "<polygon fill=\"black\" stroke=\"black\" points=\"2280.67,-61.992 2286.64,-53.2367 2276.52,-56.3605 2280.67,-61.992\"/>\n",
       "</g>\n",
       "<!-- 11 -->\n",
       "<g id=\"node44\" class=\"node\"><title>11</title>\n",
       "<polygon fill=\"none\" stroke=\"black\" points=\"2717,-261 2598,-261 2598,-193 2717,-193 2717,-261\"/>\n",
       "<text text-anchor=\"middle\" x=\"2657.5\" y=\"-245.8\" font-family=\"Times,serif\" font-size=\"14.00\">X[0] &lt;= 8.5</text>\n",
       "<text text-anchor=\"middle\" x=\"2657.5\" y=\"-230.8\" font-family=\"Times,serif\" font-size=\"14.00\">mse = 787319.105</text>\n",
       "<text text-anchor=\"middle\" x=\"2657.5\" y=\"-215.8\" font-family=\"Times,serif\" font-size=\"14.00\">samples = 140</text>\n",
       "<text text-anchor=\"middle\" x=\"2657.5\" y=\"-200.8\" font-family=\"Times,serif\" font-size=\"14.00\">value = 6777.95</text>\n",
       "</g>\n",
       "<!-- 4&#45;&gt;11 -->\n",
       "<g id=\"edge43\" class=\"edge\"><title>4&#45;&gt;11</title>\n",
       "<path fill=\"none\" stroke=\"black\" d=\"M2657.5,-296.884C2657.5,-288.778 2657.5,-279.982 2657.5,-271.472\"/>\n",
       "<polygon fill=\"black\" stroke=\"black\" points=\"2661,-271.299 2657.5,-261.299 2654,-271.299 2661,-271.299\"/>\n",
       "</g>\n",
       "<!-- 12 -->\n",
       "<g id=\"node51\" class=\"node\"><title>12</title>\n",
       "<polygon fill=\"none\" stroke=\"black\" points=\"3057.5,-261 2931.5,-261 2931.5,-193 3057.5,-193 3057.5,-261\"/>\n",
       "<text text-anchor=\"middle\" x=\"2994.5\" y=\"-245.8\" font-family=\"Times,serif\" font-size=\"14.00\">X[4] &lt;= 0.211</text>\n",
       "<text text-anchor=\"middle\" x=\"2994.5\" y=\"-230.8\" font-family=\"Times,serif\" font-size=\"14.00\">mse = 1074227.903</text>\n",
       "<text text-anchor=\"middle\" x=\"2994.5\" y=\"-215.8\" font-family=\"Times,serif\" font-size=\"14.00\">samples = 22</text>\n",
       "<text text-anchor=\"middle\" x=\"2994.5\" y=\"-200.8\" font-family=\"Times,serif\" font-size=\"14.00\">value = 5484.227</text>\n",
       "</g>\n",
       "<!-- 4&#45;&gt;12 -->\n",
       "<g id=\"edge50\" class=\"edge\"><title>4&#45;&gt;12</title>\n",
       "<path fill=\"none\" stroke=\"black\" d=\"M2720.89,-310.815C2777.96,-293.54 2861.82,-268.158 2921.64,-250.053\"/>\n",
       "<polygon fill=\"black\" stroke=\"black\" points=\"2922.84,-253.346 2931.4,-247.099 2920.81,-246.646 2922.84,-253.346\"/>\n",
       "</g>\n",
       "<!-- 23 -->\n",
       "<g id=\"node45\" class=\"node\"><title>23</title>\n",
       "<polygon fill=\"none\" stroke=\"black\" points=\"2646,-157 2533,-157 2533,-89 2646,-89 2646,-157\"/>\n",
       "<text text-anchor=\"middle\" x=\"2589.5\" y=\"-141.8\" font-family=\"Times,serif\" font-size=\"14.00\">X[3] &lt;= 0.765</text>\n",
       "<text text-anchor=\"middle\" x=\"2589.5\" y=\"-126.8\" font-family=\"Times,serif\" font-size=\"14.00\">mse = 709733.65</text>\n",
       "<text text-anchor=\"middle\" x=\"2589.5\" y=\"-111.8\" font-family=\"Times,serif\" font-size=\"14.00\">samples = 101</text>\n",
       "<text text-anchor=\"middle\" x=\"2589.5\" y=\"-96.8\" font-family=\"Times,serif\" font-size=\"14.00\">value = 6595.574</text>\n",
       "</g>\n",
       "<!-- 11&#45;&gt;23 -->\n",
       "<g id=\"edge44\" class=\"edge\"><title>11&#45;&gt;23</title>\n",
       "<path fill=\"none\" stroke=\"black\" d=\"M2635.42,-192.884C2629.66,-184.243 2623.38,-174.819 2617.36,-165.793\"/>\n",
       "<polygon fill=\"black\" stroke=\"black\" points=\"2620.16,-163.678 2611.7,-157.299 2614.33,-167.561 2620.16,-163.678\"/>\n",
       "</g>\n",
       "<!-- 24 -->\n",
       "<g id=\"node48\" class=\"node\"><title>24</title>\n",
       "<polygon fill=\"none\" stroke=\"black\" points=\"2783,-157 2670,-157 2670,-89 2783,-89 2783,-157\"/>\n",
       "<text text-anchor=\"middle\" x=\"2726.5\" y=\"-141.8\" font-family=\"Times,serif\" font-size=\"14.00\">X[4] &lt;= 0.29</text>\n",
       "<text text-anchor=\"middle\" x=\"2726.5\" y=\"-126.8\" font-family=\"Times,serif\" font-size=\"14.00\">mse = 679034.96</text>\n",
       "<text text-anchor=\"middle\" x=\"2726.5\" y=\"-111.8\" font-family=\"Times,serif\" font-size=\"14.00\">samples = 39</text>\n",
       "<text text-anchor=\"middle\" x=\"2726.5\" y=\"-96.8\" font-family=\"Times,serif\" font-size=\"14.00\">value = 7250.256</text>\n",
       "</g>\n",
       "<!-- 11&#45;&gt;24 -->\n",
       "<g id=\"edge47\" class=\"edge\"><title>11&#45;&gt;24</title>\n",
       "<path fill=\"none\" stroke=\"black\" d=\"M2679.9,-192.884C2685.75,-184.243 2692.12,-174.819 2698.23,-165.793\"/>\n",
       "<polygon fill=\"black\" stroke=\"black\" points=\"2701.27,-167.543 2703.97,-157.299 2695.47,-163.621 2701.27,-167.543\"/>\n",
       "</g>\n",
       "<!-- 33 -->\n",
       "<g id=\"node46\" class=\"node\"><title>33</title>\n",
       "<polygon fill=\"none\" stroke=\"black\" points=\"2512,-53 2393,-53 2393,-0 2512,-0 2512,-53\"/>\n",
       "<text text-anchor=\"middle\" x=\"2452.5\" y=\"-37.8\" font-family=\"Times,serif\" font-size=\"14.00\">mse = 677361.196</text>\n",
       "<text text-anchor=\"middle\" x=\"2452.5\" y=\"-22.8\" font-family=\"Times,serif\" font-size=\"14.00\">samples = 87</text>\n",
       "<text text-anchor=\"middle\" x=\"2452.5\" y=\"-7.8\" font-family=\"Times,serif\" font-size=\"14.00\">value = 6696.103</text>\n",
       "</g>\n",
       "<!-- 23&#45;&gt;33 -->\n",
       "<g id=\"edge45\" class=\"edge\"><title>23&#45;&gt;33</title>\n",
       "<path fill=\"none\" stroke=\"black\" d=\"M2541.58,-88.9485C2527.53,-79.2516 2512.19,-68.6752 2498.27,-59.073\"/>\n",
       "<polygon fill=\"black\" stroke=\"black\" points=\"2500.03,-56.0337 2489.81,-53.2367 2496.06,-61.7959 2500.03,-56.0337\"/>\n",
       "</g>\n",
       "<!-- 34 -->\n",
       "<g id=\"node47\" class=\"node\"><title>34</title>\n",
       "<polygon fill=\"none\" stroke=\"black\" points=\"2649,-53 2530,-53 2530,-0 2649,-0 2649,-53\"/>\n",
       "<text text-anchor=\"middle\" x=\"2589.5\" y=\"-37.8\" font-family=\"Times,serif\" font-size=\"14.00\">mse = 457831.551</text>\n",
       "<text text-anchor=\"middle\" x=\"2589.5\" y=\"-22.8\" font-family=\"Times,serif\" font-size=\"14.00\">samples = 14</text>\n",
       "<text text-anchor=\"middle\" x=\"2589.5\" y=\"-7.8\" font-family=\"Times,serif\" font-size=\"14.00\">value = 5970.857</text>\n",
       "</g>\n",
       "<!-- 23&#45;&gt;34 -->\n",
       "<g id=\"edge46\" class=\"edge\"><title>23&#45;&gt;34</title>\n",
       "<path fill=\"none\" stroke=\"black\" d=\"M2589.5,-88.9485C2589.5,-80.7153 2589.5,-71.848 2589.5,-63.4814\"/>\n",
       "<polygon fill=\"black\" stroke=\"black\" points=\"2593,-63.2367 2589.5,-53.2367 2586,-63.2367 2593,-63.2367\"/>\n",
       "</g>\n",
       "<!-- 25 -->\n",
       "<g id=\"node49\" class=\"node\"><title>25</title>\n",
       "<polygon fill=\"none\" stroke=\"black\" points=\"2786,-53 2667,-53 2667,-0 2786,-0 2786,-53\"/>\n",
       "<text text-anchor=\"middle\" x=\"2726.5\" y=\"-37.8\" font-family=\"Times,serif\" font-size=\"14.00\">mse = 377418.576</text>\n",
       "<text text-anchor=\"middle\" x=\"2726.5\" y=\"-22.8\" font-family=\"Times,serif\" font-size=\"14.00\">samples = 36</text>\n",
       "<text text-anchor=\"middle\" x=\"2726.5\" y=\"-7.8\" font-family=\"Times,serif\" font-size=\"14.00\">value = 7408.25</text>\n",
       "</g>\n",
       "<!-- 24&#45;&gt;25 -->\n",
       "<g id=\"edge48\" class=\"edge\"><title>24&#45;&gt;25</title>\n",
       "<path fill=\"none\" stroke=\"black\" d=\"M2726.5,-88.9485C2726.5,-80.7153 2726.5,-71.848 2726.5,-63.4814\"/>\n",
       "<polygon fill=\"black\" stroke=\"black\" points=\"2730,-63.2367 2726.5,-53.2367 2723,-63.2367 2730,-63.2367\"/>\n",
       "</g>\n",
       "<!-- 26 -->\n",
       "<g id=\"node50\" class=\"node\"><title>26</title>\n",
       "<polygon fill=\"none\" stroke=\"black\" points=\"2923,-53 2804,-53 2804,-0 2923,-0 2923,-53\"/>\n",
       "<text text-anchor=\"middle\" x=\"2863.5\" y=\"-37.8\" font-family=\"Times,serif\" font-size=\"14.00\">mse = 404363.556</text>\n",
       "<text text-anchor=\"middle\" x=\"2863.5\" y=\"-22.8\" font-family=\"Times,serif\" font-size=\"14.00\">samples = 3</text>\n",
       "<text text-anchor=\"middle\" x=\"2863.5\" y=\"-7.8\" font-family=\"Times,serif\" font-size=\"14.00\">value = 5354.333</text>\n",
       "</g>\n",
       "<!-- 24&#45;&gt;26 -->\n",
       "<g id=\"edge49\" class=\"edge\"><title>24&#45;&gt;26</title>\n",
       "<path fill=\"none\" stroke=\"black\" d=\"M2774.42,-88.9485C2788.47,-79.2516 2803.81,-68.6752 2817.73,-59.073\"/>\n",
       "<polygon fill=\"black\" stroke=\"black\" points=\"2819.94,-61.7959 2826.19,-53.2367 2815.97,-56.0337 2819.94,-61.7959\"/>\n",
       "</g>\n",
       "<!-- 35 -->\n",
       "<g id=\"node52\" class=\"node\"><title>35</title>\n",
       "<polygon fill=\"none\" stroke=\"black\" points=\"3054,-157 2935,-157 2935,-89 3054,-89 3054,-157\"/>\n",
       "<text text-anchor=\"middle\" x=\"2994.5\" y=\"-141.8\" font-family=\"Times,serif\" font-size=\"14.00\">X[2] &lt;= 0.837</text>\n",
       "<text text-anchor=\"middle\" x=\"2994.5\" y=\"-126.8\" font-family=\"Times,serif\" font-size=\"14.00\">mse = 762155.215</text>\n",
       "<text text-anchor=\"middle\" x=\"2994.5\" y=\"-111.8\" font-family=\"Times,serif\" font-size=\"14.00\">samples = 16</text>\n",
       "<text text-anchor=\"middle\" x=\"2994.5\" y=\"-96.8\" font-family=\"Times,serif\" font-size=\"14.00\">value = 5799.312</text>\n",
       "</g>\n",
       "<!-- 12&#45;&gt;35 -->\n",
       "<g id=\"edge51\" class=\"edge\"><title>12&#45;&gt;35</title>\n",
       "<path fill=\"none\" stroke=\"black\" d=\"M2994.5,-192.884C2994.5,-184.778 2994.5,-175.982 2994.5,-167.472\"/>\n",
       "<polygon fill=\"black\" stroke=\"black\" points=\"2998,-167.299 2994.5,-157.299 2991,-167.299 2998,-167.299\"/>\n",
       "</g>\n",
       "<!-- 36 -->\n",
       "<g id=\"node55\" class=\"node\"><title>36</title>\n",
       "<polygon fill=\"none\" stroke=\"black\" points=\"3191,-149.5 3072,-149.5 3072,-96.5 3191,-96.5 3191,-149.5\"/>\n",
       "<text text-anchor=\"middle\" x=\"3131.5\" y=\"-134.3\" font-family=\"Times,serif\" font-size=\"14.00\">mse = 935696.667</text>\n",
       "<text text-anchor=\"middle\" x=\"3131.5\" y=\"-119.3\" font-family=\"Times,serif\" font-size=\"14.00\">samples = 6</text>\n",
       "<text text-anchor=\"middle\" x=\"3131.5\" y=\"-104.3\" font-family=\"Times,serif\" font-size=\"14.00\">value = 4644.0</text>\n",
       "</g>\n",
       "<!-- 12&#45;&gt;36 -->\n",
       "<g id=\"edge54\" class=\"edge\"><title>12&#45;&gt;36</title>\n",
       "<path fill=\"none\" stroke=\"black\" d=\"M3038.98,-192.884C3055.08,-180.896 3073.21,-167.399 3089.12,-155.549\"/>\n",
       "<polygon fill=\"black\" stroke=\"black\" points=\"3091.29,-158.299 3097.22,-149.52 3087.11,-152.684 3091.29,-158.299\"/>\n",
       "</g>\n",
       "<!-- 45 -->\n",
       "<g id=\"node53\" class=\"node\"><title>45</title>\n",
       "<polygon fill=\"none\" stroke=\"black\" points=\"3047.5,-53 2941.5,-53 2941.5,-0 3047.5,-0 3047.5,-53\"/>\n",
       "<text text-anchor=\"middle\" x=\"2994.5\" y=\"-37.8\" font-family=\"Times,serif\" font-size=\"14.00\">mse = 633769.5</text>\n",
       "<text text-anchor=\"middle\" x=\"2994.5\" y=\"-22.8\" font-family=\"Times,serif\" font-size=\"14.00\">samples = 12</text>\n",
       "<text text-anchor=\"middle\" x=\"2994.5\" y=\"-7.8\" font-family=\"Times,serif\" font-size=\"14.00\">value = 6061.0</text>\n",
       "</g>\n",
       "<!-- 35&#45;&gt;45 -->\n",
       "<g id=\"edge52\" class=\"edge\"><title>35&#45;&gt;45</title>\n",
       "<path fill=\"none\" stroke=\"black\" d=\"M2994.5,-88.9485C2994.5,-80.7153 2994.5,-71.848 2994.5,-63.4814\"/>\n",
       "<polygon fill=\"black\" stroke=\"black\" points=\"2998,-63.2367 2994.5,-53.2367 2991,-63.2367 2998,-63.2367\"/>\n",
       "</g>\n",
       "<!-- 46 -->\n",
       "<g id=\"node54\" class=\"node\"><title>46</title>\n",
       "<polygon fill=\"none\" stroke=\"black\" points=\"3185,-53 3066,-53 3066,-0 3185,-0 3185,-53\"/>\n",
       "<text text-anchor=\"middle\" x=\"3125.5\" y=\"-37.8\" font-family=\"Times,serif\" font-size=\"14.00\">mse = 325548.188</text>\n",
       "<text text-anchor=\"middle\" x=\"3125.5\" y=\"-22.8\" font-family=\"Times,serif\" font-size=\"14.00\">samples = 4</text>\n",
       "<text text-anchor=\"middle\" x=\"3125.5\" y=\"-7.8\" font-family=\"Times,serif\" font-size=\"14.00\">value = 5014.25</text>\n",
       "</g>\n",
       "<!-- 35&#45;&gt;46 -->\n",
       "<g id=\"edge53\" class=\"edge\"><title>35&#45;&gt;46</title>\n",
       "<path fill=\"none\" stroke=\"black\" d=\"M3040.32,-88.9485C3053.63,-79.3431 3068.14,-68.8747 3081.36,-59.345\"/>\n",
       "<polygon fill=\"black\" stroke=\"black\" points=\"3083.76,-61.9257 3089.82,-53.2367 3079.66,-56.2486 3083.76,-61.9257\"/>\n",
       "</g>\n",
       "</g>\n",
       "</svg>\n"
      ],
      "text/plain": [
       "<graphviz.files.Source at 0x7fd63b47e1d0>"
      ]
     },
     "execution_count": 29,
     "metadata": {},
     "output_type": "execute_result"
    }
   ],
   "source": [
    "from sklearn import tree\n",
    "import pydot\n",
    "import graphviz\n",
    "dtr_data=tree.export_graphviz(dtr,out_file=None)\n",
    "dtr_graph=graphviz.Source(dtr_data)\n",
    "dtr_graph"
   ]
  },
  {
   "cell_type": "markdown",
   "metadata": {},
   "source": [
    "\n"
   ]
  },
  {
   "cell_type": "markdown",
   "metadata": {},
   "source": [
    "Model performance on test dataset"
   ]
  },
  {
   "cell_type": "code",
   "execution_count": 30,
   "metadata": {},
   "outputs": [
    {
     "name": "stdout",
     "output_type": "stream",
     "text": [
      "R-squared score for testing dataset:: 0.839\n"
     ]
    }
   ],
   "source": [
    "from sklearn.metrics import r2_score\n",
    "# Test dataset for model testing\n",
    "X_dt=Bike_test\n",
    "y_dt=y_test.total_count.values\n",
    "#predict the model performance\n",
    "y_dpred=dtr.predict(X_dt)\n",
    "residuals=y_dt-y_dpred\n",
    "#predicted score\n",
    "print('R-squared score for testing dataset::',np.round(r2_score(y_dt,y_dpred),3))"
   ]
  },
  {
   "cell_type": "markdown",
   "metadata": {},
   "source": [
    "Residual plot for test data"
   ]
  },
  {
   "cell_type": "code",
   "execution_count": 31,
   "metadata": {},
   "outputs": [
    {
     "data": {
      "image/png": "[encoded data removed]",
      "text/plain": [
       "<Figure size 1080x576 with 1 Axes>"
      ]
     },
     "metadata": {
      "needs_background": "light"
     },
     "output_type": "display_data"
    }
   ],
   "source": [
    "residuals=y_dt-y_dpred\n",
    "fig,ax=plt.subplots(figsize=(15,8))\n",
    "ax.scatter(y_dt, residuals)\n",
    "ax.axhline(lw=2,color='black')\n",
    "ax.set_title('Residual plot for testing dataset')\n",
    "ax.set_xlabel('Observed')\n",
    "ax.set_ylabel('Resduals')\n",
    "plt.show()"
   ]
  },
  {
   "cell_type": "markdown",
   "metadata": {},
   "source": [
    "From the R-squared score, it is evedent that,the Decision tree based regression model permance is comparable with linear regression model."
   ]
  },
  {
   "cell_type": "markdown",
   "metadata": {},
   "source": [
    "**Random Forest based Regression**"
   ]
  },
  {
   "cell_type": "markdown",
   "metadata": {},
   "source": [
    " Train & Test Datasets for Random Forest based regression"
   ]
  },
  {
   "cell_type": "code",
   "execution_count": 32,
   "metadata": {},
   "outputs": [
    {
     "data": {
      "text/plain": [
       "((511, 18), (511,))"
      ]
     },
     "execution_count": 32,
     "metadata": {},
     "output_type": "execute_result"
    }
   ],
   "source": [
    "# Train dataset\n",
    "X_rf_tr=Bike_train\n",
    "y_rf_tr=y_train.total_count.values\n",
    "X_rf_tr.shape,y_rf_tr.shape"
   ]
  },
  {
   "cell_type": "code",
   "execution_count": 33,
   "metadata": {},
   "outputs": [
    {
     "data": {
      "text/plain": [
       "((220, 18), (220,))"
      ]
     },
     "execution_count": 33,
     "metadata": {},
     "output_type": "execute_result"
    }
   ],
   "source": [
    "#Test dataset\n",
    "X_rf_ts=Bike_test\n",
    "y_rf_ts=y_test.total_count.values\n",
    "X_rf_ts.shape,y_rf_ts.shape"
   ]
  },
  {
   "cell_type": "code",
   "execution_count": 34,
   "metadata": {},
   "outputs": [
    {
     "data": {
      "text/plain": [
       "RandomForestRegressor(bootstrap=True, criterion='mse', max_depth=None,\n",
       "                      max_features='auto', max_leaf_nodes=None,\n",
       "                      min_impurity_decrease=0.0, min_impurity_split=None,\n",
       "                      min_samples_leaf=1, min_samples_split=2,\n",
       "                      min_weight_fraction_leaf=0.0, n_estimators=1000,\n",
       "                      n_jobs=None, oob_score=False, random_state=42, verbose=0,\n",
       "                      warm_start=False)"
      ]
     },
     "execution_count": 34,
     "metadata": {},
     "output_type": "execute_result"
    }
   ],
   "source": [
    "# import the model\n",
    "from sklearn.ensemble import RandomForestRegressor\n",
    "# Assign no. of decision trees = 1000\n",
    "rf=RandomForestRegressor(n_estimators=1000, random_state=42)\n",
    "# Train the model on the training data\n",
    "rf.fit(X_rf_tr,y_rf_tr)"
   ]
  },
  {
   "cell_type": "code",
   "execution_count": 35,
   "metadata": {},
   "outputs": [
    {
     "name": "stdout",
     "output_type": "stream",
     "text": [
      "R-squared score for trained dataset:: 0.981\n"
     ]
    }
   ],
   "source": [
    "# R-squared score for trained data\n",
    "print('R-squared score for trained dataset::',np.round(rf.score(X_rf_tr,y_rf_tr),3))"
   ]
  },
  {
   "cell_type": "markdown",
   "metadata": {},
   "source": [
    "Making predictions on the test dataset\n"
   ]
  },
  {
   "cell_type": "code",
   "execution_count": 36,
   "metadata": {},
   "outputs": [
    {
     "name": "stdout",
     "output_type": "stream",
     "text": [
      "R-squared score for predictions:: 0.897\n"
     ]
    }
   ],
   "source": [
    "#Use the forest's predict method\n",
    "y_pred_rf=rf.predict(X_rf_ts)\n",
    "\n",
    "# R-squared score for predictions\n",
    "print('R-squared score for predictions::',np.round(r2_score(y_rf_ts,y_pred_rf),3))"
   ]
  },
  {
   "cell_type": "markdown",
   "metadata": {},
   "source": [
    "**Model Evaluation**"
   ]
  },
  {
   "cell_type": "markdown",
   "metadata": {},
   "source": [
    "Evaluating the models to select best model for prediction"
   ]
  },
  {
   "cell_type": "code",
   "execution_count": 37,
   "metadata": {},
   "outputs": [
    {
     "name": "stdout",
     "output_type": "stream",
     "text": [
      "Model evaluation on test data:\n",
      "                Model  R2_score\n",
      "0  Linear Regression     0.846\n",
      "1      Decision tree     0.840\n",
      "2      Random Forest     0.897\n"
     ]
    }
   ],
   "source": [
    "#Dataframe for models\n",
    "Model = ['Linear Regression','Decision tree','Random Forest']\n",
    "df1=pd.DataFrame(Model,columns=['Model'])\n",
    "R2_score = [0.846,0.84,0.897]\n",
    "df2=pd.DataFrame(R2_score,columns=['R2_score'])\n",
    "Model_df=pd.merge(df1,df2,left_index=True,right_index=True)\n",
    "print('Model evaluation on test data:\\n',Model_df)"
   ]
  },
  {
   "cell_type": "markdown",
   "metadata": {},
   "source": [
    "From the R2_score, it is concluded that, the Random Forest based regression has higest score among all models. Hence, the Random Forest based Regression is best for predicting the Bike sharing demand."
   ]
  }
 ],
 "metadata": {
  "kernelspec": {
   "display_name": "Python 3",
   "language": "python",
   "name": "python3"
  },
  "language_info": {
   "codemirror_mode": {
    "name": "ipython",
    "version": 3
   },
   "file_extension": ".py",
   "mimetype": "text/x-python",
   "name": "python",
   "nbconvert_exporter": "python",
   "pygments_lexer": "ipython3",
   "version": "3.6.6"
  }
 },
 "nbformat": 4,
 "nbformat_minor": 1
}
