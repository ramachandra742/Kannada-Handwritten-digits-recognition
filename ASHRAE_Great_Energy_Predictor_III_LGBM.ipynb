{
  "nbformat": 4,
  "nbformat_minor": 0,
  "metadata": {
    "colab": {
      "name": "ASHRAE - Great Energy Predictor III -LGBM",
      "provenance": [],
      "collapsed_sections": [],
      "machine_shape": "hm",
      "include_colab_link": true
    },
    "kernelspec": {
      "name": "python3",
      "display_name": "Python 3"
    },
    "accelerator": "TPU"
  },
  "cells": [
    {
      "cell_type": "markdown",
      "metadata": {
        "id": "view-in-github",
        "colab_type": "text"
      },
      "source": [
        "<a href=\"https://colab.research.google.com/github/ramachandra742/Machine-Learning-Projects-Jupyter/blob/master/ASHRAE_Great_Energy_Predictor_III_LGBM.ipynb\" target=\"_parent\"><img src=\"https://colab.research.google.com/assets/colab-badge.svg\" alt=\"Open In Colab\"/></a>"
      ]
    },
    {
      "cell_type": "markdown",
      "metadata": {
        "id": "fnxFvO32mGdO",
        "colab_type": "text"
      },
      "source": [
        "**Load the datasets from kaggle**"
      ]
    },
    {
      "cell_type": "code",
      "metadata": {
        "id": "JI4PjzxCmMoI",
        "colab_type": "code",
        "outputId": "3b6bc486-e15b-4fdc-e263-711342e3f7d2",
        "colab": {
          "resources": {
            "http://localhost:8080/nbextensions/google.colab/files.js": {
              "data": "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",
              "ok": true,
              "headers": [
                [
                  "content-type",
                  "application/javascript"
                ]
              ],
              "status": 200,
              "status_text": "OK"
            }
          },
          "base_uri": "https://localhost:8080/",
          "height": 77
        }
      },
      "source": [
        "from google.colab import files\n",
        "uploaded_json=files.upload()                  #Upload kaggle API json file"
      ],
      "execution_count": 10,
      "outputs": [
        {
          "output_type": "display_data",
          "data": {
            "text/html": [
              "\n",
              "     <input type=\"file\" id=\"files-ccc23ee8-7616-4e57-9155-b11e8fda7b9d\" name=\"files[]\" multiple disabled />\n",
              "     <output id=\"result-ccc23ee8-7616-4e57-9155-b11e8fda7b9d\">\n",
              "      Upload widget is only available when the cell has been executed in the\n",
              "      current browser session. Please rerun this cell to enable.\n",
              "      </output>\n",
              "      <script src=\"/nbextensions/google.colab/files.js\"></script> "
            ],
            "text/plain": [
              "<IPython.core.display.HTML object>"
            ]
          },
          "metadata": {
            "tags": []
          }
        },
        {
          "output_type": "stream",
          "text": [
            "Saving kaggle.json to kaggle.json\n"
          ],
          "name": "stdout"
        }
      ]
    },
    {
      "cell_type": "code",
      "metadata": {
        "id": "Xj-gCX3Hr-1y",
        "colab_type": "code",
        "colab": {}
      },
      "source": [
        "!pip install -q kaggle        #install kaggle API"
      ],
      "execution_count": 0,
      "outputs": []
    },
    {
      "cell_type": "code",
      "metadata": {
        "id": "mgC7Ilw0tr4c",
        "colab_type": "code",
        "colab": {}
      },
      "source": [
        "!mkdir -p ~/.kaggle\n",
        "!cp kaggle.json ~/.kaggle/         #move kaggle json file to /.kaggle"
      ],
      "execution_count": 0,
      "outputs": []
    },
    {
      "cell_type": "code",
      "metadata": {
        "id": "vZhuMPfGuKax",
        "colab_type": "code",
        "outputId": "a82e808c-e7c0-48c6-f06e-3fbfbf40522e",
        "colab": {
          "base_uri": "https://localhost:8080/",
          "height": 35
        }
      },
      "source": [
        "!ls                    #list directory"
      ],
      "execution_count": 13,
      "outputs": [
        {
          "output_type": "stream",
          "text": [
            "kaggle.json  sample_data\n"
          ],
          "name": "stdout"
        }
      ]
    },
    {
      "cell_type": "code",
      "metadata": {
        "id": "hBcRsdGIuxl-",
        "colab_type": "code",
        "colab": {}
      },
      "source": [
        "\n",
        "!chmod 600 /root/.kaggle/kaggle.json"
      ],
      "execution_count": 0,
      "outputs": []
    },
    {
      "cell_type": "code",
      "metadata": {
        "id": "WSXqxq0zumro",
        "colab_type": "code",
        "outputId": "1abc737b-a03b-4353-de73-cd462412e23c",
        "colab": {
          "base_uri": "https://localhost:8080/",
          "height": 366
        }
      },
      "source": [
        "!kaggle competitions download -c ashrae-energy-prediction"
      ],
      "execution_count": 15,
      "outputs": [
        {
          "output_type": "stream",
          "text": [
            "Warning: Looks like you're using an outdated API Version, please consider updating (server 1.5.6 / client 1.5.4)\n",
            "Downloading test.csv.zip to /content\n",
            " 97% 161M/167M [00:03<00:00, 61.0MB/s]\n",
            "100% 167M/167M [00:03<00:00, 56.9MB/s]\n",
            "Downloading weather_test.csv.zip to /content\n",
            "  0% 0.00/2.53M [00:00<?, ?B/s]\n",
            "100% 2.53M/2.53M [00:00<00:00, 171MB/s]\n",
            "Downloading train.csv.zip to /content\n",
            " 94% 113M/120M [00:02<00:00, 41.7MB/s]\n",
            "100% 120M/120M [00:02<00:00, 47.0MB/s]\n",
            "Downloading weather_train.csv.zip to /content\n",
            "  0% 0.00/1.27M [00:00<?, ?B/s]\n",
            "100% 1.27M/1.27M [00:00<00:00, 179MB/s]\n",
            "Downloading sample_submission.csv.zip to /content\n",
            " 94% 83.0M/88.4M [00:01<00:00, 50.4MB/s]\n",
            "100% 88.4M/88.4M [00:01<00:00, 50.9MB/s]\n",
            "Downloading building_metadata.csv to /content\n",
            "  0% 0.00/44.5k [00:00<?, ?B/s]\n",
            "100% 44.5k/44.5k [00:00<00:00, 39.7MB/s]\n"
          ],
          "name": "stdout"
        }
      ]
    },
    {
      "cell_type": "code",
      "metadata": {
        "id": "8L1fez4VvvvK",
        "colab_type": "code",
        "outputId": "b47834e2-9a83-4d65-9e18-b044c0f14bb1",
        "colab": {
          "base_uri": "https://localhost:8080/",
          "height": 311
        }
      },
      "source": [
        "!unzip \\*.zip"
      ],
      "execution_count": 16,
      "outputs": [
        {
          "output_type": "stream",
          "text": [
            "Archive:  weather_train.csv.zip\n",
            "  inflating: weather_train.csv       \n",
            "\n",
            "Archive:  train.csv.zip\n",
            "  inflating: train.csv               \n",
            "\n",
            "Archive:  test.csv.zip\n",
            "  inflating: test.csv                \n",
            "\n",
            "Archive:  sample_submission.csv.zip\n",
            "  inflating: sample_submission.csv   \n",
            "\n",
            "Archive:  weather_test.csv.zip\n",
            "  inflating: weather_test.csv        \n",
            "\n",
            "5 archives were successfully processed.\n"
          ],
          "name": "stdout"
        }
      ]
    },
    {
      "cell_type": "markdown",
      "metadata": {
        "id": "fKeMHow1wPMj",
        "colab_type": "text"
      },
      "source": [
        "Read the datasets"
      ]
    },
    {
      "cell_type": "code",
      "metadata": {
        "id": "YQ4wkaMMFE4n",
        "colab_type": "code",
        "colab": {}
      },
      "source": [
        "#Selected columns \n",
        "metadata_cols=['site_id','building_id','primary_use','square_feet','floor_count']\n",
        "weather_cols=['site_id','timestamp','air_temperature','dew_temperature','sea_level_pressure','wind_direction','wind_speed']"
      ],
      "execution_count": 0,
      "outputs": []
    },
    {
      "cell_type": "code",
      "metadata": {
        "id": "tMwJ2Rbjv4jl",
        "colab_type": "code",
        "colab": {}
      },
      "source": [
        "import pandas as pd\n",
        "train_df=pd.read_csv('train.csv',na_values='NaN')\n",
        "test_df=pd.read_csv('test.csv',na_values='NaN')\n",
        "weather_train=pd.read_csv('weather_train.csv',na_values='NaN',usecols=weather_cols)\n",
        "weather_test=pd.read_csv('weather_test.csv',na_values='NaN',usecols=weather_cols)\n",
        "building_metadata=pd.read_csv('building_metadata.csv',na_values='NaN',usecols=metadata_cols)"
      ],
      "execution_count": 0,
      "outputs": []
    },
    {
      "cell_type": "markdown",
      "metadata": {
        "id": "BVbjVthG41Bt",
        "colab_type": "text"
      },
      "source": [
        "Lets explore the datasets"
      ]
    },
    {
      "cell_type": "code",
      "metadata": {
        "id": "NfCT9xsbxY4E",
        "colab_type": "code",
        "outputId": "2ae10b74-ca8f-42bb-9e1f-ba4b379541b8",
        "colab": {
          "base_uri": "https://localhost:8080/",
          "height": 206
        }
      },
      "source": [
        "train_df.head()"
      ],
      "execution_count": 19,
      "outputs": [
        {
          "output_type": "execute_result",
          "data": {
            "text/html": [
              "<div>\n",
              "<style scoped>\n",
              "    .dataframe tbody tr th:only-of-type {\n",
              "        vertical-align: middle;\n",
              "    }\n",
              "\n",
              "    .dataframe tbody tr th {\n",
              "        vertical-align: top;\n",
              "    }\n",
              "\n",
              "    .dataframe thead th {\n",
              "        text-align: right;\n",
              "    }\n",
              "</style>\n",
              "<table border=\"1\" class=\"dataframe\">\n",
              "  <thead>\n",
              "    <tr style=\"text-align: right;\">\n",
              "      <th></th>\n",
              "      <th>building_id</th>\n",
              "      <th>meter</th>\n",
              "      <th>timestamp</th>\n",
              "      <th>meter_reading</th>\n",
              "    </tr>\n",
              "  </thead>\n",
              "  <tbody>\n",
              "    <tr>\n",
              "      <th>0</th>\n",
              "      <td>0</td>\n",
              "      <td>0</td>\n",
              "      <td>2016-01-01 00:00:00</td>\n",
              "      <td>0.0</td>\n",
              "    </tr>\n",
              "    <tr>\n",
              "      <th>1</th>\n",
              "      <td>1</td>\n",
              "      <td>0</td>\n",
              "      <td>2016-01-01 00:00:00</td>\n",
              "      <td>0.0</td>\n",
              "    </tr>\n",
              "    <tr>\n",
              "      <th>2</th>\n",
              "      <td>2</td>\n",
              "      <td>0</td>\n",
              "      <td>2016-01-01 00:00:00</td>\n",
              "      <td>0.0</td>\n",
              "    </tr>\n",
              "    <tr>\n",
              "      <th>3</th>\n",
              "      <td>3</td>\n",
              "      <td>0</td>\n",
              "      <td>2016-01-01 00:00:00</td>\n",
              "      <td>0.0</td>\n",
              "    </tr>\n",
              "    <tr>\n",
              "      <th>4</th>\n",
              "      <td>4</td>\n",
              "      <td>0</td>\n",
              "      <td>2016-01-01 00:00:00</td>\n",
              "      <td>0.0</td>\n",
              "    </tr>\n",
              "  </tbody>\n",
              "</table>\n",
              "</div>"
            ],
            "text/plain": [
              "   building_id  meter            timestamp  meter_reading\n",
              "0            0      0  2016-01-01 00:00:00            0.0\n",
              "1            1      0  2016-01-01 00:00:00            0.0\n",
              "2            2      0  2016-01-01 00:00:00            0.0\n",
              "3            3      0  2016-01-01 00:00:00            0.0\n",
              "4            4      0  2016-01-01 00:00:00            0.0"
            ]
          },
          "metadata": {
            "tags": []
          },
          "execution_count": 19
        }
      ]
    },
    {
      "cell_type": "code",
      "metadata": {
        "id": "dStkPE7j5LJQ",
        "colab_type": "code",
        "outputId": "ee11e9e5-0b46-4d19-ec99-20e6b17f4fc0",
        "colab": {
          "base_uri": "https://localhost:8080/",
          "height": 182
        }
      },
      "source": [
        "train_df.info(memory_usage='deep')"
      ],
      "execution_count": 20,
      "outputs": [
        {
          "output_type": "stream",
          "text": [
            "<class 'pandas.core.frame.DataFrame'>\n",
            "RangeIndex: 20216100 entries, 0 to 20216099\n",
            "Data columns (total 4 columns):\n",
            "building_id      int64\n",
            "meter            int64\n",
            "timestamp        object\n",
            "meter_reading    float64\n",
            "dtypes: float64(1), int64(2), object(1)\n",
            "memory usage: 1.9 GB\n"
          ],
          "name": "stdout"
        }
      ]
    },
    {
      "cell_type": "code",
      "metadata": {
        "id": "_I9a271847ah",
        "colab_type": "code",
        "outputId": "4a07443e-e191-4962-9abe-f227e314546a",
        "colab": {
          "base_uri": "https://localhost:8080/",
          "height": 206
        }
      },
      "source": [
        "test_df.head()"
      ],
      "execution_count": 21,
      "outputs": [
        {
          "output_type": "execute_result",
          "data": {
            "text/html": [
              "<div>\n",
              "<style scoped>\n",
              "    .dataframe tbody tr th:only-of-type {\n",
              "        vertical-align: middle;\n",
              "    }\n",
              "\n",
              "    .dataframe tbody tr th {\n",
              "        vertical-align: top;\n",
              "    }\n",
              "\n",
              "    .dataframe thead th {\n",
              "        text-align: right;\n",
              "    }\n",
              "</style>\n",
              "<table border=\"1\" class=\"dataframe\">\n",
              "  <thead>\n",
              "    <tr style=\"text-align: right;\">\n",
              "      <th></th>\n",
              "      <th>row_id</th>\n",
              "      <th>building_id</th>\n",
              "      <th>meter</th>\n",
              "      <th>timestamp</th>\n",
              "    </tr>\n",
              "  </thead>\n",
              "  <tbody>\n",
              "    <tr>\n",
              "      <th>0</th>\n",
              "      <td>0</td>\n",
              "      <td>0</td>\n",
              "      <td>0</td>\n",
              "      <td>2017-01-01 00:00:00</td>\n",
              "    </tr>\n",
              "    <tr>\n",
              "      <th>1</th>\n",
              "      <td>1</td>\n",
              "      <td>1</td>\n",
              "      <td>0</td>\n",
              "      <td>2017-01-01 00:00:00</td>\n",
              "    </tr>\n",
              "    <tr>\n",
              "      <th>2</th>\n",
              "      <td>2</td>\n",
              "      <td>2</td>\n",
              "      <td>0</td>\n",
              "      <td>2017-01-01 00:00:00</td>\n",
              "    </tr>\n",
              "    <tr>\n",
              "      <th>3</th>\n",
              "      <td>3</td>\n",
              "      <td>3</td>\n",
              "      <td>0</td>\n",
              "      <td>2017-01-01 00:00:00</td>\n",
              "    </tr>\n",
              "    <tr>\n",
              "      <th>4</th>\n",
              "      <td>4</td>\n",
              "      <td>4</td>\n",
              "      <td>0</td>\n",
              "      <td>2017-01-01 00:00:00</td>\n",
              "    </tr>\n",
              "  </tbody>\n",
              "</table>\n",
              "</div>"
            ],
            "text/plain": [
              "   row_id  building_id  meter            timestamp\n",
              "0       0            0      0  2017-01-01 00:00:00\n",
              "1       1            1      0  2017-01-01 00:00:00\n",
              "2       2            2      0  2017-01-01 00:00:00\n",
              "3       3            3      0  2017-01-01 00:00:00\n",
              "4       4            4      0  2017-01-01 00:00:00"
            ]
          },
          "metadata": {
            "tags": []
          },
          "execution_count": 21
        }
      ]
    },
    {
      "cell_type": "code",
      "metadata": {
        "id": "fA2-ZlCD5JHb",
        "colab_type": "code",
        "outputId": "a673c522-1890-4cce-fb73-405366d8bc30",
        "colab": {
          "base_uri": "https://localhost:8080/",
          "height": 182
        }
      },
      "source": [
        "test_df.info(memory_usage='deep')"
      ],
      "execution_count": 22,
      "outputs": [
        {
          "output_type": "stream",
          "text": [
            "<class 'pandas.core.frame.DataFrame'>\n",
            "RangeIndex: 41697600 entries, 0 to 41697599\n",
            "Data columns (total 4 columns):\n",
            "row_id         int64\n",
            "building_id    int64\n",
            "meter          int64\n",
            "timestamp      object\n",
            "dtypes: int64(3), object(1)\n",
            "memory usage: 3.9 GB\n"
          ],
          "name": "stdout"
        }
      ]
    },
    {
      "cell_type": "code",
      "metadata": {
        "id": "EvzzJ3v17Gbt",
        "colab_type": "code",
        "outputId": "351d3f4a-74c1-4509-b436-c5091e875860",
        "colab": {
          "base_uri": "https://localhost:8080/",
          "height": 206
        }
      },
      "source": [
        "weather_train.head()"
      ],
      "execution_count": 23,
      "outputs": [
        {
          "output_type": "execute_result",
          "data": {
            "text/html": [
              "<div>\n",
              "<style scoped>\n",
              "    .dataframe tbody tr th:only-of-type {\n",
              "        vertical-align: middle;\n",
              "    }\n",
              "\n",
              "    .dataframe tbody tr th {\n",
              "        vertical-align: top;\n",
              "    }\n",
              "\n",
              "    .dataframe thead th {\n",
              "        text-align: right;\n",
              "    }\n",
              "</style>\n",
              "<table border=\"1\" class=\"dataframe\">\n",
              "  <thead>\n",
              "    <tr style=\"text-align: right;\">\n",
              "      <th></th>\n",
              "      <th>site_id</th>\n",
              "      <th>timestamp</th>\n",
              "      <th>air_temperature</th>\n",
              "      <th>dew_temperature</th>\n",
              "      <th>sea_level_pressure</th>\n",
              "      <th>wind_direction</th>\n",
              "      <th>wind_speed</th>\n",
              "    </tr>\n",
              "  </thead>\n",
              "  <tbody>\n",
              "    <tr>\n",
              "      <th>0</th>\n",
              "      <td>0</td>\n",
              "      <td>2016-01-01 00:00:00</td>\n",
              "      <td>25.0</td>\n",
              "      <td>20.0</td>\n",
              "      <td>1019.7</td>\n",
              "      <td>0.0</td>\n",
              "      <td>0.0</td>\n",
              "    </tr>\n",
              "    <tr>\n",
              "      <th>1</th>\n",
              "      <td>0</td>\n",
              "      <td>2016-01-01 01:00:00</td>\n",
              "      <td>24.4</td>\n",
              "      <td>21.1</td>\n",
              "      <td>1020.2</td>\n",
              "      <td>70.0</td>\n",
              "      <td>1.5</td>\n",
              "    </tr>\n",
              "    <tr>\n",
              "      <th>2</th>\n",
              "      <td>0</td>\n",
              "      <td>2016-01-01 02:00:00</td>\n",
              "      <td>22.8</td>\n",
              "      <td>21.1</td>\n",
              "      <td>1020.2</td>\n",
              "      <td>0.0</td>\n",
              "      <td>0.0</td>\n",
              "    </tr>\n",
              "    <tr>\n",
              "      <th>3</th>\n",
              "      <td>0</td>\n",
              "      <td>2016-01-01 03:00:00</td>\n",
              "      <td>21.1</td>\n",
              "      <td>20.6</td>\n",
              "      <td>1020.1</td>\n",
              "      <td>0.0</td>\n",
              "      <td>0.0</td>\n",
              "    </tr>\n",
              "    <tr>\n",
              "      <th>4</th>\n",
              "      <td>0</td>\n",
              "      <td>2016-01-01 04:00:00</td>\n",
              "      <td>20.0</td>\n",
              "      <td>20.0</td>\n",
              "      <td>1020.0</td>\n",
              "      <td>250.0</td>\n",
              "      <td>2.6</td>\n",
              "    </tr>\n",
              "  </tbody>\n",
              "</table>\n",
              "</div>"
            ],
            "text/plain": [
              "   site_id            timestamp  ...  wind_direction  wind_speed\n",
              "0        0  2016-01-01 00:00:00  ...             0.0         0.0\n",
              "1        0  2016-01-01 01:00:00  ...            70.0         1.5\n",
              "2        0  2016-01-01 02:00:00  ...             0.0         0.0\n",
              "3        0  2016-01-01 03:00:00  ...             0.0         0.0\n",
              "4        0  2016-01-01 04:00:00  ...           250.0         2.6\n",
              "\n",
              "[5 rows x 7 columns]"
            ]
          },
          "metadata": {
            "tags": []
          },
          "execution_count": 23
        }
      ]
    },
    {
      "cell_type": "code",
      "metadata": {
        "id": "YeLENih96FvO",
        "colab_type": "code",
        "outputId": "904149ea-92d0-4d83-83e8-292c2818f70a",
        "colab": {
          "base_uri": "https://localhost:8080/",
          "height": 237
        }
      },
      "source": [
        "weather_train.info(memory_usage='deep')"
      ],
      "execution_count": 24,
      "outputs": [
        {
          "output_type": "stream",
          "text": [
            "<class 'pandas.core.frame.DataFrame'>\n",
            "RangeIndex: 139773 entries, 0 to 139772\n",
            "Data columns (total 7 columns):\n",
            "site_id               139773 non-null int64\n",
            "timestamp             139773 non-null object\n",
            "air_temperature       139718 non-null float64\n",
            "dew_temperature       139660 non-null float64\n",
            "sea_level_pressure    129155 non-null float64\n",
            "wind_direction        133505 non-null float64\n",
            "wind_speed            139469 non-null float64\n",
            "dtypes: float64(5), int64(1), object(1)\n",
            "memory usage: 16.5 MB\n"
          ],
          "name": "stdout"
        }
      ]
    },
    {
      "cell_type": "code",
      "metadata": {
        "id": "wtD_7FK664SO",
        "colab_type": "code",
        "outputId": "5151100c-0f32-4d14-eda4-1cb953f676fa",
        "colab": {
          "base_uri": "https://localhost:8080/",
          "height": 206
        }
      },
      "source": [
        "weather_test.head()"
      ],
      "execution_count": 25,
      "outputs": [
        {
          "output_type": "execute_result",
          "data": {
            "text/html": [
              "<div>\n",
              "<style scoped>\n",
              "    .dataframe tbody tr th:only-of-type {\n",
              "        vertical-align: middle;\n",
              "    }\n",
              "\n",
              "    .dataframe tbody tr th {\n",
              "        vertical-align: top;\n",
              "    }\n",
              "\n",
              "    .dataframe thead th {\n",
              "        text-align: right;\n",
              "    }\n",
              "</style>\n",
              "<table border=\"1\" class=\"dataframe\">\n",
              "  <thead>\n",
              "    <tr style=\"text-align: right;\">\n",
              "      <th></th>\n",
              "      <th>site_id</th>\n",
              "      <th>timestamp</th>\n",
              "      <th>air_temperature</th>\n",
              "      <th>dew_temperature</th>\n",
              "      <th>sea_level_pressure</th>\n",
              "      <th>wind_direction</th>\n",
              "      <th>wind_speed</th>\n",
              "    </tr>\n",
              "  </thead>\n",
              "  <tbody>\n",
              "    <tr>\n",
              "      <th>0</th>\n",
              "      <td>0</td>\n",
              "      <td>2017-01-01 00:00:00</td>\n",
              "      <td>17.8</td>\n",
              "      <td>11.7</td>\n",
              "      <td>1021.4</td>\n",
              "      <td>100.0</td>\n",
              "      <td>3.6</td>\n",
              "    </tr>\n",
              "    <tr>\n",
              "      <th>1</th>\n",
              "      <td>0</td>\n",
              "      <td>2017-01-01 01:00:00</td>\n",
              "      <td>17.8</td>\n",
              "      <td>12.8</td>\n",
              "      <td>1022.0</td>\n",
              "      <td>130.0</td>\n",
              "      <td>3.1</td>\n",
              "    </tr>\n",
              "    <tr>\n",
              "      <th>2</th>\n",
              "      <td>0</td>\n",
              "      <td>2017-01-01 02:00:00</td>\n",
              "      <td>16.1</td>\n",
              "      <td>12.8</td>\n",
              "      <td>1021.9</td>\n",
              "      <td>140.0</td>\n",
              "      <td>3.1</td>\n",
              "    </tr>\n",
              "    <tr>\n",
              "      <th>3</th>\n",
              "      <td>0</td>\n",
              "      <td>2017-01-01 03:00:00</td>\n",
              "      <td>17.2</td>\n",
              "      <td>13.3</td>\n",
              "      <td>1022.2</td>\n",
              "      <td>140.0</td>\n",
              "      <td>3.1</td>\n",
              "    </tr>\n",
              "    <tr>\n",
              "      <th>4</th>\n",
              "      <td>0</td>\n",
              "      <td>2017-01-01 04:00:00</td>\n",
              "      <td>16.7</td>\n",
              "      <td>13.3</td>\n",
              "      <td>1022.3</td>\n",
              "      <td>130.0</td>\n",
              "      <td>2.6</td>\n",
              "    </tr>\n",
              "  </tbody>\n",
              "</table>\n",
              "</div>"
            ],
            "text/plain": [
              "   site_id            timestamp  ...  wind_direction  wind_speed\n",
              "0        0  2017-01-01 00:00:00  ...           100.0         3.6\n",
              "1        0  2017-01-01 01:00:00  ...           130.0         3.1\n",
              "2        0  2017-01-01 02:00:00  ...           140.0         3.1\n",
              "3        0  2017-01-01 03:00:00  ...           140.0         3.1\n",
              "4        0  2017-01-01 04:00:00  ...           130.0         2.6\n",
              "\n",
              "[5 rows x 7 columns]"
            ]
          },
          "metadata": {
            "tags": []
          },
          "execution_count": 25
        }
      ]
    },
    {
      "cell_type": "code",
      "metadata": {
        "id": "gWq7ib_U7X5r",
        "colab_type": "code",
        "outputId": "d95b6151-ef83-4fe0-b479-4e41483b8d50",
        "colab": {
          "base_uri": "https://localhost:8080/",
          "height": 237
        }
      },
      "source": [
        "weather_test.info(memory_usage='deep')"
      ],
      "execution_count": 26,
      "outputs": [
        {
          "output_type": "stream",
          "text": [
            "<class 'pandas.core.frame.DataFrame'>\n",
            "RangeIndex: 277243 entries, 0 to 277242\n",
            "Data columns (total 7 columns):\n",
            "site_id               277243 non-null int64\n",
            "timestamp             277243 non-null object\n",
            "air_temperature       277139 non-null float64\n",
            "dew_temperature       276916 non-null float64\n",
            "sea_level_pressure    255978 non-null float64\n",
            "wind_direction        264873 non-null float64\n",
            "wind_speed            276783 non-null float64\n",
            "dtypes: float64(5), int64(1), object(1)\n",
            "memory usage: 32.8 MB\n"
          ],
          "name": "stdout"
        }
      ]
    },
    {
      "cell_type": "code",
      "metadata": {
        "id": "6qMAeqxB74pk",
        "colab_type": "code",
        "outputId": "db063616-3801-43c0-8124-21e4b9319fc1",
        "colab": {
          "base_uri": "https://localhost:8080/",
          "height": 206
        }
      },
      "source": [
        "building_metadata.head()"
      ],
      "execution_count": 27,
      "outputs": [
        {
          "output_type": "execute_result",
          "data": {
            "text/html": [
              "<div>\n",
              "<style scoped>\n",
              "    .dataframe tbody tr th:only-of-type {\n",
              "        vertical-align: middle;\n",
              "    }\n",
              "\n",
              "    .dataframe tbody tr th {\n",
              "        vertical-align: top;\n",
              "    }\n",
              "\n",
              "    .dataframe thead th {\n",
              "        text-align: right;\n",
              "    }\n",
              "</style>\n",
              "<table border=\"1\" class=\"dataframe\">\n",
              "  <thead>\n",
              "    <tr style=\"text-align: right;\">\n",
              "      <th></th>\n",
              "      <th>site_id</th>\n",
              "      <th>building_id</th>\n",
              "      <th>primary_use</th>\n",
              "      <th>square_feet</th>\n",
              "      <th>floor_count</th>\n",
              "    </tr>\n",
              "  </thead>\n",
              "  <tbody>\n",
              "    <tr>\n",
              "      <th>0</th>\n",
              "      <td>0</td>\n",
              "      <td>0</td>\n",
              "      <td>Education</td>\n",
              "      <td>7432</td>\n",
              "      <td>NaN</td>\n",
              "    </tr>\n",
              "    <tr>\n",
              "      <th>1</th>\n",
              "      <td>0</td>\n",
              "      <td>1</td>\n",
              "      <td>Education</td>\n",
              "      <td>2720</td>\n",
              "      <td>NaN</td>\n",
              "    </tr>\n",
              "    <tr>\n",
              "      <th>2</th>\n",
              "      <td>0</td>\n",
              "      <td>2</td>\n",
              "      <td>Education</td>\n",
              "      <td>5376</td>\n",
              "      <td>NaN</td>\n",
              "    </tr>\n",
              "    <tr>\n",
              "      <th>3</th>\n",
              "      <td>0</td>\n",
              "      <td>3</td>\n",
              "      <td>Education</td>\n",
              "      <td>23685</td>\n",
              "      <td>NaN</td>\n",
              "    </tr>\n",
              "    <tr>\n",
              "      <th>4</th>\n",
              "      <td>0</td>\n",
              "      <td>4</td>\n",
              "      <td>Education</td>\n",
              "      <td>116607</td>\n",
              "      <td>NaN</td>\n",
              "    </tr>\n",
              "  </tbody>\n",
              "</table>\n",
              "</div>"
            ],
            "text/plain": [
              "   site_id  building_id primary_use  square_feet  floor_count\n",
              "0        0            0   Education         7432          NaN\n",
              "1        0            1   Education         2720          NaN\n",
              "2        0            2   Education         5376          NaN\n",
              "3        0            3   Education        23685          NaN\n",
              "4        0            4   Education       116607          NaN"
            ]
          },
          "metadata": {
            "tags": []
          },
          "execution_count": 27
        }
      ]
    },
    {
      "cell_type": "code",
      "metadata": {
        "id": "GKteYDg17-Jr",
        "colab_type": "code",
        "outputId": "882f3d99-6ed6-44a5-8f2d-4dead6d29357",
        "colab": {
          "base_uri": "https://localhost:8080/",
          "height": 201
        }
      },
      "source": [
        "building_metadata.info(memory_usage='deep')"
      ],
      "execution_count": 28,
      "outputs": [
        {
          "output_type": "stream",
          "text": [
            "<class 'pandas.core.frame.DataFrame'>\n",
            "RangeIndex: 1449 entries, 0 to 1448\n",
            "Data columns (total 5 columns):\n",
            "site_id        1449 non-null int64\n",
            "building_id    1449 non-null int64\n",
            "primary_use    1449 non-null object\n",
            "square_feet    1449 non-null int64\n",
            "floor_count    355 non-null float64\n",
            "dtypes: float64(1), int64(3), object(1)\n",
            "memory usage: 144.2 KB\n"
          ],
          "name": "stdout"
        }
      ]
    },
    {
      "cell_type": "code",
      "metadata": {
        "id": "-WQhjPyc8M6e",
        "colab_type": "code",
        "outputId": "88d8af04-edab-48c1-ec3f-eaab845cae78",
        "colab": {
          "base_uri": "https://localhost:8080/",
          "height": 313
        }
      },
      "source": [
        "#Prepare train dataset\n",
        "\n",
        "df_train=train_df.merge(building_metadata,on='building_id',how='left')\n",
        "df_train=df_train.merge(weather_train,on=['site_id','timestamp'],how='left')\n",
        "df_train.head()"
      ],
      "execution_count": 29,
      "outputs": [
        {
          "output_type": "execute_result",
          "data": {
            "text/html": [
              "<div>\n",
              "<style scoped>\n",
              "    .dataframe tbody tr th:only-of-type {\n",
              "        vertical-align: middle;\n",
              "    }\n",
              "\n",
              "    .dataframe tbody tr th {\n",
              "        vertical-align: top;\n",
              "    }\n",
              "\n",
              "    .dataframe thead th {\n",
              "        text-align: right;\n",
              "    }\n",
              "</style>\n",
              "<table border=\"1\" class=\"dataframe\">\n",
              "  <thead>\n",
              "    <tr style=\"text-align: right;\">\n",
              "      <th></th>\n",
              "      <th>building_id</th>\n",
              "      <th>meter</th>\n",
              "      <th>timestamp</th>\n",
              "      <th>meter_reading</th>\n",
              "      <th>site_id</th>\n",
              "      <th>primary_use</th>\n",
              "      <th>square_feet</th>\n",
              "      <th>floor_count</th>\n",
              "      <th>air_temperature</th>\n",
              "      <th>dew_temperature</th>\n",
              "      <th>sea_level_pressure</th>\n",
              "      <th>wind_direction</th>\n",
              "      <th>wind_speed</th>\n",
              "    </tr>\n",
              "  </thead>\n",
              "  <tbody>\n",
              "    <tr>\n",
              "      <th>0</th>\n",
              "      <td>0</td>\n",
              "      <td>0</td>\n",
              "      <td>2016-01-01 00:00:00</td>\n",
              "      <td>0.0</td>\n",
              "      <td>0</td>\n",
              "      <td>Education</td>\n",
              "      <td>7432</td>\n",
              "      <td>NaN</td>\n",
              "      <td>25.0</td>\n",
              "      <td>20.0</td>\n",
              "      <td>1019.7</td>\n",
              "      <td>0.0</td>\n",
              "      <td>0.0</td>\n",
              "    </tr>\n",
              "    <tr>\n",
              "      <th>1</th>\n",
              "      <td>1</td>\n",
              "      <td>0</td>\n",
              "      <td>2016-01-01 00:00:00</td>\n",
              "      <td>0.0</td>\n",
              "      <td>0</td>\n",
              "      <td>Education</td>\n",
              "      <td>2720</td>\n",
              "      <td>NaN</td>\n",
              "      <td>25.0</td>\n",
              "      <td>20.0</td>\n",
              "      <td>1019.7</td>\n",
              "      <td>0.0</td>\n",
              "      <td>0.0</td>\n",
              "    </tr>\n",
              "    <tr>\n",
              "      <th>2</th>\n",
              "      <td>2</td>\n",
              "      <td>0</td>\n",
              "      <td>2016-01-01 00:00:00</td>\n",
              "      <td>0.0</td>\n",
              "      <td>0</td>\n",
              "      <td>Education</td>\n",
              "      <td>5376</td>\n",
              "      <td>NaN</td>\n",
              "      <td>25.0</td>\n",
              "      <td>20.0</td>\n",
              "      <td>1019.7</td>\n",
              "      <td>0.0</td>\n",
              "      <td>0.0</td>\n",
              "    </tr>\n",
              "    <tr>\n",
              "      <th>3</th>\n",
              "      <td>3</td>\n",
              "      <td>0</td>\n",
              "      <td>2016-01-01 00:00:00</td>\n",
              "      <td>0.0</td>\n",
              "      <td>0</td>\n",
              "      <td>Education</td>\n",
              "      <td>23685</td>\n",
              "      <td>NaN</td>\n",
              "      <td>25.0</td>\n",
              "      <td>20.0</td>\n",
              "      <td>1019.7</td>\n",
              "      <td>0.0</td>\n",
              "      <td>0.0</td>\n",
              "    </tr>\n",
              "    <tr>\n",
              "      <th>4</th>\n",
              "      <td>4</td>\n",
              "      <td>0</td>\n",
              "      <td>2016-01-01 00:00:00</td>\n",
              "      <td>0.0</td>\n",
              "      <td>0</td>\n",
              "      <td>Education</td>\n",
              "      <td>116607</td>\n",
              "      <td>NaN</td>\n",
              "      <td>25.0</td>\n",
              "      <td>20.0</td>\n",
              "      <td>1019.7</td>\n",
              "      <td>0.0</td>\n",
              "      <td>0.0</td>\n",
              "    </tr>\n",
              "  </tbody>\n",
              "</table>\n",
              "</div>"
            ],
            "text/plain": [
              "   building_id  meter  ... wind_direction  wind_speed\n",
              "0            0      0  ...            0.0         0.0\n",
              "1            1      0  ...            0.0         0.0\n",
              "2            2      0  ...            0.0         0.0\n",
              "3            3      0  ...            0.0         0.0\n",
              "4            4      0  ...            0.0         0.0\n",
              "\n",
              "[5 rows x 13 columns]"
            ]
          },
          "metadata": {
            "tags": []
          },
          "execution_count": 29
        }
      ]
    },
    {
      "cell_type": "code",
      "metadata": {
        "id": "7qgmDPxTIXF3",
        "colab_type": "code",
        "colab": {}
      },
      "source": [
        "from sklearn.preprocessing import LabelEncoder\n",
        "le=LabelEncoder()\n",
        "df_train['primary_use']=le.fit_transform(df_train['primary_use'])"
      ],
      "execution_count": 0,
      "outputs": []
    },
    {
      "cell_type": "code",
      "metadata": {
        "id": "X4VlfqLd9Iof",
        "colab_type": "code",
        "outputId": "0cd0816e-cc8c-44b2-a126-bcca7c5200aa",
        "colab": {
          "base_uri": "https://localhost:8080/",
          "height": 348
        }
      },
      "source": [
        "df_train.info(memory_usage='deep')"
      ],
      "execution_count": 31,
      "outputs": [
        {
          "output_type": "stream",
          "text": [
            "<class 'pandas.core.frame.DataFrame'>\n",
            "Int64Index: 20216100 entries, 0 to 20216099\n",
            "Data columns (total 13 columns):\n",
            "building_id           int64\n",
            "meter                 int64\n",
            "timestamp             object\n",
            "meter_reading         float64\n",
            "site_id               int64\n",
            "primary_use           int64\n",
            "square_feet           int64\n",
            "floor_count           float64\n",
            "air_temperature       float64\n",
            "dew_temperature       float64\n",
            "sea_level_pressure    float64\n",
            "wind_direction        float64\n",
            "wind_speed            float64\n",
            "dtypes: float64(7), int64(5), object(1)\n",
            "memory usage: 3.4 GB\n"
          ],
          "name": "stdout"
        }
      ]
    },
    {
      "cell_type": "code",
      "metadata": {
        "id": "wY-CvfnZ9V4l",
        "colab_type": "code",
        "outputId": "520ee526-0885-4a2f-d97b-bbe3ffcaa4b5",
        "colab": {
          "base_uri": "https://localhost:8080/",
          "height": 35
        }
      },
      "source": [
        "import gc\n",
        "del train_df,weather_train\n",
        "gc.collect()"
      ],
      "execution_count": 32,
      "outputs": [
        {
          "output_type": "execute_result",
          "data": {
            "text/plain": [
              "0"
            ]
          },
          "metadata": {
            "tags": []
          },
          "execution_count": 32
        }
      ]
    },
    {
      "cell_type": "markdown",
      "metadata": {
        "id": "BAMTgiZo-D0v",
        "colab_type": "text"
      },
      "source": [
        "**Reduce the memory usage for train dataset**\n"
      ]
    },
    {
      "cell_type": "code",
      "metadata": {
        "id": "BYU6uU-1DfnZ",
        "colab_type": "code",
        "colab": {}
      },
      "source": [
        "import numpy as np\n",
        "def reduce_mem_usage(df):\n",
        "    start_mem_usg = df.memory_usage().sum() / 1024**2 \n",
        "    print(\"Memory usage of properties dataframe is :\",start_mem_usg,\" MB\")\n",
        "    NAlist = [] # Keeps track of columns that have missing values filled in. \n",
        "    for col in df.columns:\n",
        "        if df[col].dtype != object:  # Exclude strings            \n",
        "            # Print current column type\n",
        "            print(\"******************************\")\n",
        "            print(\"Column: \",col)\n",
        "            print(\"dtype before: \",df[col].dtype)            \n",
        "            # make variables for Int, max and min\n",
        "            IsInt = False\n",
        "            mx = df[col].max()\n",
        "            mn = df[col].min()\n",
        "            print(\"min for this col: \",mn)\n",
        "            print(\"max for this col: \",mx)\n",
        "            # Integer does not support NA, therefore, NA needs to be filled\n",
        "            if not np.isfinite(df[col]).all(): \n",
        "                NAlist.append(col)\n",
        "                df[col].fillna(mn-1,inplace=True)  \n",
        "                   \n",
        "            # test if column can be converted to an integer\n",
        "            asint = df[col].fillna(0).astype(np.int64)\n",
        "            result = (df[col] - asint)\n",
        "            result = result.sum()\n",
        "            if result > -0.01 and result < 0.01:\n",
        "                IsInt = True            \n",
        "            # Make Integer/unsigned Integer datatypes\n",
        "            if IsInt:\n",
        "                if mn >= 0:\n",
        "                    if mx < 255:\n",
        "                        df[col] = df[col].astype(np.uint8)\n",
        "                    elif mx < 65535:\n",
        "                        df[col] = df[col].astype(np.uint16)\n",
        "                    elif mx < 4294967295:\n",
        "                        df[col] = df[col].astype(np.uint32)\n",
        "                    else:\n",
        "                        df[col] = df[col].astype(np.uint64)\n",
        "                else:\n",
        "                    if mn > np.iinfo(np.int8).min and mx < np.iinfo(np.int8).max:\n",
        "                        df[col] = df[col].astype(np.int8)\n",
        "                    elif mn > np.iinfo(np.int16).min and mx < np.iinfo(np.int16).max:\n",
        "                        df[col] = df[col].astype(np.int16)\n",
        "                    elif mn > np.iinfo(np.int32).min and mx < np.iinfo(np.int32).max:\n",
        "                        df[col] = df[col].astype(np.int32)\n",
        "                    elif mn > np.iinfo(np.int64).min and mx < np.iinfo(np.int64).max:\n",
        "                        df[col] = df[col].astype(np.int64)    \n",
        "            # Make float datatypes 32 bit\n",
        "            else:\n",
        "                df[col] = df[col].astype(np.float32)\n",
        "            \n",
        "            # Print new column type\n",
        "            print(\"dtype after: \",df[col].dtype)\n",
        "            print(\"******************************\")\n",
        "    # Print final result\n",
        "    print(\"___MEMORY USAGE AFTER COMPLETION:___\")\n",
        "    mem_usg = df.memory_usage().sum() / 1024**2 \n",
        "    print(\"Memory usage is: \",mem_usg,\" MB\")\n",
        "    print(\"This is \",100*mem_usg/start_mem_usg,\"% of the initial size\")\n",
        "    return df, NAlist"
      ],
      "execution_count": 0,
      "outputs": []
    },
    {
      "cell_type": "code",
      "metadata": {
        "id": "Ups50P6JEEXL",
        "colab_type": "code",
        "outputId": "8eb2009d-c9e1-406c-ff17-8c7e823b5773",
        "colab": {
          "base_uri": "https://localhost:8080/",
          "height": 1000
        }
      },
      "source": [
        "df_train,NAlist=reduce_mem_usage(df_train)"
      ],
      "execution_count": 34,
      "outputs": [
        {
          "output_type": "stream",
          "text": [
            "Memory usage of properties dataframe is : 2159.3124389648438  MB\n",
            "******************************\n",
            "Column:  building_id\n",
            "dtype before:  int64\n",
            "min for this col:  0\n",
            "max for this col:  1448\n",
            "dtype after:  uint16\n",
            "******************************\n",
            "******************************\n",
            "Column:  meter\n",
            "dtype before:  int64\n",
            "min for this col:  0\n",
            "max for this col:  3\n",
            "dtype after:  uint8\n",
            "******************************\n",
            "******************************\n",
            "Column:  meter_reading\n",
            "dtype before:  float64\n",
            "min for this col:  0.0\n",
            "max for this col:  21904700.0\n",
            "dtype after:  float32\n",
            "******************************\n",
            "******************************\n",
            "Column:  site_id\n",
            "dtype before:  int64\n",
            "min for this col:  0\n",
            "max for this col:  15\n",
            "dtype after:  uint8\n",
            "******************************\n",
            "******************************\n",
            "Column:  primary_use\n",
            "dtype before:  int64\n",
            "min for this col:  0\n",
            "max for this col:  15\n",
            "dtype after:  uint8\n",
            "******************************\n",
            "******************************\n",
            "Column:  square_feet\n",
            "dtype before:  int64\n",
            "min for this col:  283\n",
            "max for this col:  875000\n",
            "dtype after:  uint32\n",
            "******************************\n",
            "******************************\n",
            "Column:  floor_count\n",
            "dtype before:  float64\n",
            "min for this col:  1.0\n",
            "max for this col:  26.0\n",
            "dtype after:  uint8\n",
            "******************************\n",
            "******************************\n",
            "Column:  air_temperature\n",
            "dtype before:  float64\n",
            "min for this col:  -28.9\n",
            "max for this col:  47.2\n",
            "dtype after:  float32\n",
            "******************************\n",
            "******************************\n",
            "Column:  dew_temperature\n",
            "dtype before:  float64\n",
            "min for this col:  -35.0\n",
            "max for this col:  26.1\n",
            "dtype after:  float32\n",
            "******************************\n",
            "******************************\n",
            "Column:  sea_level_pressure\n",
            "dtype before:  float64\n",
            "min for this col:  968.2\n",
            "max for this col:  1045.5\n",
            "dtype after:  float32\n",
            "******************************\n",
            "******************************\n",
            "Column:  wind_direction\n",
            "dtype before:  float64\n",
            "min for this col:  0.0\n",
            "max for this col:  360.0\n",
            "dtype after:  uint16\n",
            "******************************\n",
            "******************************\n",
            "Column:  wind_speed\n",
            "dtype before:  float64\n",
            "min for this col:  0.0\n",
            "max for this col:  19.0\n",
            "dtype after:  float32\n",
            "******************************\n",
            "___MEMORY USAGE AFTER COMPLETION:___\n",
            "Memory usage is:  925.4196166992188  MB\n",
            "This is  42.857142857142854 % of the initial size\n"
          ],
          "name": "stdout"
        }
      ]
    },
    {
      "cell_type": "code",
      "metadata": {
        "id": "mj5_kYZVG6Wy",
        "colab_type": "code",
        "colab": {}
      },
      "source": [
        "#convert timestamp to datetime for df_train\n",
        "df_train['timestamp']=pd.to_datetime(df_train['timestamp'])\n",
        "df_train['hour']=df_train['timestamp'].dt.hour\n",
        "df_train['day']=df_train['timestamp'].dt.day\n",
        "df_train['month']=df_train['timestamp'].dt.month\n",
        "df_train['weekend']=df_train['timestamp'].dt.weekday\n",
        "df_train['year']=df_train['timestamp'].dt.year"
      ],
      "execution_count": 0,
      "outputs": []
    },
    {
      "cell_type": "code",
      "metadata": {
        "id": "9OdvFfPNKiUg",
        "colab_type": "code",
        "colab": {}
      },
      "source": [
        "df_train=df_train.drop(columns='timestamp',axis=1)"
      ],
      "execution_count": 0,
      "outputs": []
    },
    {
      "cell_type": "code",
      "metadata": {
        "id": "FXx7jXoP17I5",
        "colab_type": "code",
        "colab": {}
      },
      "source": [
        "#Replace missing value with -999\n",
        "df_train=df_train.fillna(-999)"
      ],
      "execution_count": 0,
      "outputs": []
    },
    {
      "cell_type": "code",
      "metadata": {
        "id": "F5MBoIntKUl_",
        "colab_type": "code",
        "outputId": "1f464439-da5a-4055-e5f4-13d1ec788105",
        "colab": {
          "base_uri": "https://localhost:8080/",
          "height": 226
        }
      },
      "source": [
        "df_train.head()"
      ],
      "execution_count": 38,
      "outputs": [
        {
          "output_type": "execute_result",
          "data": {
            "text/html": [
              "<div>\n",
              "<style scoped>\n",
              "    .dataframe tbody tr th:only-of-type {\n",
              "        vertical-align: middle;\n",
              "    }\n",
              "\n",
              "    .dataframe tbody tr th {\n",
              "        vertical-align: top;\n",
              "    }\n",
              "\n",
              "    .dataframe thead th {\n",
              "        text-align: right;\n",
              "    }\n",
              "</style>\n",
              "<table border=\"1\" class=\"dataframe\">\n",
              "  <thead>\n",
              "    <tr style=\"text-align: right;\">\n",
              "      <th></th>\n",
              "      <th>building_id</th>\n",
              "      <th>meter</th>\n",
              "      <th>meter_reading</th>\n",
              "      <th>site_id</th>\n",
              "      <th>primary_use</th>\n",
              "      <th>square_feet</th>\n",
              "      <th>floor_count</th>\n",
              "      <th>air_temperature</th>\n",
              "      <th>dew_temperature</th>\n",
              "      <th>sea_level_pressure</th>\n",
              "      <th>wind_direction</th>\n",
              "      <th>wind_speed</th>\n",
              "      <th>hour</th>\n",
              "      <th>day</th>\n",
              "      <th>month</th>\n",
              "      <th>weekend</th>\n",
              "      <th>year</th>\n",
              "    </tr>\n",
              "  </thead>\n",
              "  <tbody>\n",
              "    <tr>\n",
              "      <th>0</th>\n",
              "      <td>0</td>\n",
              "      <td>0</td>\n",
              "      <td>0.0</td>\n",
              "      <td>0</td>\n",
              "      <td>0</td>\n",
              "      <td>7432</td>\n",
              "      <td>0</td>\n",
              "      <td>25.0</td>\n",
              "      <td>20.0</td>\n",
              "      <td>1019.700012</td>\n",
              "      <td>0</td>\n",
              "      <td>0.0</td>\n",
              "      <td>0</td>\n",
              "      <td>1</td>\n",
              "      <td>1</td>\n",
              "      <td>4</td>\n",
              "      <td>2016</td>\n",
              "    </tr>\n",
              "    <tr>\n",
              "      <th>1</th>\n",
              "      <td>1</td>\n",
              "      <td>0</td>\n",
              "      <td>0.0</td>\n",
              "      <td>0</td>\n",
              "      <td>0</td>\n",
              "      <td>2720</td>\n",
              "      <td>0</td>\n",
              "      <td>25.0</td>\n",
              "      <td>20.0</td>\n",
              "      <td>1019.700012</td>\n",
              "      <td>0</td>\n",
              "      <td>0.0</td>\n",
              "      <td>0</td>\n",
              "      <td>1</td>\n",
              "      <td>1</td>\n",
              "      <td>4</td>\n",
              "      <td>2016</td>\n",
              "    </tr>\n",
              "    <tr>\n",
              "      <th>2</th>\n",
              "      <td>2</td>\n",
              "      <td>0</td>\n",
              "      <td>0.0</td>\n",
              "      <td>0</td>\n",
              "      <td>0</td>\n",
              "      <td>5376</td>\n",
              "      <td>0</td>\n",
              "      <td>25.0</td>\n",
              "      <td>20.0</td>\n",
              "      <td>1019.700012</td>\n",
              "      <td>0</td>\n",
              "      <td>0.0</td>\n",
              "      <td>0</td>\n",
              "      <td>1</td>\n",
              "      <td>1</td>\n",
              "      <td>4</td>\n",
              "      <td>2016</td>\n",
              "    </tr>\n",
              "    <tr>\n",
              "      <th>3</th>\n",
              "      <td>3</td>\n",
              "      <td>0</td>\n",
              "      <td>0.0</td>\n",
              "      <td>0</td>\n",
              "      <td>0</td>\n",
              "      <td>23685</td>\n",
              "      <td>0</td>\n",
              "      <td>25.0</td>\n",
              "      <td>20.0</td>\n",
              "      <td>1019.700012</td>\n",
              "      <td>0</td>\n",
              "      <td>0.0</td>\n",
              "      <td>0</td>\n",
              "      <td>1</td>\n",
              "      <td>1</td>\n",
              "      <td>4</td>\n",
              "      <td>2016</td>\n",
              "    </tr>\n",
              "    <tr>\n",
              "      <th>4</th>\n",
              "      <td>4</td>\n",
              "      <td>0</td>\n",
              "      <td>0.0</td>\n",
              "      <td>0</td>\n",
              "      <td>0</td>\n",
              "      <td>116607</td>\n",
              "      <td>0</td>\n",
              "      <td>25.0</td>\n",
              "      <td>20.0</td>\n",
              "      <td>1019.700012</td>\n",
              "      <td>0</td>\n",
              "      <td>0.0</td>\n",
              "      <td>0</td>\n",
              "      <td>1</td>\n",
              "      <td>1</td>\n",
              "      <td>4</td>\n",
              "      <td>2016</td>\n",
              "    </tr>\n",
              "  </tbody>\n",
              "</table>\n",
              "</div>"
            ],
            "text/plain": [
              "   building_id  meter  meter_reading  site_id  ...  day  month  weekend  year\n",
              "0            0      0            0.0        0  ...    1      1        4  2016\n",
              "1            1      0            0.0        0  ...    1      1        4  2016\n",
              "2            2      0            0.0        0  ...    1      1        4  2016\n",
              "3            3      0            0.0        0  ...    1      1        4  2016\n",
              "4            4      0            0.0        0  ...    1      1        4  2016\n",
              "\n",
              "[5 rows x 17 columns]"
            ]
          },
          "metadata": {
            "tags": []
          },
          "execution_count": 38
        }
      ]
    },
    {
      "cell_type": "code",
      "metadata": {
        "id": "m8iDzgnUKFdl",
        "colab_type": "code",
        "colab": {}
      },
      "source": [
        "#consider 50% of train data points randomly\n",
        "#rain=df_train.sample(frac=0.5)"
      ],
      "execution_count": 0,
      "outputs": []
    },
    {
      "cell_type": "code",
      "metadata": {
        "id": "PgjXQVdIMb2Q",
        "colab_type": "code",
        "outputId": "2ceeaeea-292e-4ea7-896b-cee4d1634752",
        "colab": {
          "base_uri": "https://localhost:8080/",
          "height": 35
        }
      },
      "source": [
        "original_labels=np.log1p(df_train['meter_reading'])\n",
        "target_labels=df_train['meter_reading']\n",
        "target_labels.shape"
      ],
      "execution_count": 40,
      "outputs": [
        {
          "output_type": "execute_result",
          "data": {
            "text/plain": [
              "(20216100,)"
            ]
          },
          "metadata": {
            "tags": []
          },
          "execution_count": 40
        }
      ]
    },
    {
      "cell_type": "code",
      "metadata": {
        "id": "w1D0PeHgMttw",
        "colab_type": "code",
        "colab": {}
      },
      "source": [
        "df_train=df_train.drop('meter_reading',axis=1)"
      ],
      "execution_count": 0,
      "outputs": []
    },
    {
      "cell_type": "code",
      "metadata": {
        "id": "Q3fVILgGERz0",
        "colab_type": "code",
        "outputId": "98a1484b-a01d-4e5c-a301-94460a77bb1f",
        "colab": {
          "base_uri": "https://localhost:8080/",
          "height": 313
        }
      },
      "source": [
        "#prepare test dataset\n",
        "df_test=test_df.merge(building_metadata,on='building_id',how='left')\n",
        "df_test=df_test.merge(weather_test,on=['site_id','timestamp'],how='left')\n",
        "df_test.head()"
      ],
      "execution_count": 42,
      "outputs": [
        {
          "output_type": "execute_result",
          "data": {
            "text/html": [
              "<div>\n",
              "<style scoped>\n",
              "    .dataframe tbody tr th:only-of-type {\n",
              "        vertical-align: middle;\n",
              "    }\n",
              "\n",
              "    .dataframe tbody tr th {\n",
              "        vertical-align: top;\n",
              "    }\n",
              "\n",
              "    .dataframe thead th {\n",
              "        text-align: right;\n",
              "    }\n",
              "</style>\n",
              "<table border=\"1\" class=\"dataframe\">\n",
              "  <thead>\n",
              "    <tr style=\"text-align: right;\">\n",
              "      <th></th>\n",
              "      <th>row_id</th>\n",
              "      <th>building_id</th>\n",
              "      <th>meter</th>\n",
              "      <th>timestamp</th>\n",
              "      <th>site_id</th>\n",
              "      <th>primary_use</th>\n",
              "      <th>square_feet</th>\n",
              "      <th>floor_count</th>\n",
              "      <th>air_temperature</th>\n",
              "      <th>dew_temperature</th>\n",
              "      <th>sea_level_pressure</th>\n",
              "      <th>wind_direction</th>\n",
              "      <th>wind_speed</th>\n",
              "    </tr>\n",
              "  </thead>\n",
              "  <tbody>\n",
              "    <tr>\n",
              "      <th>0</th>\n",
              "      <td>0</td>\n",
              "      <td>0</td>\n",
              "      <td>0</td>\n",
              "      <td>2017-01-01 00:00:00</td>\n",
              "      <td>0</td>\n",
              "      <td>Education</td>\n",
              "      <td>7432</td>\n",
              "      <td>NaN</td>\n",
              "      <td>17.8</td>\n",
              "      <td>11.7</td>\n",
              "      <td>1021.4</td>\n",
              "      <td>100.0</td>\n",
              "      <td>3.6</td>\n",
              "    </tr>\n",
              "    <tr>\n",
              "      <th>1</th>\n",
              "      <td>1</td>\n",
              "      <td>1</td>\n",
              "      <td>0</td>\n",
              "      <td>2017-01-01 00:00:00</td>\n",
              "      <td>0</td>\n",
              "      <td>Education</td>\n",
              "      <td>2720</td>\n",
              "      <td>NaN</td>\n",
              "      <td>17.8</td>\n",
              "      <td>11.7</td>\n",
              "      <td>1021.4</td>\n",
              "      <td>100.0</td>\n",
              "      <td>3.6</td>\n",
              "    </tr>\n",
              "    <tr>\n",
              "      <th>2</th>\n",
              "      <td>2</td>\n",
              "      <td>2</td>\n",
              "      <td>0</td>\n",
              "      <td>2017-01-01 00:00:00</td>\n",
              "      <td>0</td>\n",
              "      <td>Education</td>\n",
              "      <td>5376</td>\n",
              "      <td>NaN</td>\n",
              "      <td>17.8</td>\n",
              "      <td>11.7</td>\n",
              "      <td>1021.4</td>\n",
              "      <td>100.0</td>\n",
              "      <td>3.6</td>\n",
              "    </tr>\n",
              "    <tr>\n",
              "      <th>3</th>\n",
              "      <td>3</td>\n",
              "      <td>3</td>\n",
              "      <td>0</td>\n",
              "      <td>2017-01-01 00:00:00</td>\n",
              "      <td>0</td>\n",
              "      <td>Education</td>\n",
              "      <td>23685</td>\n",
              "      <td>NaN</td>\n",
              "      <td>17.8</td>\n",
              "      <td>11.7</td>\n",
              "      <td>1021.4</td>\n",
              "      <td>100.0</td>\n",
              "      <td>3.6</td>\n",
              "    </tr>\n",
              "    <tr>\n",
              "      <th>4</th>\n",
              "      <td>4</td>\n",
              "      <td>4</td>\n",
              "      <td>0</td>\n",
              "      <td>2017-01-01 00:00:00</td>\n",
              "      <td>0</td>\n",
              "      <td>Education</td>\n",
              "      <td>116607</td>\n",
              "      <td>NaN</td>\n",
              "      <td>17.8</td>\n",
              "      <td>11.7</td>\n",
              "      <td>1021.4</td>\n",
              "      <td>100.0</td>\n",
              "      <td>3.6</td>\n",
              "    </tr>\n",
              "  </tbody>\n",
              "</table>\n",
              "</div>"
            ],
            "text/plain": [
              "   row_id  building_id  meter  ... sea_level_pressure  wind_direction wind_speed\n",
              "0       0            0      0  ...             1021.4           100.0        3.6\n",
              "1       1            1      0  ...             1021.4           100.0        3.6\n",
              "2       2            2      0  ...             1021.4           100.0        3.6\n",
              "3       3            3      0  ...             1021.4           100.0        3.6\n",
              "4       4            4      0  ...             1021.4           100.0        3.6\n",
              "\n",
              "[5 rows x 13 columns]"
            ]
          },
          "metadata": {
            "tags": []
          },
          "execution_count": 42
        }
      ]
    },
    {
      "cell_type": "code",
      "metadata": {
        "id": "Er825yJmqcy5",
        "colab_type": "code",
        "colab": {}
      },
      "source": [
        "#df_test=df_test.fillna(-999)"
      ],
      "execution_count": 0,
      "outputs": []
    },
    {
      "cell_type": "code",
      "metadata": {
        "id": "rRdhjGqPLpBA",
        "colab_type": "code",
        "outputId": "9fa44b23-f4f7-47c9-a829-87a4f391f584",
        "colab": {
          "base_uri": "https://localhost:8080/",
          "height": 1000
        }
      },
      "source": [
        "df_test,NAlist=reduce_mem_usage(df_test)"
      ],
      "execution_count": 44,
      "outputs": [
        {
          "output_type": "stream",
          "text": [
            "Memory usage of properties dataframe is : 4453.7841796875  MB\n",
            "******************************\n",
            "Column:  row_id\n",
            "dtype before:  int64\n",
            "min for this col:  0\n",
            "max for this col:  41697599\n",
            "dtype after:  uint32\n",
            "******************************\n",
            "******************************\n",
            "Column:  building_id\n",
            "dtype before:  int64\n",
            "min for this col:  0\n",
            "max for this col:  1448\n",
            "dtype after:  uint16\n",
            "******************************\n",
            "******************************\n",
            "Column:  meter\n",
            "dtype before:  int64\n",
            "min for this col:  0\n",
            "max for this col:  3\n",
            "dtype after:  uint8\n",
            "******************************\n",
            "******************************\n",
            "Column:  site_id\n",
            "dtype before:  int64\n",
            "min for this col:  0\n",
            "max for this col:  15\n",
            "dtype after:  uint8\n",
            "******************************\n",
            "******************************\n",
            "Column:  square_feet\n",
            "dtype before:  int64\n",
            "min for this col:  283\n",
            "max for this col:  875000\n",
            "dtype after:  uint32\n",
            "******************************\n",
            "******************************\n",
            "Column:  floor_count\n",
            "dtype before:  float64\n",
            "min for this col:  1.0\n",
            "max for this col:  26.0\n",
            "dtype after:  uint8\n",
            "******************************\n",
            "******************************\n",
            "Column:  air_temperature\n",
            "dtype before:  float64\n",
            "min for this col:  -28.1\n",
            "max for this col:  48.3\n",
            "dtype after:  float32\n",
            "******************************\n",
            "******************************\n",
            "Column:  dew_temperature\n",
            "dtype before:  float64\n",
            "min for this col:  -31.6\n",
            "max for this col:  26.7\n",
            "dtype after:  float32\n",
            "******************************\n",
            "******************************\n",
            "Column:  sea_level_pressure\n",
            "dtype before:  float64\n",
            "min for this col:  972.0\n",
            "max for this col:  1050.1\n",
            "dtype after:  float32\n",
            "******************************\n",
            "******************************\n",
            "Column:  wind_direction\n",
            "dtype before:  float64\n",
            "min for this col:  0.0\n",
            "max for this col:  360.0\n",
            "dtype after:  uint16\n",
            "******************************\n",
            "******************************\n",
            "Column:  wind_speed\n",
            "dtype before:  float64\n",
            "min for this col:  0.0\n",
            "max for this col:  24.2\n",
            "dtype after:  float32\n",
            "******************************\n",
            "___MEMORY USAGE AFTER COMPLETION:___\n",
            "Memory usage is:  2187.1261596679688  MB\n",
            "This is  49.107142857142854 % of the initial size\n"
          ],
          "name": "stdout"
        }
      ]
    },
    {
      "cell_type": "code",
      "metadata": {
        "id": "_7cE6Qe0FMRU",
        "colab_type": "code",
        "colab": {}
      },
      "source": [
        "#transform object to categorical class\n",
        "df_test['primary_use']=le.transform(df_test['primary_use'])"
      ],
      "execution_count": 0,
      "outputs": []
    },
    {
      "cell_type": "code",
      "metadata": {
        "id": "1dowF6ZVFoj6",
        "colab_type": "code",
        "colab": {}
      },
      "source": [
        "#convert timestamp to datetime for df_test\n",
        "df_test['timestamp']=pd.to_datetime(df_test['timestamp'])\n",
        "df_test['hour']=df_test['timestamp'].dt.hour\n",
        "df_test['day']=df_test['timestamp'].dt.day\n",
        "df_test['month']=df_test['timestamp'].dt.month\n",
        "df_test['weekend']=df_test['timestamp'].dt.weekday\n",
        "df_test['year']=df_test['timestamp'].dt.year"
      ],
      "execution_count": 0,
      "outputs": []
    },
    {
      "cell_type": "code",
      "metadata": {
        "id": "KYsBcOP5F-n7",
        "colab_type": "code",
        "colab": {}
      },
      "source": [
        "df_test=df_test.drop('timestamp',axis=1)"
      ],
      "execution_count": 0,
      "outputs": []
    },
    {
      "cell_type": "code",
      "metadata": {
        "id": "7cKh6LW4LvGA",
        "colab_type": "code",
        "outputId": "466bbe3c-51ee-418a-dcd2-664b63794cc5",
        "colab": {
          "base_uri": "https://localhost:8080/",
          "height": 54
        }
      },
      "source": [
        "#create train & validation datasets\n",
        "from sklearn.model_selection import train_test_split\n",
        "X_train,X_val,y_train,y_val=train_test_split(df_train,target_labels,test_size=0.1,random_state=42)\n",
        "print(X_train.shape,y_train.shape)\n",
        "print(X_val.shape,y_val.shape)"
      ],
      "execution_count": 48,
      "outputs": [
        {
          "output_type": "stream",
          "text": [
            "(18194490, 16) (18194490,)\n",
            "(2021610, 16) (2021610,)\n"
          ],
          "name": "stdout"
        }
      ]
    },
    {
      "cell_type": "code",
      "metadata": {
        "id": "bqlCntH_NqgT",
        "colab_type": "code",
        "colab": {}
      },
      "source": [
        "#Build the lightgbm model\n",
        "import lightgbm as lgb\n",
        "import gc\n",
        "train_data=lgb.Dataset(X_train,label=y_train)\n",
        "validation_data=lgb.Dataset(X_val,label=y_val)\n"
      ],
      "execution_count": 0,
      "outputs": []
    },
    {
      "cell_type": "code",
      "metadata": {
        "id": "5UCrac42PJd0",
        "colab_type": "code",
        "colab": {}
      },
      "source": [
        "params={ 'obective':'regression',\n",
        "         'num_leaves':125,\n",
        "         'metric':'mae',\n",
        "         'num_rounds':1000,\n",
        "         'learning_rate':0.12,\n",
        "         'min_data_per_leaf':20,\n",
        "         'lamda_l2':0.01    \n",
        "}"
      ],
      "execution_count": 0,
      "outputs": []
    },
    {
      "cell_type": "code",
      "metadata": {
        "id": "xoFO5d56PVDs",
        "colab_type": "code",
        "outputId": "6fc89c6f-3a8f-4322-eb44-adab352cd493",
        "colab": {
          "base_uri": "https://localhost:8080/",
          "height": 1000
        }
      },
      "source": [
        "lgb_model=lgb.train(params,train_data,valid_sets=validation_data,early_stopping_rounds=100)"
      ],
      "execution_count": 51,
      "outputs": [
        {
          "output_type": "stream",
          "text": [
            "/usr/local/lib/python3.6/dist-packages/lightgbm/engine.py:118: UserWarning: Found `num_rounds` in params. Will use it instead of argument\n",
            "  warnings.warn(\"Found `{}` in params. Will use it instead of argument\".format(alias))\n"
          ],
          "name": "stderr"
        },
        {
          "output_type": "stream",
          "text": [
            "[1]\tvalid_0's l1: 3407.05\n",
            "Training until validation scores don't improve for 100 rounds.\n",
            "[2]\tvalid_0's l1: 3068.41\n",
            "[3]\tvalid_0's l1: 2775.38\n",
            "[4]\tvalid_0's l1: 2513.46\n",
            "[5]\tvalid_0's l1: 2287.45\n",
            "[6]\tvalid_0's l1: 2091.8\n",
            "[7]\tvalid_0's l1: 1924.54\n",
            "[8]\tvalid_0's l1: 1777.83\n",
            "[9]\tvalid_0's l1: 1647.8\n",
            "[10]\tvalid_0's l1: 1536.49\n",
            "[11]\tvalid_0's l1: 1441.4\n",
            "[12]\tvalid_0's l1: 1355.84\n",
            "[13]\tvalid_0's l1: 1284.94\n",
            "[14]\tvalid_0's l1: 1224.11\n",
            "[15]\tvalid_0's l1: 1171.2\n",
            "[16]\tvalid_0's l1: 1125.53\n",
            "[17]\tvalid_0's l1: 1086.9\n",
            "[18]\tvalid_0's l1: 1045.27\n",
            "[19]\tvalid_0's l1: 1015.73\n",
            "[20]\tvalid_0's l1: 991.846\n",
            "[21]\tvalid_0's l1: 970.683\n",
            "[22]\tvalid_0's l1: 939.482\n",
            "[23]\tvalid_0's l1: 915.149\n",
            "[24]\tvalid_0's l1: 893.481\n",
            "[25]\tvalid_0's l1: 871.43\n",
            "[26]\tvalid_0's l1: 850.994\n",
            "[27]\tvalid_0's l1: 838.448\n",
            "[28]\tvalid_0's l1: 821.844\n",
            "[29]\tvalid_0's l1: 811.156\n",
            "[30]\tvalid_0's l1: 796.142\n",
            "[31]\tvalid_0's l1: 783.448\n",
            "[32]\tvalid_0's l1: 769.676\n",
            "[33]\tvalid_0's l1: 757.095\n",
            "[34]\tvalid_0's l1: 746.845\n",
            "[35]\tvalid_0's l1: 741.16\n",
            "[36]\tvalid_0's l1: 733.739\n",
            "[37]\tvalid_0's l1: 724.4\n",
            "[38]\tvalid_0's l1: 717.381\n",
            "[39]\tvalid_0's l1: 708.325\n",
            "[40]\tvalid_0's l1: 704.097\n",
            "[41]\tvalid_0's l1: 695.559\n",
            "[42]\tvalid_0's l1: 690.915\n",
            "[43]\tvalid_0's l1: 687.35\n",
            "[44]\tvalid_0's l1: 677.148\n",
            "[45]\tvalid_0's l1: 663.371\n",
            "[46]\tvalid_0's l1: 660.614\n",
            "[47]\tvalid_0's l1: 656.348\n",
            "[48]\tvalid_0's l1: 651.025\n",
            "[49]\tvalid_0's l1: 645.112\n",
            "[50]\tvalid_0's l1: 640.592\n",
            "[51]\tvalid_0's l1: 632.77\n",
            "[52]\tvalid_0's l1: 625.515\n",
            "[53]\tvalid_0's l1: 618.879\n",
            "[54]\tvalid_0's l1: 615.225\n",
            "[55]\tvalid_0's l1: 610.908\n",
            "[56]\tvalid_0's l1: 605.086\n",
            "[57]\tvalid_0's l1: 602.129\n",
            "[58]\tvalid_0's l1: 596.919\n",
            "[59]\tvalid_0's l1: 592.46\n",
            "[60]\tvalid_0's l1: 589.018\n",
            "[61]\tvalid_0's l1: 585.168\n",
            "[62]\tvalid_0's l1: 585.681\n",
            "[63]\tvalid_0's l1: 580.417\n",
            "[64]\tvalid_0's l1: 575.066\n",
            "[65]\tvalid_0's l1: 573.651\n",
            "[66]\tvalid_0's l1: 574.378\n",
            "[67]\tvalid_0's l1: 570.845\n",
            "[68]\tvalid_0's l1: 569.902\n",
            "[69]\tvalid_0's l1: 566.894\n",
            "[70]\tvalid_0's l1: 563.505\n",
            "[71]\tvalid_0's l1: 560.916\n",
            "[72]\tvalid_0's l1: 560.266\n",
            "[73]\tvalid_0's l1: 560.469\n",
            "[74]\tvalid_0's l1: 559.744\n",
            "[75]\tvalid_0's l1: 557.919\n",
            "[76]\tvalid_0's l1: 554.622\n",
            "[77]\tvalid_0's l1: 554.903\n",
            "[78]\tvalid_0's l1: 553.657\n",
            "[79]\tvalid_0's l1: 552.459\n",
            "[80]\tvalid_0's l1: 549.164\n",
            "[81]\tvalid_0's l1: 549.898\n",
            "[82]\tvalid_0's l1: 550.272\n",
            "[83]\tvalid_0's l1: 548.04\n",
            "[84]\tvalid_0's l1: 545.783\n",
            "[85]\tvalid_0's l1: 542.873\n",
            "[86]\tvalid_0's l1: 541.023\n",
            "[87]\tvalid_0's l1: 539.763\n",
            "[88]\tvalid_0's l1: 539.938\n",
            "[89]\tvalid_0's l1: 539.859\n",
            "[90]\tvalid_0's l1: 538.293\n",
            "[91]\tvalid_0's l1: 538.828\n",
            "[92]\tvalid_0's l1: 537.722\n",
            "[93]\tvalid_0's l1: 537.08\n",
            "[94]\tvalid_0's l1: 535.174\n",
            "[95]\tvalid_0's l1: 533.44\n",
            "[96]\tvalid_0's l1: 531.518\n",
            "[97]\tvalid_0's l1: 529.604\n",
            "[98]\tvalid_0's l1: 530.045\n",
            "[99]\tvalid_0's l1: 528.672\n",
            "[100]\tvalid_0's l1: 527.125\n",
            "[101]\tvalid_0's l1: 527.903\n",
            "[102]\tvalid_0's l1: 524.867\n",
            "[103]\tvalid_0's l1: 525.143\n",
            "[104]\tvalid_0's l1: 522.055\n",
            "[105]\tvalid_0's l1: 522.558\n",
            "[106]\tvalid_0's l1: 520.661\n",
            "[107]\tvalid_0's l1: 517.358\n",
            "[108]\tvalid_0's l1: 516.173\n",
            "[109]\tvalid_0's l1: 514.483\n",
            "[110]\tvalid_0's l1: 514.273\n",
            "[111]\tvalid_0's l1: 513.14\n",
            "[112]\tvalid_0's l1: 513.301\n",
            "[113]\tvalid_0's l1: 513.371\n",
            "[114]\tvalid_0's l1: 511.767\n",
            "[115]\tvalid_0's l1: 511.077\n",
            "[116]\tvalid_0's l1: 509.99\n",
            "[117]\tvalid_0's l1: 509.365\n",
            "[118]\tvalid_0's l1: 509.267\n",
            "[119]\tvalid_0's l1: 508.847\n",
            "[120]\tvalid_0's l1: 508.382\n",
            "[121]\tvalid_0's l1: 508.006\n",
            "[122]\tvalid_0's l1: 505.742\n",
            "[123]\tvalid_0's l1: 505.237\n",
            "[124]\tvalid_0's l1: 505.578\n",
            "[125]\tvalid_0's l1: 505.383\n",
            "[126]\tvalid_0's l1: 505.323\n",
            "[127]\tvalid_0's l1: 505.003\n",
            "[128]\tvalid_0's l1: 503.833\n",
            "[129]\tvalid_0's l1: 502.566\n",
            "[130]\tvalid_0's l1: 501.893\n",
            "[131]\tvalid_0's l1: 501.637\n",
            "[132]\tvalid_0's l1: 501.932\n",
            "[133]\tvalid_0's l1: 501.278\n",
            "[134]\tvalid_0's l1: 500.183\n",
            "[135]\tvalid_0's l1: 499.256\n",
            "[136]\tvalid_0's l1: 498.483\n",
            "[137]\tvalid_0's l1: 499.048\n",
            "[138]\tvalid_0's l1: 498.827\n",
            "[139]\tvalid_0's l1: 497.683\n",
            "[140]\tvalid_0's l1: 496.742\n",
            "[141]\tvalid_0's l1: 496.899\n",
            "[142]\tvalid_0's l1: 496.329\n",
            "[143]\tvalid_0's l1: 494.929\n",
            "[144]\tvalid_0's l1: 495.322\n",
            "[145]\tvalid_0's l1: 494.118\n",
            "[146]\tvalid_0's l1: 493.328\n",
            "[147]\tvalid_0's l1: 493.401\n",
            "[148]\tvalid_0's l1: 492.977\n",
            "[149]\tvalid_0's l1: 492.577\n",
            "[150]\tvalid_0's l1: 491.977\n",
            "[151]\tvalid_0's l1: 492.291\n",
            "[152]\tvalid_0's l1: 492.436\n",
            "[153]\tvalid_0's l1: 491.254\n",
            "[154]\tvalid_0's l1: 491.395\n",
            "[155]\tvalid_0's l1: 491.593\n",
            "[156]\tvalid_0's l1: 491.924\n",
            "[157]\tvalid_0's l1: 491.849\n",
            "[158]\tvalid_0's l1: 492.212\n",
            "[159]\tvalid_0's l1: 491.343\n",
            "[160]\tvalid_0's l1: 490.015\n",
            "[161]\tvalid_0's l1: 488.716\n",
            "[162]\tvalid_0's l1: 488.471\n",
            "[163]\tvalid_0's l1: 488.149\n",
            "[164]\tvalid_0's l1: 486.601\n",
            "[165]\tvalid_0's l1: 484.533\n",
            "[166]\tvalid_0's l1: 484.268\n",
            "[167]\tvalid_0's l1: 484.137\n",
            "[168]\tvalid_0's l1: 482.334\n",
            "[169]\tvalid_0's l1: 482.713\n",
            "[170]\tvalid_0's l1: 482.782\n",
            "[171]\tvalid_0's l1: 483.097\n",
            "[172]\tvalid_0's l1: 482.869\n",
            "[173]\tvalid_0's l1: 483.101\n",
            "[174]\tvalid_0's l1: 483.339\n",
            "[175]\tvalid_0's l1: 483.447\n",
            "[176]\tvalid_0's l1: 482.19\n",
            "[177]\tvalid_0's l1: 482.274\n",
            "[178]\tvalid_0's l1: 481.536\n",
            "[179]\tvalid_0's l1: 480.928\n",
            "[180]\tvalid_0's l1: 481.217\n",
            "[181]\tvalid_0's l1: 481.997\n",
            "[182]\tvalid_0's l1: 481.971\n",
            "[183]\tvalid_0's l1: 480.617\n",
            "[184]\tvalid_0's l1: 480.13\n",
            "[185]\tvalid_0's l1: 480.379\n",
            "[186]\tvalid_0's l1: 479.982\n",
            "[187]\tvalid_0's l1: 479.67\n",
            "[188]\tvalid_0's l1: 479.204\n",
            "[189]\tvalid_0's l1: 479.625\n",
            "[190]\tvalid_0's l1: 478.696\n",
            "[191]\tvalid_0's l1: 478.926\n",
            "[192]\tvalid_0's l1: 478.516\n",
            "[193]\tvalid_0's l1: 479.162\n",
            "[194]\tvalid_0's l1: 479.312\n",
            "[195]\tvalid_0's l1: 479.454\n",
            "[196]\tvalid_0's l1: 479.98\n",
            "[197]\tvalid_0's l1: 479.396\n",
            "[198]\tvalid_0's l1: 479.814\n",
            "[199]\tvalid_0's l1: 479.588\n",
            "[200]\tvalid_0's l1: 479.218\n",
            "[201]\tvalid_0's l1: 479.043\n",
            "[202]\tvalid_0's l1: 479.204\n",
            "[203]\tvalid_0's l1: 479.194\n",
            "[204]\tvalid_0's l1: 478.594\n",
            "[205]\tvalid_0's l1: 478.572\n",
            "[206]\tvalid_0's l1: 478.636\n",
            "[207]\tvalid_0's l1: 477.873\n",
            "[208]\tvalid_0's l1: 477.843\n",
            "[209]\tvalid_0's l1: 477.722\n",
            "[210]\tvalid_0's l1: 477.303\n",
            "[211]\tvalid_0's l1: 477.477\n",
            "[212]\tvalid_0's l1: 477.482\n",
            "[213]\tvalid_0's l1: 476.905\n",
            "[214]\tvalid_0's l1: 477.175\n",
            "[215]\tvalid_0's l1: 477.213\n",
            "[216]\tvalid_0's l1: 476.928\n",
            "[217]\tvalid_0's l1: 476.231\n",
            "[218]\tvalid_0's l1: 476.461\n",
            "[219]\tvalid_0's l1: 475.453\n",
            "[220]\tvalid_0's l1: 475.751\n",
            "[221]\tvalid_0's l1: 475.805\n",
            "[222]\tvalid_0's l1: 475.895\n",
            "[223]\tvalid_0's l1: 476.128\n",
            "[224]\tvalid_0's l1: 476.189\n",
            "[225]\tvalid_0's l1: 476.549\n",
            "[226]\tvalid_0's l1: 476.575\n",
            "[227]\tvalid_0's l1: 476.137\n",
            "[228]\tvalid_0's l1: 476.616\n",
            "[229]\tvalid_0's l1: 476.498\n",
            "[230]\tvalid_0's l1: 475.597\n",
            "[231]\tvalid_0's l1: 474.886\n",
            "[232]\tvalid_0's l1: 474.962\n",
            "[233]\tvalid_0's l1: 474.277\n",
            "[234]\tvalid_0's l1: 474.643\n",
            "[235]\tvalid_0's l1: 474.918\n",
            "[236]\tvalid_0's l1: 475.302\n",
            "[237]\tvalid_0's l1: 474.95\n",
            "[238]\tvalid_0's l1: 474.644\n",
            "[239]\tvalid_0's l1: 474.298\n",
            "[240]\tvalid_0's l1: 473.792\n",
            "[241]\tvalid_0's l1: 473.797\n",
            "[242]\tvalid_0's l1: 473.932\n",
            "[243]\tvalid_0's l1: 473.822\n",
            "[244]\tvalid_0's l1: 473.522\n",
            "[245]\tvalid_0's l1: 472.685\n",
            "[246]\tvalid_0's l1: 472.811\n",
            "[247]\tvalid_0's l1: 472.779\n",
            "[248]\tvalid_0's l1: 472.724\n",
            "[249]\tvalid_0's l1: 472.794\n",
            "[250]\tvalid_0's l1: 472.931\n",
            "[251]\tvalid_0's l1: 473.256\n",
            "[252]\tvalid_0's l1: 473.105\n",
            "[253]\tvalid_0's l1: 472.992\n",
            "[254]\tvalid_0's l1: 472.848\n",
            "[255]\tvalid_0's l1: 472.71\n",
            "[256]\tvalid_0's l1: 472.919\n",
            "[257]\tvalid_0's l1: 472.999\n",
            "[258]\tvalid_0's l1: 473.014\n",
            "[259]\tvalid_0's l1: 472.661\n",
            "[260]\tvalid_0's l1: 471.898\n",
            "[261]\tvalid_0's l1: 471.263\n",
            "[262]\tvalid_0's l1: 471.086\n",
            "[263]\tvalid_0's l1: 471.184\n",
            "[264]\tvalid_0's l1: 471.176\n",
            "[265]\tvalid_0's l1: 471.332\n",
            "[266]\tvalid_0's l1: 471.33\n",
            "[267]\tvalid_0's l1: 471.427\n",
            "[268]\tvalid_0's l1: 471.712\n",
            "[269]\tvalid_0's l1: 472.107\n",
            "[270]\tvalid_0's l1: 471.951\n",
            "[271]\tvalid_0's l1: 472.361\n",
            "[272]\tvalid_0's l1: 472.177\n",
            "[273]\tvalid_0's l1: 472.53\n",
            "[274]\tvalid_0's l1: 472.465\n",
            "[275]\tvalid_0's l1: 472.456\n",
            "[276]\tvalid_0's l1: 472.317\n",
            "[277]\tvalid_0's l1: 472.432\n",
            "[278]\tvalid_0's l1: 472.381\n",
            "[279]\tvalid_0's l1: 472.098\n",
            "[280]\tvalid_0's l1: 471.852\n",
            "[281]\tvalid_0's l1: 471.283\n",
            "[282]\tvalid_0's l1: 471.181\n",
            "[283]\tvalid_0's l1: 471.161\n",
            "[284]\tvalid_0's l1: 470.916\n",
            "[285]\tvalid_0's l1: 470.517\n",
            "[286]\tvalid_0's l1: 470.246\n",
            "[287]\tvalid_0's l1: 470.462\n",
            "[288]\tvalid_0's l1: 470.309\n",
            "[289]\tvalid_0's l1: 470.304\n",
            "[290]\tvalid_0's l1: 470.497\n",
            "[291]\tvalid_0's l1: 470.182\n",
            "[292]\tvalid_0's l1: 470.278\n",
            "[293]\tvalid_0's l1: 470.091\n",
            "[294]\tvalid_0's l1: 469.868\n",
            "[295]\tvalid_0's l1: 469.393\n",
            "[296]\tvalid_0's l1: 469.023\n",
            "[297]\tvalid_0's l1: 468.989\n",
            "[298]\tvalid_0's l1: 468.785\n",
            "[299]\tvalid_0's l1: 468.633\n",
            "[300]\tvalid_0's l1: 468.394\n",
            "[301]\tvalid_0's l1: 467.84\n",
            "[302]\tvalid_0's l1: 467.965\n",
            "[303]\tvalid_0's l1: 468.15\n",
            "[304]\tvalid_0's l1: 468.232\n",
            "[305]\tvalid_0's l1: 468.105\n",
            "[306]\tvalid_0's l1: 468.101\n",
            "[307]\tvalid_0's l1: 468.018\n",
            "[308]\tvalid_0's l1: 468.37\n",
            "[309]\tvalid_0's l1: 467.935\n",
            "[310]\tvalid_0's l1: 468.292\n",
            "[311]\tvalid_0's l1: 468.494\n",
            "[312]\tvalid_0's l1: 468.857\n",
            "[313]\tvalid_0's l1: 468.819\n",
            "[314]\tvalid_0's l1: 468.75\n",
            "[315]\tvalid_0's l1: 468.272\n",
            "[316]\tvalid_0's l1: 467.94\n",
            "[317]\tvalid_0's l1: 467.973\n",
            "[318]\tvalid_0's l1: 467.808\n",
            "[319]\tvalid_0's l1: 468.021\n",
            "[320]\tvalid_0's l1: 468.113\n",
            "[321]\tvalid_0's l1: 467.982\n",
            "[322]\tvalid_0's l1: 467.451\n",
            "[323]\tvalid_0's l1: 467.254\n",
            "[324]\tvalid_0's l1: 467.104\n",
            "[325]\tvalid_0's l1: 466.694\n",
            "[326]\tvalid_0's l1: 466.934\n",
            "[327]\tvalid_0's l1: 467.235\n",
            "[328]\tvalid_0's l1: 467.136\n",
            "[329]\tvalid_0's l1: 467.068\n",
            "[330]\tvalid_0's l1: 467.266\n",
            "[331]\tvalid_0's l1: 467.151\n",
            "[332]\tvalid_0's l1: 467.215\n",
            "[333]\tvalid_0's l1: 467.263\n",
            "[334]\tvalid_0's l1: 467.018\n",
            "[335]\tvalid_0's l1: 467.112\n",
            "[336]\tvalid_0's l1: 466.952\n",
            "[337]\tvalid_0's l1: 467.17\n",
            "[338]\tvalid_0's l1: 467.235\n",
            "[339]\tvalid_0's l1: 467.314\n",
            "[340]\tvalid_0's l1: 467.421\n",
            "[341]\tvalid_0's l1: 467.362\n",
            "[342]\tvalid_0's l1: 467.302\n",
            "[343]\tvalid_0's l1: 467.016\n",
            "[344]\tvalid_0's l1: 467.212\n",
            "[345]\tvalid_0's l1: 467.322\n",
            "[346]\tvalid_0's l1: 467.178\n",
            "[347]\tvalid_0's l1: 467.126\n",
            "[348]\tvalid_0's l1: 467.717\n",
            "[349]\tvalid_0's l1: 467.638\n",
            "[350]\tvalid_0's l1: 467.701\n",
            "[351]\tvalid_0's l1: 467.518\n",
            "[352]\tvalid_0's l1: 467.704\n",
            "[353]\tvalid_0's l1: 467.678\n",
            "[354]\tvalid_0's l1: 467.764\n",
            "[355]\tvalid_0's l1: 467.726\n",
            "[356]\tvalid_0's l1: 467.835\n",
            "[357]\tvalid_0's l1: 467.559\n",
            "[358]\tvalid_0's l1: 467.468\n",
            "[359]\tvalid_0's l1: 467.637\n",
            "[360]\tvalid_0's l1: 467.562\n",
            "[361]\tvalid_0's l1: 467.444\n",
            "[362]\tvalid_0's l1: 468.023\n",
            "[363]\tvalid_0's l1: 468.009\n",
            "[364]\tvalid_0's l1: 468.015\n",
            "[365]\tvalid_0's l1: 468.011\n",
            "[366]\tvalid_0's l1: 467.9\n",
            "[367]\tvalid_0's l1: 468.28\n",
            "[368]\tvalid_0's l1: 468.523\n",
            "[369]\tvalid_0's l1: 468.405\n",
            "[370]\tvalid_0's l1: 468.974\n",
            "[371]\tvalid_0's l1: 469.002\n",
            "[372]\tvalid_0's l1: 468.801\n",
            "[373]\tvalid_0's l1: 468.732\n",
            "[374]\tvalid_0's l1: 468.862\n",
            "[375]\tvalid_0's l1: 468.741\n",
            "[376]\tvalid_0's l1: 468.877\n",
            "[377]\tvalid_0's l1: 469.137\n",
            "[378]\tvalid_0's l1: 469.067\n",
            "[379]\tvalid_0's l1: 469.199\n",
            "[380]\tvalid_0's l1: 468.987\n",
            "[381]\tvalid_0's l1: 468.987\n",
            "[382]\tvalid_0's l1: 468.854\n",
            "[383]\tvalid_0's l1: 469.082\n",
            "[384]\tvalid_0's l1: 468.797\n",
            "[385]\tvalid_0's l1: 468.602\n",
            "[386]\tvalid_0's l1: 468.561\n",
            "[387]\tvalid_0's l1: 468.5\n",
            "[388]\tvalid_0's l1: 468.471\n",
            "[389]\tvalid_0's l1: 468.779\n",
            "[390]\tvalid_0's l1: 468.619\n",
            "[391]\tvalid_0's l1: 468.448\n",
            "[392]\tvalid_0's l1: 468.147\n",
            "[393]\tvalid_0's l1: 468.524\n",
            "[394]\tvalid_0's l1: 468.567\n",
            "[395]\tvalid_0's l1: 468.52\n",
            "[396]\tvalid_0's l1: 468.495\n",
            "[397]\tvalid_0's l1: 468.556\n",
            "[398]\tvalid_0's l1: 468.405\n",
            "[399]\tvalid_0's l1: 468.43\n",
            "[400]\tvalid_0's l1: 468.319\n",
            "[401]\tvalid_0's l1: 468.228\n",
            "[402]\tvalid_0's l1: 468.305\n",
            "[403]\tvalid_0's l1: 468.277\n",
            "[404]\tvalid_0's l1: 468.368\n",
            "[405]\tvalid_0's l1: 468.198\n",
            "[406]\tvalid_0's l1: 468.065\n",
            "[407]\tvalid_0's l1: 468.051\n",
            "[408]\tvalid_0's l1: 467.896\n",
            "[409]\tvalid_0's l1: 467.854\n",
            "[410]\tvalid_0's l1: 467.801\n",
            "[411]\tvalid_0's l1: 467.841\n",
            "[412]\tvalid_0's l1: 467.415\n",
            "[413]\tvalid_0's l1: 467.487\n",
            "[414]\tvalid_0's l1: 467.412\n",
            "[415]\tvalid_0's l1: 467.376\n",
            "[416]\tvalid_0's l1: 467.312\n",
            "[417]\tvalid_0's l1: 467.414\n",
            "[418]\tvalid_0's l1: 467.313\n",
            "[419]\tvalid_0's l1: 467.681\n",
            "[420]\tvalid_0's l1: 467.557\n",
            "[421]\tvalid_0's l1: 467.425\n",
            "[422]\tvalid_0's l1: 467.405\n",
            "[423]\tvalid_0's l1: 467.343\n",
            "[424]\tvalid_0's l1: 467.283\n",
            "[425]\tvalid_0's l1: 467.559\n",
            "Early stopping, best iteration is:\n",
            "[325]\tvalid_0's l1: 466.694\n"
          ],
          "name": "stdout"
        }
      ]
    },
    {
      "cell_type": "code",
      "metadata": {
        "id": "zIvUjripERq2",
        "colab_type": "code",
        "outputId": "c4c00890-98da-4b52-ec4d-e98294df5f92",
        "colab": {
          "base_uri": "https://localhost:8080/",
          "height": 35
        }
      },
      "source": [
        "lgb_model.save_model('lgb_model.txt')"
      ],
      "execution_count": 52,
      "outputs": [
        {
          "output_type": "execute_result",
          "data": {
            "text/plain": [
              "<lightgbm.basic.Booster at 0x7fbce9d25470>"
            ]
          },
          "metadata": {
            "tags": []
          },
          "execution_count": 52
        }
      ]
    },
    {
      "cell_type": "code",
      "metadata": {
        "id": "KqbDRkowEbzS",
        "colab_type": "code",
        "colab": {}
      },
      "source": [
        "lgb_json=lgb_model.dump_model()"
      ],
      "execution_count": 0,
      "outputs": []
    },
    {
      "cell_type": "code",
      "metadata": {
        "id": "IgsmlcE6dy3F",
        "colab_type": "code",
        "colab": {}
      },
      "source": [
        "y_predict=lgb_model.predict(df_test)"
      ],
      "execution_count": 0,
      "outputs": []
    },
    {
      "cell_type": "code",
      "metadata": {
        "id": "799G0cWVLo3N",
        "colab_type": "code",
        "outputId": "319b6d8f-adbf-46d1-c06f-d66dad546ac8",
        "colab": {
          "base_uri": "https://localhost:8080/",
          "height": 206
        }
      },
      "source": [
        "lgb=pd.read_csv('sample_submission.csv')\n",
        "lgb.head()"
      ],
      "execution_count": 55,
      "outputs": [
        {
          "output_type": "execute_result",
          "data": {
            "text/html": [
              "<div>\n",
              "<style scoped>\n",
              "    .dataframe tbody tr th:only-of-type {\n",
              "        vertical-align: middle;\n",
              "    }\n",
              "\n",
              "    .dataframe tbody tr th {\n",
              "        vertical-align: top;\n",
              "    }\n",
              "\n",
              "    .dataframe thead th {\n",
              "        text-align: right;\n",
              "    }\n",
              "</style>\n",
              "<table border=\"1\" class=\"dataframe\">\n",
              "  <thead>\n",
              "    <tr style=\"text-align: right;\">\n",
              "      <th></th>\n",
              "      <th>row_id</th>\n",
              "      <th>meter_reading</th>\n",
              "    </tr>\n",
              "  </thead>\n",
              "  <tbody>\n",
              "    <tr>\n",
              "      <th>0</th>\n",
              "      <td>0</td>\n",
              "      <td>0</td>\n",
              "    </tr>\n",
              "    <tr>\n",
              "      <th>1</th>\n",
              "      <td>1</td>\n",
              "      <td>0</td>\n",
              "    </tr>\n",
              "    <tr>\n",
              "      <th>2</th>\n",
              "      <td>2</td>\n",
              "      <td>0</td>\n",
              "    </tr>\n",
              "    <tr>\n",
              "      <th>3</th>\n",
              "      <td>3</td>\n",
              "      <td>0</td>\n",
              "    </tr>\n",
              "    <tr>\n",
              "      <th>4</th>\n",
              "      <td>4</td>\n",
              "      <td>0</td>\n",
              "    </tr>\n",
              "  </tbody>\n",
              "</table>\n",
              "</div>"
            ],
            "text/plain": [
              "   row_id  meter_reading\n",
              "0       0              0\n",
              "1       1              0\n",
              "2       2              0\n",
              "3       3              0\n",
              "4       4              0"
            ]
          },
          "metadata": {
            "tags": []
          },
          "execution_count": 55
        }
      ]
    },
    {
      "cell_type": "code",
      "metadata": {
        "id": "etMs4HupNK5l",
        "colab_type": "code",
        "colab": {}
      },
      "source": [
        "lgb['meter_reading']=y_predict"
      ],
      "execution_count": 0,
      "outputs": []
    },
    {
      "cell_type": "code",
      "metadata": {
        "id": "LSpPKfnhILCd",
        "colab_type": "code",
        "outputId": "39135b0b-7b9b-4704-aae5-e5f72b98d5b0",
        "colab": {
          "base_uri": "https://localhost:8080/",
          "height": 348
        }
      },
      "source": [
        "lgb,NAlist=reduce_mem_usage(lgb)"
      ],
      "execution_count": 57,
      "outputs": [
        {
          "output_type": "stream",
          "text": [
            "Memory usage of properties dataframe is : 636.2550048828125  MB\n",
            "******************************\n",
            "Column:  row_id\n",
            "dtype before:  int64\n",
            "min for this col:  0\n",
            "max for this col:  41697599\n",
            "dtype after:  uint32\n",
            "******************************\n",
            "******************************\n",
            "Column:  meter_reading\n",
            "dtype before:  float64\n",
            "min for this col:  -526.3532351150725\n",
            "max for this col:  53982.07161826538\n",
            "dtype after:  float32\n",
            "******************************\n",
            "___MEMORY USAGE AFTER COMPLETION:___\n",
            "Memory usage is:  318.1275634765625  MB\n",
            "This is  50.00000959287641 % of the initial size\n"
          ],
          "name": "stdout"
        }
      ]
    },
    {
      "cell_type": "code",
      "metadata": {
        "id": "qFQYE0gFMQZH",
        "colab_type": "code",
        "outputId": "639d0ead-eef9-4350-ba9f-11fec92ba5f0",
        "colab": {
          "base_uri": "https://localhost:8080/",
          "height": 206
        }
      },
      "source": [
        "lgb.head()"
      ],
      "execution_count": 58,
      "outputs": [
        {
          "output_type": "execute_result",
          "data": {
            "text/html": [
              "<div>\n",
              "<style scoped>\n",
              "    .dataframe tbody tr th:only-of-type {\n",
              "        vertical-align: middle;\n",
              "    }\n",
              "\n",
              "    .dataframe tbody tr th {\n",
              "        vertical-align: top;\n",
              "    }\n",
              "\n",
              "    .dataframe thead th {\n",
              "        text-align: right;\n",
              "    }\n",
              "</style>\n",
              "<table border=\"1\" class=\"dataframe\">\n",
              "  <thead>\n",
              "    <tr style=\"text-align: right;\">\n",
              "      <th></th>\n",
              "      <th>row_id</th>\n",
              "      <th>meter_reading</th>\n",
              "    </tr>\n",
              "  </thead>\n",
              "  <tbody>\n",
              "    <tr>\n",
              "      <th>0</th>\n",
              "      <td>0</td>\n",
              "      <td>-329.645721</td>\n",
              "    </tr>\n",
              "    <tr>\n",
              "      <th>1</th>\n",
              "      <td>1</td>\n",
              "      <td>1378.805908</td>\n",
              "    </tr>\n",
              "    <tr>\n",
              "      <th>2</th>\n",
              "      <td>2</td>\n",
              "      <td>1680.924805</td>\n",
              "    </tr>\n",
              "    <tr>\n",
              "      <th>3</th>\n",
              "      <td>3</td>\n",
              "      <td>787.752991</td>\n",
              "    </tr>\n",
              "    <tr>\n",
              "      <th>4</th>\n",
              "      <td>4</td>\n",
              "      <td>787.752991</td>\n",
              "    </tr>\n",
              "  </tbody>\n",
              "</table>\n",
              "</div>"
            ],
            "text/plain": [
              "   row_id  meter_reading\n",
              "0       0    -329.645721\n",
              "1       1    1378.805908\n",
              "2       2    1680.924805\n",
              "3       3     787.752991\n",
              "4       4     787.752991"
            ]
          },
          "metadata": {
            "tags": []
          },
          "execution_count": 58
        }
      ]
    },
    {
      "cell_type": "code",
      "metadata": {
        "id": "vQ2wBqpBIPqd",
        "colab_type": "code",
        "colab": {}
      },
      "source": [
        "lgb.to_csv('lgb_submission_2.csv',index=False)"
      ],
      "execution_count": 0,
      "outputs": []
    },
    {
      "cell_type": "code",
      "metadata": {
        "id": "YTSulWWJQj-R",
        "colab_type": "code",
        "colab": {}
      },
      "source": [
        "from google.colab import drive\n",
        "drive.mount('/content/drive')"
      ],
      "execution_count": 0,
      "outputs": []
    },
    {
      "cell_type": "code",
      "metadata": {
        "id": "SZpLT2n1Jhqd",
        "colab_type": "code",
        "colab": {}
      },
      "source": [
        "cp lgb_submission_2.csv '/content/drive/My Drive/Colab Notebooks'"
      ],
      "execution_count": 0,
      "outputs": []
    }
  ]
}